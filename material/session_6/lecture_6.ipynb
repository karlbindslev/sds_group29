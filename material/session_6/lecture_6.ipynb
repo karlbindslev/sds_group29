{
 "cells": [
  {
   "cell_type": "markdown",
   "metadata": {
    "slideshow": {
     "slide_type": "slide"
    }
   },
   "source": [
    "# Data structuring, part 2\n",
    "\n",
    "### The Pandas way\n",
    "\n",
    "*Andreas Bjerre-Nielsen*"
   ]
  },
  {
   "cell_type": "markdown",
   "metadata": {
    "slideshow": {
     "slide_type": "slide"
    }
   },
   "source": [
    "## Recap\n",
    "\n",
    "*What do we know about explanatory plotting?*\n",
    "\n",
    "- Eye candy, self-explanatory\n",
    "- Minimal (only the necessary), layered grammer of graphics\n",
    "- Be aware of message\n",
    "\n",
    "*What do we know about exploratory plotting?*\n",
    "\n",
    "- seaborn is very good, "
   ]
  },
  {
   "cell_type": "markdown",
   "metadata": {
    "slideshow": {
     "slide_type": "slide"
    }
   },
   "source": [
    "## Motivation\n",
    "*Reminder: Why do we want to learn data structuring?*\n",
    "\n",
    "- We have to do it, data is almost never cleaned\n",
    "- No one can and will do it for us\n",
    "- Even as a manager of data scientists - we need to know"
   ]
  },
  {
   "cell_type": "markdown",
   "metadata": {
    "slideshow": {
     "slide_type": "slide"
    }
   },
   "source": [
    "## Agenda\n",
    "We will learn about new data types \n",
    "1. [string  data](#String-data)\n",
    "1. [temporal data](#Temporal-data)\n",
    "1. [missing data](#Missing-data) \n",
    "1. [useful tools](#Useful-tools)"
   ]
  },
  {
   "cell_type": "markdown",
   "metadata": {
    "slideshow": {
     "slide_type": "slide"
    }
   },
   "source": [
    "## Loading the software"
   ]
  },
  {
   "cell_type": "code",
   "execution_count": 1,
   "metadata": {
    "slideshow": {
     "slide_type": "-"
    }
   },
   "outputs": [],
   "source": [
    "import matplotlib.pyplot as plt\n",
    "import numpy as np\n",
    "import pandas as pd\n",
    "import seaborn as sns\n",
    "\n",
    "%matplotlib inline"
   ]
  },
  {
   "cell_type": "markdown",
   "metadata": {
    "slideshow": {
     "slide_type": "slide"
    }
   },
   "source": [
    "# String data"
   ]
  },
  {
   "cell_type": "markdown",
   "metadata": {
    "slideshow": {
     "slide_type": "slide"
    }
   },
   "source": [
    "## String operations vectorized (1)\n",
    "*Quiz: Which operators could work for string?*"
   ]
  },
  {
   "cell_type": "markdown",
   "metadata": {
    "slideshow": {
     "slide_type": "fragment"
    }
   },
   "source": [
    "Operators **+**, **+=**. Example:"
   ]
  },
  {
   "cell_type": "code",
   "execution_count": 2,
   "metadata": {
    "slideshow": {
     "slide_type": "-"
    }
   },
   "outputs": [],
   "source": [
    "str_ser1 = pd.Series(['Andreas', 'Snorre', 'Ulf'])"
   ]
  },
  {
   "cell_type": "code",
   "execution_count": 3,
   "metadata": {
    "slideshow": {
     "slide_type": "-"
    }
   },
   "outputs": [
    {
     "data": {
      "text/plain": [
       "0    Andreas works @ SODAS\n",
       "1     Snorre works @ SODAS\n",
       "2        Ulf works @ SODAS\n",
       "dtype: object"
      ]
     },
     "execution_count": 3,
     "metadata": {},
     "output_type": "execute_result"
    }
   ],
   "source": [
    "str_ser1 + ' works @ SODAS'"
   ]
  },
  {
   "cell_type": "markdown",
   "metadata": {
    "slideshow": {
     "slide_type": "slide"
    }
   },
   "source": [
    "## String operations vectorized (2)\n",
    "Addition also work for two series"
   ]
  },
  {
   "cell_type": "code",
   "execution_count": 5,
   "metadata": {
    "slideshow": {
     "slide_type": "-"
    }
   },
   "outputs": [
    {
     "data": {
      "text/plain": [
       "0    Andreas Bjerre-Nielsen\n",
       "1             Snorre Ralund\n",
       "2                 Ulf Aslak\n",
       "dtype: object"
      ]
     },
     "execution_count": 5,
     "metadata": {},
     "output_type": "execute_result"
    }
   ],
   "source": [
    "# adding two series together is also possible\n",
    "str_ser2 = pd.Series(['Bjerre-Nielsen', 'Ralund', 'Aslak'])\n",
    "str_ser1 + ' ' + str_ser2 "
   ]
  },
  {
   "cell_type": "markdown",
   "metadata": {
    "slideshow": {
     "slide_type": "slide"
    }
   },
   "source": [
    "## String operations vectorized (3)\n",
    "The powerful .str has several powerful methods e.g. `contains`, `capitalize`. Example:"
   ]
  },
  {
   "cell_type": "code",
   "execution_count": 8,
   "metadata": {
    "slideshow": {
     "slide_type": "-"
    }
   },
   "outputs": [
    {
     "data": {
      "text/plain": [
       "0     True\n",
       "1     True\n",
       "2    False\n",
       "dtype: bool"
      ]
     },
     "execution_count": 8,
     "metadata": {},
     "output_type": "execute_result"
    }
   ],
   "source": [
    "str_ser1.str.upper()\n",
    "str_ser1.str.contains('e')"
   ]
  },
  {
   "cell_type": "markdown",
   "metadata": {
    "slideshow": {
     "slide_type": "slide"
    }
   },
   "source": [
    "## String operations vectorized (4)"
   ]
  },
  {
   "cell_type": "markdown",
   "metadata": {
    "slideshow": {
     "slide_type": "-"
    }
   },
   "source": [
    "The .str methods include slicing - example: "
   ]
  },
  {
   "cell_type": "code",
   "execution_count": 10,
   "metadata": {
    "slideshow": {
     "slide_type": "-"
    }
   },
   "outputs": [
    {
     "data": {
      "text/plain": [
       "0    jer\n",
       "1    alu\n",
       "2    sla\n",
       "dtype: object"
      ]
     },
     "execution_count": 10,
     "metadata": {},
     "output_type": "execute_result"
    }
   ],
   "source": [
    "str_ser2.str[1:4]"
   ]
  },
  {
   "cell_type": "markdown",
   "metadata": {
    "slideshow": {
     "slide_type": "slide"
    }
   },
   "source": [
    "## String operations vectorized (5)\n",
    "\n",
    "Many more `str` methods in pandas,\n",
    "- most basic strings methods translate directly\n",
    "- see Table 7-5 in PDA for an overview\n"
   ]
  },
  {
   "cell_type": "markdown",
   "metadata": {
    "slideshow": {
     "slide_type": "slide"
    }
   },
   "source": [
    "## Categorical data type (1)\n",
    "*Are string columns smart for storage and speed?*"
   ]
  },
  {
   "cell_type": "markdown",
   "metadata": {
    "slideshow": {
     "slide_type": "fragment"
    }
   },
   "source": [
    "No, sometimes it is better to convert to categorical data type:\n",
    "- use categorical when many characters and repeated."
   ]
  },
  {
   "cell_type": "markdown",
   "metadata": {
    "slideshow": {
     "slide_type": "slide"
    }
   },
   "source": [
    "## Categorical data type (2)\n",
    "*How do we convert to categorical?*"
   ]
  },
  {
   "cell_type": "code",
   "execution_count": 17,
   "metadata": {
    "slideshow": {
     "slide_type": "fragment"
    }
   },
   "outputs": [
    {
     "data": {
      "text/plain": [
       "B.Sc. Political Science    B.Sc. Political Science\n",
       "Secondary school                  Secondary school\n",
       "High school                            High school\n",
       "High school                            High school\n",
       "dtype: category\n",
       "Categories (3, object): [Secondary school < High school < B.Sc. Political Science]"
      ]
     },
     "execution_count": 17,
     "metadata": {},
     "output_type": "execute_result"
    }
   ],
   "source": [
    "edu_list = ['B.Sc. Political Science', 'Secondary school'] + ['High school']*2\n",
    "edu_cats = ['Secondary school', 'High school', 'B.Sc. Political Science']\n",
    "str_ser3 = pd.Series(edu_list)\n",
    "\n",
    "# option 1\n",
    "cats = pd.Categorical(str_ser3, categories=edu_cats, ordered=True)\n",
    "cat_ser = pd.Series(cats, index=str_ser3)\n",
    "\n",
    "# option 2 - no order - fast\n",
    "cat_ser2 = str_ser3.astype('category')"
   ]
  },
  {
   "cell_type": "markdown",
   "metadata": {
    "slideshow": {
     "slide_type": "slide"
    }
   },
   "source": [
    "## Categorical data type (3)\n",
    "*How do we work with categorical data?*"
   ]
  },
  {
   "cell_type": "markdown",
   "metadata": {
    "slideshow": {
     "slide_type": "fragment"
    }
   },
   "source": [
    "- Using the `cat` attribute of series. Has a few methods. E.g. `.cat.codes`"
   ]
  },
  {
   "cell_type": "code",
   "execution_count": 18,
   "metadata": {
    "slideshow": {
     "slide_type": "-"
    }
   },
   "outputs": [
    {
     "name": "stdout",
     "output_type": "stream",
     "text": [
      "B.Sc. Political Science    B.Sc. Political Science\n",
      "Secondary school                  Secondary school\n",
      "High school                            High school\n",
      "High school                            High school\n",
      "dtype: category\n",
      "Categories (3, object): [Secondary school < High school < B.Sc. Political Science]\n",
      "\n",
      "B.Sc. Political Science    2\n",
      "Secondary school           0\n",
      "High school                1\n",
      "High school                1\n",
      "dtype: int8\n"
     ]
    }
   ],
   "source": [
    "print(cat_ser)\n",
    "print()\n",
    "print(cat_ser.cat.codes)"
   ]
  },
  {
   "cell_type": "markdown",
   "metadata": {
    "slideshow": {
     "slide_type": "fragment"
    }
   },
   "source": [
    "*Why categorical?*\n",
    "\n",
    "- Storage and faster computation (sometimes) \n",
    "- Allows for ordering strings"
   ]
  },
  {
   "cell_type": "markdown",
   "metadata": {
    "slideshow": {
     "slide_type": "slide"
    }
   },
   "source": [
    "# Temporal data"
   ]
  },
  {
   "cell_type": "markdown",
   "metadata": {
    "slideshow": {
     "slide_type": "slide"
    }
   },
   "source": [
    "## Temporal data type (1)\n",
    "\n",
    "*Why is time so fundamental?*\n"
   ]
  },
  {
   "cell_type": "markdown",
   "metadata": {
    "slideshow": {
     "slide_type": "fragment"
    }
   },
   "source": [
    "Every measurement made by humans was made at a point in time, therefore it has a \"timestamp\"."
   ]
  },
  {
   "cell_type": "markdown",
   "metadata": {
    "slideshow": {
     "slide_type": "slide"
    }
   },
   "source": [
    "## Temporal data type (2)\n",
    "*How are timestamps  measured?*"
   ]
  },
  {
   "cell_type": "markdown",
   "metadata": {
    "slideshow": {
     "slide_type": "fragment"
    }
   },
   "source": [
    "1. Datetime (ISO 8601): standard calendar \n",
    "  - year, month, day: minute, second, miliseconds etc. [timezone]\n",
    "  - comes as strings in raw data\n",
    "2. Epoch time: seconds since January 1, 1970 - 00:00, GMT.\n",
    "  - nanoseconds in pandas"
   ]
  },
  {
   "cell_type": "markdown",
   "metadata": {
    "slideshow": {
     "slide_type": "slide"
    }
   },
   "source": [
    "## Temporal data type (3)\n",
    "\n",
    "*Does Pandas store it in a smart way?*\n"
   ]
  },
  {
   "cell_type": "markdown",
   "metadata": {
    "slideshow": {
     "slide_type": "fragment"
    }
   },
   "source": [
    "Pandas has native support for temporal data combining datetime and epoch time. "
   ]
  },
  {
   "cell_type": "code",
   "execution_count": 21,
   "metadata": {
    "slideshow": {
     "slide_type": "-"
    }
   },
   "outputs": [
    {
     "name": "stdout",
     "output_type": "stream",
     "text": [
      "0   2017-01-01\n",
      "1   2017-07-27\n",
      "2   2017-08-03\n",
      "3   2017-12-24\n",
      "dtype: datetime64[ns]\n",
      "0    1483228800000000000\n",
      "1    1501113600000000000\n",
      "2    1501718400000000000\n",
      "3    1514073600000000000\n",
      "dtype: int64\n"
     ]
    }
   ],
   "source": [
    "str_ser4 = pd.Series(['20170101', '20170727', '20170803', '20171224'])\n",
    "dt_ser1 = pd.to_datetime(str_ser4)\n",
    "print(dt_ser1)\n",
    "print(dt_ser1.astype(np.int64))"
   ]
  },
  {
   "cell_type": "markdown",
   "metadata": {
    "slideshow": {
     "slide_type": "slide"
    }
   },
   "source": [
    "## Temporal data type (4)\n",
    "\n",
    "*How does the input type matter for how datatime is parsed?*\n"
   ]
  },
  {
   "cell_type": "code",
   "execution_count": 56,
   "metadata": {},
   "outputs": [
    {
     "name": "stdout",
     "output_type": "stream",
     "text": [
      "DatetimeIndex(['2017-01-01', '2017-01-02'], dtype='datetime64[ns]', freq=None)\n",
      "DatetimeIndex(['1970-01-01 00:00:00.020170101', '1970-01-01 00:00:00.020170102'], dtype='datetime64[ns]', freq=None)\n"
     ]
    }
   ],
   "source": [
    "print(pd.to_datetime(['20170101', '20170102']))\n",
    "print(pd.to_datetime([20170101, 20170102]))"
   ]
  },
  {
   "cell_type": "markdown",
   "metadata": {
    "slideshow": {
     "slide_type": "slide"
    }
   },
   "source": [
    "## Time series (1)\n",
    "*Why is temporal data powerful?*"
   ]
  },
  {
   "cell_type": "markdown",
   "metadata": {
    "slideshow": {
     "slide_type": "fragment"
    }
   },
   "source": [
    "We can easily make and plot time series."
   ]
  },
  {
   "cell_type": "code",
   "execution_count": 29,
   "metadata": {
    "slideshow": {
     "slide_type": "-"
    }
   },
   "outputs": [
    {
     "data": {
      "text/plain": [
       "<matplotlib.axes._subplots.AxesSubplot at 0x27fcaf90f60>"
      ]
     },
     "execution_count": 29,
     "metadata": {},
     "output_type": "execute_result"
    },
    {
     "data": {
      "image/png": "[encoded data removed]",
      "text/plain": [
       "<matplotlib.figure.Figure at 0x27fcaeacba8>"
      ]
     },
     "metadata": {},
     "output_type": "display_data"
    }
   ],
   "source": [
    "T = 1000\n",
    "data = {v:np.cumsum(np.random.randn(T)) for v in ['A', 'B']}\n",
    "data['time'] = pd.date_range(start='20150101', freq='D', periods=T)\n",
    "ts_df = pd.DataFrame(data)\n",
    "\n",
    "# print(ts_df.head())\n",
    "ts_df.set_index('time').plot(figsize=(10,5))"
   ]
  },
  {
   "cell_type": "markdown",
   "metadata": {
    "slideshow": {
     "slide_type": "slide"
    }
   },
   "source": [
    "## Time series (2)\n",
    "*Why is pandas good at time data?*"
   ]
  },
  {
   "cell_type": "markdown",
   "metadata": {
    "slideshow": {
     "slide_type": "fragment"
    }
   },
   "source": [
    "It handles irregular data well: \n",
    "- missing values;\n",
    "- duplicate entries. \n",
    "\n",
    "It has specific tools for resampling and interpolating data\n",
    "- See 11.3, 11.5, 11.6 in PDA book. "
   ]
  },
  {
   "cell_type": "markdown",
   "metadata": {
    "slideshow": {
     "slide_type": "slide"
    }
   },
   "source": [
    "## Datetime variables (1)\n",
    "*What other uses might time data have?*"
   ]
  },
  {
   "cell_type": "markdown",
   "metadata": {
    "slideshow": {
     "slide_type": "fragment"
    }
   },
   "source": [
    "We can extract data from datetime columns. These columns have the `dt` attribute and its sub-methods. Example:"
   ]
  },
  {
   "cell_type": "code",
   "execution_count": 35,
   "metadata": {
    "slideshow": {
     "slide_type": "-"
    }
   },
   "outputs": [
    {
     "data": {
      "text/plain": [
       "0    2015\n",
       "1    2015\n",
       "2    2015\n",
       "Name: time, dtype: int64"
      ]
     },
     "execution_count": 35,
     "metadata": {},
     "output_type": "execute_result"
    }
   ],
   "source": [
    "dt_ser2 = ts_df.time\n",
    "\n",
    "# dt_ser2.dt.day.iloc[500:505]\n",
    "dt_ser2.dt.year.head(3)"
   ]
  },
  {
   "cell_type": "markdown",
   "metadata": {
    "slideshow": {
     "slide_type": "slide"
    }
   },
   "source": [
    "## Datetime variables (2)\n",
    "The `dt` sub-methods include `year`,  `weekday`, `hour`, `second`."
   ]
  },
  {
   "cell_type": "markdown",
   "metadata": {
    "slideshow": {
     "slide_type": "fragment"
    }
   },
   "source": [
    "*To note:* Your temporal data may need conversion. `dt` includes `tz_localize` and `tz_convert` which does that. "
   ]
  },
  {
   "cell_type": "markdown",
   "metadata": {
    "slideshow": {
     "slide_type": "slide"
    }
   },
   "source": [
    "## Datetime variables (3)\n",
    "*Quiz: What are you to do if get time data with numbers of around 1-2 billion?*"
   ]
  },
  {
   "cell_type": "markdown",
   "metadata": {
    "slideshow": {
     "slide_type": "fragment"
    }
   },
   "source": [
    "It is likely to be epoch time measured in seconds. We can convert it as follows:"
   ]
  },
  {
   "cell_type": "code",
   "execution_count": 36,
   "metadata": {},
   "outputs": [
    {
     "data": {
      "text/plain": [
       "DatetimeIndex(['1973-11-30 12:58:41', '2037-07-27 15:28:41'], dtype='datetime64[ns]', freq=None)"
      ]
     },
     "execution_count": 36,
     "metadata": {},
     "output_type": "execute_result"
    }
   ],
   "source": [
    "pd.to_datetime([123512321,2132321321], unit='s')"
   ]
  },
  {
   "cell_type": "markdown",
   "metadata": {
    "slideshow": {
     "slide_type": "slide"
    }
   },
   "source": [
    ".."
   ]
  },
  {
   "cell_type": "markdown",
   "metadata": {
    "slideshow": {
     "slide_type": "slide"
    }
   },
   "source": [
    "# Missing data"
   ]
  },
  {
   "cell_type": "markdown",
   "metadata": {
    "slideshow": {
     "slide_type": "slide"
    }
   },
   "source": [
    "## Missing data type (1)\n",
    "*Which data type have we not covered yet?*"
   ]
  },
  {
   "cell_type": "markdown",
   "metadata": {
    "slideshow": {
     "slide_type": "-"
    }
   },
   "source": [
    "Missing data, i.e. empty observations.\n",
    "- In python: `None`\n",
    "- In pandas:  numpy's 'Not a Number', abbreviated `NaN` or `nan`"
   ]
  },
  {
   "cell_type": "markdown",
   "metadata": {
    "slideshow": {
     "slide_type": "slide"
    }
   },
   "source": [
    "## Missing data type (2)\n",
    "*What does a DataFrame with missing data look like?*"
   ]
  },
  {
   "cell_type": "code",
   "execution_count": 40,
   "metadata": {
    "slideshow": {
     "slide_type": "-"
    }
   },
   "outputs": [
    {
     "name": "stdout",
     "output_type": "stream",
     "text": [
      "A    0\n",
      "B    1\n",
      "C    1\n",
      "dtype: int64\n"
     ]
    }
   ],
   "source": [
    "nan_data = [[1,np.nan,3],\n",
    "            [4,5,None],\n",
    "            [7,8,9]]\n",
    " \n",
    "nan_df = pd.DataFrame(nan_data, columns=['A','B','C'])\n",
    "# print(nan_df)\n",
    "print(nan_df.isnull().sum())"
   ]
  },
  {
   "cell_type": "markdown",
   "metadata": {
    "slideshow": {
     "slide_type": "slide"
    }
   },
   "source": [
    "## Handling missing data\n",
    "*What options do we in working with missing data?*"
   ]
  },
  {
   "cell_type": "markdown",
   "metadata": {
    "slideshow": {
     "slide_type": "-"
    }
   },
   "source": [
    "1. Ignore the problem\n",
    "2. Drop missing data: columns and/or rows\n",
    "3. Fill in the blanks\n",
    "4. If time and money permits: collect the data or new data"
   ]
  },
  {
   "cell_type": "markdown",
   "metadata": {
    "slideshow": {
     "slide_type": "slide"
    }
   },
   "source": [
    "## Removing missing data (1)\n",
    "*How do we remove data?*"
   ]
  },
  {
   "cell_type": "markdown",
   "metadata": {
    "slideshow": {
     "slide_type": "fragment"
    }
   },
   "source": [
    "Using the `dropna` method."
   ]
  },
  {
   "cell_type": "code",
   "execution_count": 46,
   "metadata": {
    "slideshow": {
     "slide_type": "-"
    }
   },
   "outputs": [
    {
     "name": "stdout",
     "output_type": "stream",
     "text": [
      "   A    B    C\n",
      "0  1  NaN  3.0\n",
      "1  4  5.0  NaN\n",
      "2  7  8.0  9.0\n",
      "\n",
      "   A\n",
      "0  1\n",
      "1  4\n",
      "2  7\n"
     ]
    }
   ],
   "source": [
    "print(nan_df)\n",
    "print()\n",
    "print(nan_df.dropna(axis=1)) # subset=['B'], axis=1"
   ]
  },
  {
   "cell_type": "markdown",
   "metadata": {
    "slideshow": {
     "slide_type": "slide"
    }
   },
   "source": [
    "## Filling missing data (1)\n",
    "*How do we fill observations with a constant?*"
   ]
  },
  {
   "cell_type": "code",
   "execution_count": 52,
   "metadata": {},
   "outputs": [
    {
     "name": "stdout",
     "output_type": "stream",
     "text": [
      "   A     B    C\n",
      "0  1 -99.0  3.0\n",
      "1  4   5.0  2.0\n",
      "2  7   8.0  9.0\n",
      "   A     B    C\n",
      "0  1 -99.0  3.0\n",
      "1  4   5.0  NaN\n",
      "2  7   8.0  9.0\n"
     ]
    }
   ],
   "source": [
    "print(nan_df.fillna(2))\n",
    "\n",
    "selection = nan_df.B.isnull()\n",
    "nan_df.loc[selection, 'B'] = -99\n",
    "print(nan_df)"
   ]
  },
  {
   "cell_type": "markdown",
   "metadata": {},
   "source": [
    "Note: we can also select missing `isnull` and the replace values using `loc`."
   ]
  },
  {
   "cell_type": "markdown",
   "metadata": {
    "slideshow": {
     "slide_type": "slide"
    }
   },
   "source": [
    "## Filling missing data (2)\n",
    "*Are there other methods?*\n"
   ]
  },
  {
   "cell_type": "markdown",
   "metadata": {},
   "source": [
    "Yes, many methods:\n",
    "- Filling sorted temporal data, see `ffill`, `bfill`\n",
    "- Filling with a model \n",
    "    - e.g. linear interpolation, by mean of nearest observations etc.\n",
    "    - `sklearn` in next week can impute data"
   ]
  },
  {
   "cell_type": "markdown",
   "metadata": {
    "slideshow": {
     "slide_type": "slide"
    }
   },
   "source": [
    "# Useful tools"
   ]
  },
  {
   "cell_type": "markdown",
   "metadata": {
    "slideshow": {
     "slide_type": "slide"
    }
   },
   "source": [
    "## Duplicates in data (1)\n",
    "*What does it mean there are duplicates in the data?*"
   ]
  },
  {
   "cell_type": "markdown",
   "metadata": {
    "slideshow": {
     "slide_type": "-"
    }
   },
   "source": [
    "- More than one entry where the should be only one.\n",
    "\n",
    "- If for a certain set of variables the combination is repeated."
   ]
  },
  {
   "cell_type": "markdown",
   "metadata": {
    "slideshow": {
     "slide_type": "slide"
    }
   },
   "source": [
    "## Duplicates in data (2)\n",
    "*How do we drop duplicates?*"
   ]
  },
  {
   "cell_type": "code",
   "execution_count": 54,
   "metadata": {
    "slideshow": {
     "slide_type": "fragment"
    }
   },
   "outputs": [
    {
     "data": {
      "text/plain": [
       "0    B.Sc. Political Science\n",
       "1           Secondary school\n",
       "2                High school\n",
       "dtype: object"
      ]
     },
     "execution_count": 54,
     "metadata": {},
     "output_type": "execute_result"
    }
   ],
   "source": [
    "str_ser3\n",
    "str_ser3.drop_duplicates()"
   ]
  },
  {
   "cell_type": "markdown",
   "metadata": {
    "slideshow": {
     "slide_type": "slide"
    }
   },
   "source": [
    "## Duplicates in data (3)\n",
    "*How do we use duplicates?*"
   ]
  },
  {
   "cell_type": "markdown",
   "metadata": {
    "slideshow": {
     "slide_type": "-"
    }
   },
   "source": [
    "Tomorrow morning we will get introduced to groupby which can be used to compute various statistics (e.g. mean, median)"
   ]
  },
  {
   "cell_type": "markdown",
   "metadata": {
    "slideshow": {
     "slide_type": "slide"
    }
   },
   "source": [
    "## Binning numerical data\n",
    "*Can we convert our numerical data to bins in a smart way?*"
   ]
  },
  {
   "cell_type": "markdown",
   "metadata": {
    "slideshow": {
     "slide_type": "fragment"
    }
   },
   "source": [
    "Yes, to methods are useful: \n",
    "- `cut` which divides data by user specified bins\n",
    "- `qcut` which divides data by user specified quantiles \n",
    "    - e.g. median, $q=0.5$; lower quartile threshold, $q=0.25$."
   ]
  },
  {
   "cell_type": "code",
   "execution_count": 55,
   "metadata": {
    "slideshow": {
     "slide_type": "-"
    }
   },
   "outputs": [
    {
     "data": {
      "text/plain": [
       "IntervalIndex([(-4.9270000000000005, 1.646], (1.646, 4.851]]\n",
       "              closed='right',\n",
       "              dtype='interval[float64]')"
      ]
     },
     "execution_count": 55,
     "metadata": {},
     "output_type": "execute_result"
    }
   ],
   "source": [
    "x = pd.Series(np.random.normal(size=10**6))\n",
    "cat_ser3 = pd.qcut(x, q=[0,.95,1])\n",
    "cat_ser3.cat.categories"
   ]
  },
  {
   "cell_type": "markdown",
   "metadata": {
    "slideshow": {
     "slide_type": "slide"
    }
   },
   "source": [
    "## Other tricks\n",
    "Pandas is packed with smart tools\n",
    "- we can create dummy variables from categorical with `to_dummies`\n",
    "- we can combine many of the tools we have learned with `groupby` (tomorrow)"
   ]
  },
  {
   "cell_type": "markdown",
   "metadata": {
    "slideshow": {
     "slide_type": "slide"
    }
   },
   "source": [
    "# The end\n",
    "\n",
    "[Return to agenda](#Agenda)"
   ]
  }
 ],
 "metadata": {
  "celltoolbar": "Slideshow",
  "kernelspec": {
   "display_name": "Python 3",
   "language": "python",
   "name": "python3"
  },
  "language_info": {
   "codemirror_mode": {
    "name": "ipython",
    "version": 3
   },
   "file_extension": ".py",
   "mimetype": "text/x-python",
   "name": "python",
   "nbconvert_exporter": "python",
   "pygments_lexer": "ipython3",
   "version": "3.5.5"
  }
 },
 "nbformat": 4,
 "nbformat_minor": 2
}
