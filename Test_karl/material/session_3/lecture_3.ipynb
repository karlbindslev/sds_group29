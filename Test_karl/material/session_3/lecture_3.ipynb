{
 "cells": [
  {
   "cell_type": "markdown",
   "metadata": {
    "slideshow": {
     "slide_type": "slide"
    }
   },
   "source": [
    "# Session 3:\n",
    "## Strings and APIs\n",
    "Andreas Bjerre-Nielsen"
   ]
  },
  {
   "cell_type": "markdown",
   "metadata": {
    "slideshow": {
     "slide_type": "slide"
    }
   },
   "source": [
    "## Agenda\n",
    "\n",
    "1. [Strings: manipulation, combination etc.](#Strings)\n",
    "2. [Containers - key based](#Containers---key-based)\n",
    "3. [Interacting with the web](#Interacting-with-the-web)\n",
    "4. [Loading and saving files](#Loading-and-saving-files)"
   ]
  },
  {
   "cell_type": "markdown",
   "metadata": {
    "slideshow": {
     "slide_type": "slide"
    }
   },
   "source": [
    "# Strings\n"
   ]
  },
  {
   "cell_type": "markdown",
   "metadata": {
    "slideshow": {
     "slide_type": "slide"
    }
   },
   "source": [
    "## Strings recap\n",
    "\n",
    "*What are strings? What do they consist of?*"
   ]
  },
  {
   "cell_type": "markdown",
   "metadata": {
    "slideshow": {
     "slide_type": "fragment"
    }
   },
   "source": [
    "- Strings are sequences of characters\n",
    "    - Characters can be whitespace.\n",
    "- Python has two formats\n",
    "    - `ascii` stings contain only English characters\n",
    "    - `utf` strings contain also other European and Asian characters"
   ]
  },
  {
   "cell_type": "markdown",
   "metadata": {
    "slideshow": {
     "slide_type": "slide"
    }
   },
   "source": [
    "## String concatenation\n",
    "\n",
    "*How can I combine strings?*"
   ]
  },
  {
   "cell_type": "markdown",
   "metadata": {
    "slideshow": {
     "slide_type": "fragment"
    }
   },
   "source": [
    "Strings can be added together:"
   ]
  },
  {
   "cell_type": "code",
   "execution_count": 11,
   "metadata": {
    "slideshow": {
     "slide_type": "fragment"
    }
   },
   "outputs": [
    {
     "name": "stdout",
     "output_type": "stream",
     "text": [
      "police\n",
      "officer\n",
      "arrests\n"
     ]
    }
   ],
   "source": [
    "s1 = 'police'\n",
    "s2 = 'officer'\n",
    "s1 + ' ' + s2\n",
    "\n",
    "s = '\\n'\n",
    "\n",
    "print(s.join([s1, s2, 'arrests']))"
   ]
  },
  {
   "cell_type": "markdown",
   "metadata": {
    "slideshow": {
     "slide_type": "slide"
    }
   },
   "source": [
    "## String changing case\n",
    "\n",
    "*Can I alter the sentence-case of strings?*"
   ]
  },
  {
   "cell_type": "markdown",
   "metadata": {
    "slideshow": {
     "slide_type": "fragment"
    }
   },
   "source": [
    "- Yes using the string methods `upper`, `lower`, `capitalize`. Example:"
   ]
  },
  {
   "cell_type": "code",
   "execution_count": 5,
   "metadata": {
    "slideshow": {
     "slide_type": "fragment"
    }
   },
   "outputs": [
    {
     "data": {
      "text/plain": [
       "'POLICE'"
      ]
     },
     "execution_count": 5,
     "metadata": {},
     "output_type": "execute_result"
    }
   ],
   "source": [
    "s1.upper()"
   ]
  },
  {
   "cell_type": "markdown",
   "metadata": {
    "slideshow": {
     "slide_type": "slide"
    }
   },
   "source": [
    "## Substrings (1)\n",
    "*How can I check if a substring is contained in the string?*"
   ]
  },
  {
   "cell_type": "markdown",
   "metadata": {
    "slideshow": {
     "slide_type": "fragment"
    }
   },
   "source": [
    "- in/not in"
   ]
  },
  {
   "cell_type": "code",
   "execution_count": 13,
   "metadata": {
    "slideshow": {
     "slide_type": "-"
    }
   },
   "outputs": [
    {
     "data": {
      "text/plain": [
       "False"
      ]
     },
     "execution_count": 13,
     "metadata": {},
     "output_type": "execute_result"
    }
   ],
   "source": [
    "'pol' not in s1"
   ]
  },
  {
   "cell_type": "markdown",
   "metadata": {
    "slideshow": {
     "slide_type": "slide"
    }
   },
   "source": [
    "## Substrings (2)\n",
    "*How can I replace a specific substring?*"
   ]
  },
  {
   "cell_type": "markdown",
   "metadata": {
    "slideshow": {
     "slide_type": "fragment"
    }
   },
   "source": [
    "- replace"
   ]
  },
  {
   "cell_type": "code",
   "execution_count": 15,
   "metadata": {
    "slideshow": {
     "slide_type": "-"
    }
   },
   "outputs": [
    {
     "data": {
      "text/plain": [
       "'malice'"
      ]
     },
     "execution_count": 15,
     "metadata": {},
     "output_type": "execute_result"
    }
   ],
   "source": [
    "s1.replace('po', 'ma')"
   ]
  },
  {
   "cell_type": "markdown",
   "metadata": {
    "slideshow": {
     "slide_type": "slide"
    }
   },
   "source": [
    "## Substrings (3)\n",
    "*Can I also access a string via indices? (in the sequence of characters)*"
   ]
  },
  {
   "cell_type": "markdown",
   "metadata": {
    "slideshow": {
     "slide_type": "fragment"
    }
   },
   "source": [
    "- sequence form - slicing/indexing"
   ]
  },
  {
   "cell_type": "code",
   "execution_count": 19,
   "metadata": {
    "slideshow": {
     "slide_type": "-"
    }
   },
   "outputs": [
    {
     "data": {
      "text/plain": [
       "'lic'"
      ]
     },
     "execution_count": 19,
     "metadata": {},
     "output_type": "execute_result"
    }
   ],
   "source": [
    "s1[2:5]"
   ]
  },
  {
   "cell_type": "markdown",
   "metadata": {
    "slideshow": {
     "slide_type": "slide"
    }
   },
   "source": [
    "## Strings quiz\n",
    "*Which Python object do strings remind you of?*"
   ]
  },
  {
   "cell_type": "markdown",
   "metadata": {
    "slideshow": {
     "slide_type": "fragment"
    }
   },
   "source": [
    "- Lists work like strings.\n",
    "  - Concatention (`+`, `*`) works the same way.\n",
    "  - We check if element/character is contained with `in`.\n",
    "  - We can slice and use indices for."
   ]
  },
  {
   "cell_type": "markdown",
   "metadata": {
    "slideshow": {
     "slide_type": "slide"
    }
   },
   "source": [
    "## More about strings \n",
    "\n",
    "There are many things about strings which we have not covered:\n",
    "\n",
    "- Methods for splitting or combining strings etc.\n",
    "- [String formatting](http://www.python-course.eu/python3_formatted_output.php) is exceptionally useful, e.g for making URLs, printing etc. \n"
   ]
  },
  {
   "cell_type": "markdown",
   "metadata": {
    "slideshow": {
     "slide_type": "slide"
    }
   },
   "source": [
    "# Containers - key based"
   ]
  },
  {
   "cell_type": "markdown",
   "metadata": {
    "slideshow": {
     "slide_type": "slide"
    }
   },
   "source": [
    "## Containers recap\n",
    "\n",
    "*What are containers? Which have we seen?*"
   ]
  },
  {
   "cell_type": "markdown",
   "metadata": {
    "slideshow": {
     "slide_type": "-"
    }
   },
   "source": [
    "-"
   ]
  },
  {
   "cell_type": "markdown",
   "metadata": {
    "slideshow": {
     "slide_type": "slide"
    }
   },
   "source": [
    "## Dictionaries (1)\n",
    "\n",
    "*How can we make a container which is accessed by arbitrary keys?*"
   ]
  },
  {
   "cell_type": "markdown",
   "metadata": {
    "slideshow": {
     "slide_type": "fragment"
    }
   },
   "source": [
    "By using a dictionary, `dict`. Try executing the code below:"
   ]
  },
  {
   "cell_type": "code",
   "execution_count": 25,
   "metadata": {
    "slideshow": {
     "slide_type": "-"
    }
   },
   "outputs": [
    {
     "name": "stdout",
     "output_type": "stream",
     "text": [
      "MSc Socioligy\n"
     ]
    }
   ],
   "source": [
    "my_dict = {'Andreas': 'Economist',\n",
    "           'Snorre': ['BSc sociology', 'MSc Socioligy'],\n",
    "           'Ulf': 'Engineer'}\n",
    "\n",
    "print(my_dict['Snorre'][1])"
   ]
  },
  {
   "cell_type": "markdown",
   "metadata": {
    "slideshow": {
     "slide_type": "slide"
    }
   },
   "source": [
    "## Dictionaries (2)\n",
    "\n",
    "Dictionaries can also be constructed from two associated lists. These are tied together with the `zip` function. Try the following code:"
   ]
  },
  {
   "cell_type": "code",
   "execution_count": 32,
   "metadata": {
    "slideshow": {
     "slide_type": "-"
    }
   },
   "outputs": [],
   "source": [
    "?zip"
   ]
  },
  {
   "cell_type": "code",
   "execution_count": 33,
   "metadata": {
    "slideshow": {
     "slide_type": "-"
    }
   },
   "outputs": [
    {
     "data": {
      "text/plain": [
       "1"
      ]
     },
     "execution_count": 33,
     "metadata": {},
     "output_type": "execute_result"
    }
   ],
   "source": [
    "keys = ['a', 'b', 'c']\n",
    "values = [1, 2]\n",
    "key_value_pairs = list(zip(keys, values, ))\n",
    "\n",
    "my_dict2 = dict(key_value_pairs)\n",
    "my_dict2['a']"
   ]
  },
  {
   "cell_type": "markdown",
   "metadata": {
    "slideshow": {
     "slide_type": "slide"
    }
   },
   "source": [
    "## Storing containers\n",
    "\n",
    "*Does there exist a file format for easy storage of containers?*"
   ]
  },
  {
   "cell_type": "markdown",
   "metadata": {
    "slideshow": {
     "slide_type": "fragment"
    }
   },
   "source": [
    "Yes, the JSON file format.\n",
    "\n",
    "- Is at the base a list or a dict.\n",
    "- Looks like one: \n",
    "    - `'{\"a\":1,\"b\":1}'`"
   ]
  },
  {
   "cell_type": "markdown",
   "metadata": {
    "slideshow": {
     "slide_type": "slide"
    }
   },
   "source": [
    "## Storing containers (2)\n",
    "\n",
    "*Why is JSON so useful?*"
   ]
  },
  {
   "cell_type": "markdown",
   "metadata": {
    "slideshow": {
     "slide_type": "fragment"
    }
   },
   "source": [
    "- Extreme flexibility:\n",
    "    - Can hold any list or dictionary of any depth which contains only float, int, str.\n",
    "- Standard format that looks exactly like Python."
   ]
  },
  {
   "cell_type": "markdown",
   "metadata": {
    "slideshow": {
     "slide_type": "slide"
    }
   },
   "source": [
    "# Interacting with the web"
   ]
  },
  {
   "cell_type": "markdown",
   "metadata": {
    "slideshow": {
     "slide_type": "slide"
    }
   },
   "source": [
    "## The web protocol\n",
    "*What is `http` and where is it used?*"
   ]
  },
  {
   "cell_type": "markdown",
   "metadata": {
    "slideshow": {
     "slide_type": "fragment"
    }
   },
   "source": [
    "- `http` stands for HyperText Transfer Protocol.\n",
    "- `http` is good for transmitting the data when a webpage is visited:\n",
    "   - the visiting client sends request for URL or object;\n",
    "   - the server returns relevant data if active."
   ]
  },
  {
   "cell_type": "markdown",
   "metadata": {
    "slideshow": {
     "slide_type": "slide"
    }
   },
   "source": [
    "## The web protocol (2)\n",
    "*Should we care about `http`?*"
   ]
  },
  {
   "cell_type": "markdown",
   "metadata": {
    "slideshow": {
     "slide_type": "fragment"
    }
   },
   "source": [
    "- In this course we don't care explicitly about `http`. \n",
    "- We use a Python module called `requests` as a `http` interface.\n",
    "- However... Some useful advice - you should **always**:\n",
    "  - use the encrypted version, `https`;\n",
    "  - use authenticated connection, i.e. private login, whenever possible."
   ]
  },
  {
   "cell_type": "markdown",
   "metadata": {
    "slideshow": {
     "slide_type": "slide"
    }
   },
   "source": [
    "## Markup language (1)\n",
    "*What is `html` and where is it used?*"
   ]
  },
  {
   "cell_type": "markdown",
   "metadata": {
    "slideshow": {
     "slide_type": "fragment"
    }
   },
   "source": [
    "- HyperText Markup Lanugage\n",
    "- `html` is a language for communicating how a webpage looks like and behaves.\n",
    "  - That is, `html` contains: content, design, available actions."
   ]
  },
  {
   "cell_type": "markdown",
   "metadata": {
    "slideshow": {
     "slide_type": "slide"
    }
   },
   "source": [
    "## Markup language (2)\n",
    "*Should we care about `html`?*"
   ]
  },
  {
   "cell_type": "markdown",
   "metadata": {
    "slideshow": {
     "slide_type": "fragment"
    }
   },
   "source": [
    "- Yes, `html` is often where the interesting data can be found.\n",
    "- Sometimes, we are lucky, and instead of `html` we get a JSON in return. \n",
    "- Getting data from `html` will the topic of the subsequent scraping sessions."
   ]
  },
  {
   "cell_type": "markdown",
   "metadata": {
    "slideshow": {
     "slide_type": "slide"
    }
   },
   "source": [
    "## Web APIs (1)\n",
    "*So when do we get lucky, i.e. when is `html` not important?*"
   ]
  },
  {
   "cell_type": "markdown",
   "metadata": {
    "slideshow": {
     "slide_type": "fragment"
    }
   },
   "source": [
    "- When we get an  Application Protocol Interface, i.e. `API`\n",
    "- What does this mean?\n",
    "  - We send an API query \n",
    "  - We get an API response with data back in return, typically as JSON."
   ]
  },
  {
   "cell_type": "markdown",
   "metadata": {
    "slideshow": {
     "slide_type": "slide"
    }
   },
   "source": [
    "## Web APIs (2)\n",
    "*So is data free? As in free lunch?*"
   ]
  },
  {
   "cell_type": "markdown",
   "metadata": {
    "slideshow": {
     "slide_type": "fragment"
    }
   },
   "source": [
    "- Most commercial APIs require authentication and have limited free usage\n",
    "  - e.g. Google Maps, various weather services\n",
    "- If no authentication is required the API may be delimited.\n",
    "  - This means only a certain number of requests can be handled per second or per hour from a given IP address."
   ]
  },
  {
   "cell_type": "markdown",
   "metadata": {
    "slideshow": {
     "slide_type": "slide"
    }
   },
   "source": [
    "## Web APIs (3)\n",
    "*So how do make the URLs?*"
   ]
  },
  {
   "cell_type": "markdown",
   "metadata": {
    "slideshow": {
     "slide_type": "fragment"
    }
   },
   "source": [
    "- An `API` query is a URL consisting of:\n",
    "  - Server URL, e.g. `https://api.github.com`\n",
    "  - Endpoint path, `/users/abjer/repos`\n",
    "  - Query parameters, "
   ]
  },
  {
   "cell_type": "markdown",
   "metadata": {
    "slideshow": {
     "slide_type": "slide"
    }
   },
   "source": [
    "## Web APIs in Python (1)\n",
    "*How do make a simple query?*"
   ]
  },
  {
   "cell_type": "code",
   "execution_count": 72,
   "metadata": {
    "slideshow": {
     "slide_type": "fragment"
    }
   },
   "outputs": [
    {
     "name": "stdout",
     "output_type": "stream",
     "text": [
      "https://api.github.com/users/abjer/repos\n"
     ]
    }
   ],
   "source": [
    "server_url = 'https://api.github.com/'\n",
    "endpoint_path = 'users/abjer/repos'\n",
    "url = server_url + endpoint_path\n",
    "print(url)"
   ]
  },
  {
   "cell_type": "markdown",
   "metadata": {
    "slideshow": {
     "slide_type": "slide"
    }
   },
   "source": [
    "## Web APIs in Python (2)\n",
    "*How can we send a query with the `requests` module?*"
   ]
  },
  {
   "cell_type": "code",
   "execution_count": 73,
   "metadata": {
    "slideshow": {
     "slide_type": "fragment"
    }
   },
   "outputs": [
    {
     "data": {
      "text/plain": [
       "True"
      ]
     },
     "execution_count": 73,
     "metadata": {},
     "output_type": "execute_result"
    }
   ],
   "source": [
    "import requests # import the module\n",
    "\n",
    "response = requests.get(url) # submit query with `get` and save response \n",
    "response.ok\n"
   ]
  },
  {
   "cell_type": "markdown",
   "metadata": {
    "slideshow": {
     "slide_type": "slide"
    }
   },
   "source": [
    "## Web APIs in Python (3)\n",
    "*How do extract something from the response?*"
   ]
  },
  {
   "cell_type": "code",
   "execution_count": 74,
   "metadata": {
    "slideshow": {
     "slide_type": "fragment"
    }
   },
   "outputs": [
    {
     "name": "stdout",
     "output_type": "stream",
     "text": [
      "33035\n",
      "[{\"id\":111244798,\"node_id\":\"MDEwOlJlcG9zaXRvcnkxMTEyNDQ3OTg=\",\"name\":\"abjer.github.io\",\"full_name\":\"abjer/abjer.github.io\",\"owner\":{\"login\":\"abjer\",\"id\":6363844,\"node_id\":\"MDQ6VXNlcjYzNjM4NDQ=\",\"avatar_url\":\"https://avatars3.githubusercontent.com/u/6363844?v=4\",\"gravatar_id\":\"\",\"url\":\"https://api.github.com/users/abjer\",\"html_url\":\"https://github.com/abjer\",\"followers_url\":\"https://api.github.com/users/abjer/followers\",\"following_url\":\"https://api.github.com/users/abjer/following{/other_user}\",\"\n"
     ]
    }
   ],
   "source": [
    "print(len(response.text))\n",
    "print(response.text[:500])"
   ]
  },
  {
   "cell_type": "markdown",
   "metadata": {
    "slideshow": {
     "slide_type": "slide"
    }
   },
   "source": [
    "## Web APIs in Python (4)\n",
    "*Can we get something more meaningful or structured?*"
   ]
  },
  {
   "cell_type": "code",
   "execution_count": 75,
   "metadata": {
    "slideshow": {
     "slide_type": "fragment"
    }
   },
   "outputs": [
    {
     "data": {
      "text/plain": [
       "[{'archive_url': 'https://api.github.com/repos/abjer/abjer.github.io/{archive_format}{/ref}',\n",
       "  'archived': False,\n",
       "  'assignees_url': 'https://api.github.com/repos/abjer/abjer.github.io/assignees{/user}',\n",
       "  'blobs_url': 'https://api.github.com/repos/abjer/abjer.github.io/git/blobs{/sha}',\n",
       "  'branches_url': 'https://api.github.com/repos/abjer/abjer.github.io/branches{/branch}',\n",
       "  'clone_url': 'https://github.com/abjer/abjer.github.io.git',\n",
       "  'collaborators_url': 'https://api.github.com/repos/abjer/abjer.github.io/collaborators{/collaborator}',\n",
       "  'comments_url': 'https://api.github.com/repos/abjer/abjer.github.io/comments{/number}',\n",
       "  'commits_url': 'https://api.github.com/repos/abjer/abjer.github.io/commits{/sha}',\n",
       "  'compare_url': 'https://api.github.com/repos/abjer/abjer.github.io/compare/{base}...{head}',\n",
       "  'contents_url': 'https://api.github.com/repos/abjer/abjer.github.io/contents/{+path}',\n",
       "  'contributors_url': 'https://api.github.com/repos/abjer/abjer.github.io/contributors',\n",
       "  'created_at': '2017-11-18T22:34:19Z',\n",
       "  'default_branch': 'master',\n",
       "  'deployments_url': 'https://api.github.com/repos/abjer/abjer.github.io/deployments',\n",
       "  'description': 'Repository for personal webpage https://abjer.github.io',\n",
       "  'downloads_url': 'https://api.github.com/repos/abjer/abjer.github.io/downloads',\n",
       "  'events_url': 'https://api.github.com/repos/abjer/abjer.github.io/events',\n",
       "  'fork': False,\n",
       "  'forks': 0,\n",
       "  'forks_count': 0,\n",
       "  'forks_url': 'https://api.github.com/repos/abjer/abjer.github.io/forks',\n",
       "  'full_name': 'abjer/abjer.github.io',\n",
       "  'git_commits_url': 'https://api.github.com/repos/abjer/abjer.github.io/git/commits{/sha}',\n",
       "  'git_refs_url': 'https://api.github.com/repos/abjer/abjer.github.io/git/refs{/sha}',\n",
       "  'git_tags_url': 'https://api.github.com/repos/abjer/abjer.github.io/git/tags{/sha}',\n",
       "  'git_url': 'git://github.com/abjer/abjer.github.io.git',\n",
       "  'has_downloads': True,\n",
       "  'has_issues': True,\n",
       "  'has_pages': True,\n",
       "  'has_projects': True,\n",
       "  'has_wiki': True,\n",
       "  'homepage': None,\n",
       "  'hooks_url': 'https://api.github.com/repos/abjer/abjer.github.io/hooks',\n",
       "  'html_url': 'https://github.com/abjer/abjer.github.io',\n",
       "  'id': 111244798,\n",
       "  'issue_comment_url': 'https://api.github.com/repos/abjer/abjer.github.io/issues/comments{/number}',\n",
       "  'issue_events_url': 'https://api.github.com/repos/abjer/abjer.github.io/issues/events{/number}',\n",
       "  'issues_url': 'https://api.github.com/repos/abjer/abjer.github.io/issues{/number}',\n",
       "  'keys_url': 'https://api.github.com/repos/abjer/abjer.github.io/keys{/key_id}',\n",
       "  'labels_url': 'https://api.github.com/repos/abjer/abjer.github.io/labels{/name}',\n",
       "  'language': 'HTML',\n",
       "  'languages_url': 'https://api.github.com/repos/abjer/abjer.github.io/languages',\n",
       "  'license': None,\n",
       "  'merges_url': 'https://api.github.com/repos/abjer/abjer.github.io/merges',\n",
       "  'milestones_url': 'https://api.github.com/repos/abjer/abjer.github.io/milestones{/number}',\n",
       "  'mirror_url': None,\n",
       "  'name': 'abjer.github.io',\n",
       "  'node_id': 'MDEwOlJlcG9zaXRvcnkxMTEyNDQ3OTg=',\n",
       "  'notifications_url': 'https://api.github.com/repos/abjer/abjer.github.io/notifications{?since,all,participating}',\n",
       "  'open_issues': 0,\n",
       "  'open_issues_count': 0,\n",
       "  'owner': {'avatar_url': 'https://avatars3.githubusercontent.com/u/6363844?v=4',\n",
       "   'events_url': 'https://api.github.com/users/abjer/events{/privacy}',\n",
       "   'followers_url': 'https://api.github.com/users/abjer/followers',\n",
       "   'following_url': 'https://api.github.com/users/abjer/following{/other_user}',\n",
       "   'gists_url': 'https://api.github.com/users/abjer/gists{/gist_id}',\n",
       "   'gravatar_id': '',\n",
       "   'html_url': 'https://github.com/abjer',\n",
       "   'id': 6363844,\n",
       "   'login': 'abjer',\n",
       "   'node_id': 'MDQ6VXNlcjYzNjM4NDQ=',\n",
       "   'organizations_url': 'https://api.github.com/users/abjer/orgs',\n",
       "   'received_events_url': 'https://api.github.com/users/abjer/received_events',\n",
       "   'repos_url': 'https://api.github.com/users/abjer/repos',\n",
       "   'site_admin': False,\n",
       "   'starred_url': 'https://api.github.com/users/abjer/starred{/owner}{/repo}',\n",
       "   'subscriptions_url': 'https://api.github.com/users/abjer/subscriptions',\n",
       "   'type': 'User',\n",
       "   'url': 'https://api.github.com/users/abjer'},\n",
       "  'private': False,\n",
       "  'pulls_url': 'https://api.github.com/repos/abjer/abjer.github.io/pulls{/number}',\n",
       "  'pushed_at': '2018-06-25T04:30:26Z',\n",
       "  'releases_url': 'https://api.github.com/repos/abjer/abjer.github.io/releases{/id}',\n",
       "  'size': 743,\n",
       "  'ssh_url': 'git@github.com:abjer/abjer.github.io.git',\n",
       "  'stargazers_count': 0,\n",
       "  'stargazers_url': 'https://api.github.com/repos/abjer/abjer.github.io/stargazers',\n",
       "  'statuses_url': 'https://api.github.com/repos/abjer/abjer.github.io/statuses/{sha}',\n",
       "  'subscribers_url': 'https://api.github.com/repos/abjer/abjer.github.io/subscribers',\n",
       "  'subscription_url': 'https://api.github.com/repos/abjer/abjer.github.io/subscription',\n",
       "  'svn_url': 'https://github.com/abjer/abjer.github.io',\n",
       "  'tags_url': 'https://api.github.com/repos/abjer/abjer.github.io/tags',\n",
       "  'teams_url': 'https://api.github.com/repos/abjer/abjer.github.io/teams',\n",
       "  'trees_url': 'https://api.github.com/repos/abjer/abjer.github.io/git/trees{/sha}',\n",
       "  'updated_at': '2018-06-25T04:30:28Z',\n",
       "  'url': 'https://api.github.com/repos/abjer/abjer.github.io',\n",
       "  'watchers': 0,\n",
       "  'watchers_count': 0},\n",
       " {'archive_url': 'https://api.github.com/repos/abjer/geopandas/{archive_format}{/ref}',\n",
       "  'archived': False,\n",
       "  'assignees_url': 'https://api.github.com/repos/abjer/geopandas/assignees{/user}',\n",
       "  'blobs_url': 'https://api.github.com/repos/abjer/geopandas/git/blobs{/sha}',\n",
       "  'branches_url': 'https://api.github.com/repos/abjer/geopandas/branches{/branch}',\n",
       "  'clone_url': 'https://github.com/abjer/geopandas.git',\n",
       "  'collaborators_url': 'https://api.github.com/repos/abjer/geopandas/collaborators{/collaborator}',\n",
       "  'comments_url': 'https://api.github.com/repos/abjer/geopandas/comments{/number}',\n",
       "  'commits_url': 'https://api.github.com/repos/abjer/geopandas/commits{/sha}',\n",
       "  'compare_url': 'https://api.github.com/repos/abjer/geopandas/compare/{base}...{head}',\n",
       "  'contents_url': 'https://api.github.com/repos/abjer/geopandas/contents/{+path}',\n",
       "  'contributors_url': 'https://api.github.com/repos/abjer/geopandas/contributors',\n",
       "  'created_at': '2016-06-02T13:02:59Z',\n",
       "  'default_branch': 'master',\n",
       "  'deployments_url': 'https://api.github.com/repos/abjer/geopandas/deployments',\n",
       "  'description': 'Python tools for geographic data',\n",
       "  'downloads_url': 'https://api.github.com/repos/abjer/geopandas/downloads',\n",
       "  'events_url': 'https://api.github.com/repos/abjer/geopandas/events',\n",
       "  'fork': True,\n",
       "  'forks': 0,\n",
       "  'forks_count': 0,\n",
       "  'forks_url': 'https://api.github.com/repos/abjer/geopandas/forks',\n",
       "  'full_name': 'abjer/geopandas',\n",
       "  'git_commits_url': 'https://api.github.com/repos/abjer/geopandas/git/commits{/sha}',\n",
       "  'git_refs_url': 'https://api.github.com/repos/abjer/geopandas/git/refs{/sha}',\n",
       "  'git_tags_url': 'https://api.github.com/repos/abjer/geopandas/git/tags{/sha}',\n",
       "  'git_url': 'git://github.com/abjer/geopandas.git',\n",
       "  'has_downloads': True,\n",
       "  'has_issues': False,\n",
       "  'has_pages': False,\n",
       "  'has_projects': True,\n",
       "  'has_wiki': True,\n",
       "  'homepage': '',\n",
       "  'hooks_url': 'https://api.github.com/repos/abjer/geopandas/hooks',\n",
       "  'html_url': 'https://github.com/abjer/geopandas',\n",
       "  'id': 60264492,\n",
       "  'issue_comment_url': 'https://api.github.com/repos/abjer/geopandas/issues/comments{/number}',\n",
       "  'issue_events_url': 'https://api.github.com/repos/abjer/geopandas/issues/events{/number}',\n",
       "  'issues_url': 'https://api.github.com/repos/abjer/geopandas/issues{/number}',\n",
       "  'keys_url': 'https://api.github.com/repos/abjer/geopandas/keys{/key_id}',\n",
       "  'labels_url': 'https://api.github.com/repos/abjer/geopandas/labels{/name}',\n",
       "  'language': 'Python',\n",
       "  'languages_url': 'https://api.github.com/repos/abjer/geopandas/languages',\n",
       "  'license': {'key': 'bsd-3-clause',\n",
       "   'name': 'BSD 3-Clause \"New\" or \"Revised\" License',\n",
       "   'node_id': 'MDc6TGljZW5zZTU=',\n",
       "   'spdx_id': 'BSD-3-Clause',\n",
       "   'url': 'https://api.github.com/licenses/bsd-3-clause'},\n",
       "  'merges_url': 'https://api.github.com/repos/abjer/geopandas/merges',\n",
       "  'milestones_url': 'https://api.github.com/repos/abjer/geopandas/milestones{/number}',\n",
       "  'mirror_url': None,\n",
       "  'name': 'geopandas',\n",
       "  'node_id': 'MDEwOlJlcG9zaXRvcnk2MDI2NDQ5Mg==',\n",
       "  'notifications_url': 'https://api.github.com/repos/abjer/geopandas/notifications{?since,all,participating}',\n",
       "  'open_issues': 0,\n",
       "  'open_issues_count': 0,\n",
       "  'owner': {'avatar_url': 'https://avatars3.githubusercontent.com/u/6363844?v=4',\n",
       "   'events_url': 'https://api.github.com/users/abjer/events{/privacy}',\n",
       "   'followers_url': 'https://api.github.com/users/abjer/followers',\n",
       "   'following_url': 'https://api.github.com/users/abjer/following{/other_user}',\n",
       "   'gists_url': 'https://api.github.com/users/abjer/gists{/gist_id}',\n",
       "   'gravatar_id': '',\n",
       "   'html_url': 'https://github.com/abjer',\n",
       "   'id': 6363844,\n",
       "   'login': 'abjer',\n",
       "   'node_id': 'MDQ6VXNlcjYzNjM4NDQ=',\n",
       "   'organizations_url': 'https://api.github.com/users/abjer/orgs',\n",
       "   'received_events_url': 'https://api.github.com/users/abjer/received_events',\n",
       "   'repos_url': 'https://api.github.com/users/abjer/repos',\n",
       "   'site_admin': False,\n",
       "   'starred_url': 'https://api.github.com/users/abjer/starred{/owner}{/repo}',\n",
       "   'subscriptions_url': 'https://api.github.com/users/abjer/subscriptions',\n",
       "   'type': 'User',\n",
       "   'url': 'https://api.github.com/users/abjer'},\n",
       "  'private': False,\n",
       "  'pulls_url': 'https://api.github.com/repos/abjer/geopandas/pulls{/number}',\n",
       "  'pushed_at': '2016-06-17T13:11:35Z',\n",
       "  'releases_url': 'https://api.github.com/repos/abjer/geopandas/releases{/id}',\n",
       "  'size': 3627,\n",
       "  'ssh_url': 'git@github.com:abjer/geopandas.git',\n",
       "  'stargazers_count': 0,\n",
       "  'stargazers_url': 'https://api.github.com/repos/abjer/geopandas/stargazers',\n",
       "  'statuses_url': 'https://api.github.com/repos/abjer/geopandas/statuses/{sha}',\n",
       "  'subscribers_url': 'https://api.github.com/repos/abjer/geopandas/subscribers',\n",
       "  'subscription_url': 'https://api.github.com/repos/abjer/geopandas/subscription',\n",
       "  'svn_url': 'https://github.com/abjer/geopandas',\n",
       "  'tags_url': 'https://api.github.com/repos/abjer/geopandas/tags',\n",
       "  'teams_url': 'https://api.github.com/repos/abjer/geopandas/teams',\n",
       "  'trees_url': 'https://api.github.com/repos/abjer/geopandas/git/trees{/sha}',\n",
       "  'updated_at': '2016-06-02T13:03:00Z',\n",
       "  'url': 'https://api.github.com/repos/abjer/geopandas',\n",
       "  'watchers': 0,\n",
       "  'watchers_count': 0},\n",
       " {'archive_url': 'https://api.github.com/repos/abjer/privacy_spatial/{archive_format}{/ref}',\n",
       "  'archived': False,\n",
       "  'assignees_url': 'https://api.github.com/repos/abjer/privacy_spatial/assignees{/user}',\n",
       "  'blobs_url': 'https://api.github.com/repos/abjer/privacy_spatial/git/blobs{/sha}',\n",
       "  'branches_url': 'https://api.github.com/repos/abjer/privacy_spatial/branches{/branch}',\n",
       "  'clone_url': 'https://github.com/abjer/privacy_spatial.git',\n",
       "  'collaborators_url': 'https://api.github.com/repos/abjer/privacy_spatial/collaborators{/collaborator}',\n",
       "  'comments_url': 'https://api.github.com/repos/abjer/privacy_spatial/comments{/number}',\n",
       "  'commits_url': 'https://api.github.com/repos/abjer/privacy_spatial/commits{/sha}',\n",
       "  'compare_url': 'https://api.github.com/repos/abjer/privacy_spatial/compare/{base}...{head}',\n",
       "  'contents_url': 'https://api.github.com/repos/abjer/privacy_spatial/contents/{+path}',\n",
       "  'contributors_url': 'https://api.github.com/repos/abjer/privacy_spatial/contributors',\n",
       "  'created_at': '2018-01-18T10:52:21Z',\n",
       "  'default_branch': 'master',\n",
       "  'deployments_url': 'https://api.github.com/repos/abjer/privacy_spatial/deployments',\n",
       "  'description': 'This is a repository for code companioning the paper \"Privacy in spatial data with high resolution and time invariance\" written by Andreas Bjerre-Nielsen and Mikkel Høst Gandil.',\n",
       "  'downloads_url': 'https://api.github.com/repos/abjer/privacy_spatial/downloads',\n",
       "  'events_url': 'https://api.github.com/repos/abjer/privacy_spatial/events',\n",
       "  'fork': False,\n",
       "  'forks': 0,\n",
       "  'forks_count': 0,\n",
       "  'forks_url': 'https://api.github.com/repos/abjer/privacy_spatial/forks',\n",
       "  'full_name': 'abjer/privacy_spatial',\n",
       "  'git_commits_url': 'https://api.github.com/repos/abjer/privacy_spatial/git/commits{/sha}',\n",
       "  'git_refs_url': 'https://api.github.com/repos/abjer/privacy_spatial/git/refs{/sha}',\n",
       "  'git_tags_url': 'https://api.github.com/repos/abjer/privacy_spatial/git/tags{/sha}',\n",
       "  'git_url': 'git://github.com/abjer/privacy_spatial.git',\n",
       "  'has_downloads': True,\n",
       "  'has_issues': True,\n",
       "  'has_pages': False,\n",
       "  'has_projects': True,\n",
       "  'has_wiki': True,\n",
       "  'homepage': None,\n",
       "  'hooks_url': 'https://api.github.com/repos/abjer/privacy_spatial/hooks',\n",
       "  'html_url': 'https://github.com/abjer/privacy_spatial',\n",
       "  'id': 117970609,\n",
       "  'issue_comment_url': 'https://api.github.com/repos/abjer/privacy_spatial/issues/comments{/number}',\n",
       "  'issue_events_url': 'https://api.github.com/repos/abjer/privacy_spatial/issues/events{/number}',\n",
       "  'issues_url': 'https://api.github.com/repos/abjer/privacy_spatial/issues{/number}',\n",
       "  'keys_url': 'https://api.github.com/repos/abjer/privacy_spatial/keys{/key_id}',\n",
       "  'labels_url': 'https://api.github.com/repos/abjer/privacy_spatial/labels{/name}',\n",
       "  'language': 'Python',\n",
       "  'languages_url': 'https://api.github.com/repos/abjer/privacy_spatial/languages',\n",
       "  'license': {'key': 'mit',\n",
       "   'name': 'MIT License',\n",
       "   'node_id': 'MDc6TGljZW5zZTEz',\n",
       "   'spdx_id': 'MIT',\n",
       "   'url': 'https://api.github.com/licenses/mit'},\n",
       "  'merges_url': 'https://api.github.com/repos/abjer/privacy_spatial/merges',\n",
       "  'milestones_url': 'https://api.github.com/repos/abjer/privacy_spatial/milestones{/number}',\n",
       "  'mirror_url': None,\n",
       "  'name': 'privacy_spatial',\n",
       "  'node_id': 'MDEwOlJlcG9zaXRvcnkxMTc5NzA2MDk=',\n",
       "  'notifications_url': 'https://api.github.com/repos/abjer/privacy_spatial/notifications{?since,all,participating}',\n",
       "  'open_issues': 0,\n",
       "  'open_issues_count': 0,\n",
       "  'owner': {'avatar_url': 'https://avatars3.githubusercontent.com/u/6363844?v=4',\n",
       "   'events_url': 'https://api.github.com/users/abjer/events{/privacy}',\n",
       "   'followers_url': 'https://api.github.com/users/abjer/followers',\n",
       "   'following_url': 'https://api.github.com/users/abjer/following{/other_user}',\n",
       "   'gists_url': 'https://api.github.com/users/abjer/gists{/gist_id}',\n",
       "   'gravatar_id': '',\n",
       "   'html_url': 'https://github.com/abjer',\n",
       "   'id': 6363844,\n",
       "   'login': 'abjer',\n",
       "   'node_id': 'MDQ6VXNlcjYzNjM4NDQ=',\n",
       "   'organizations_url': 'https://api.github.com/users/abjer/orgs',\n",
       "   'received_events_url': 'https://api.github.com/users/abjer/received_events',\n",
       "   'repos_url': 'https://api.github.com/users/abjer/repos',\n",
       "   'site_admin': False,\n",
       "   'starred_url': 'https://api.github.com/users/abjer/starred{/owner}{/repo}',\n",
       "   'subscriptions_url': 'https://api.github.com/users/abjer/subscriptions',\n",
       "   'type': 'User',\n",
       "   'url': 'https://api.github.com/users/abjer'},\n",
       "  'private': False,\n",
       "  'pulls_url': 'https://api.github.com/repos/abjer/privacy_spatial/pulls{/number}',\n",
       "  'pushed_at': '2018-03-01T12:19:28Z',\n",
       "  'releases_url': 'https://api.github.com/repos/abjer/privacy_spatial/releases{/id}',\n",
       "  'size': 3110,\n",
       "  'ssh_url': 'git@github.com:abjer/privacy_spatial.git',\n",
       "  'stargazers_count': 0,\n",
       "  'stargazers_url': 'https://api.github.com/repos/abjer/privacy_spatial/stargazers',\n",
       "  'statuses_url': 'https://api.github.com/repos/abjer/privacy_spatial/statuses/{sha}',\n",
       "  'subscribers_url': 'https://api.github.com/repos/abjer/privacy_spatial/subscribers',\n",
       "  'subscription_url': 'https://api.github.com/repos/abjer/privacy_spatial/subscription',\n",
       "  'svn_url': 'https://github.com/abjer/privacy_spatial',\n",
       "  'tags_url': 'https://api.github.com/repos/abjer/privacy_spatial/tags',\n",
       "  'teams_url': 'https://api.github.com/repos/abjer/privacy_spatial/teams',\n",
       "  'trees_url': 'https://api.github.com/repos/abjer/privacy_spatial/git/trees{/sha}',\n",
       "  'updated_at': '2018-04-04T14:26:24Z',\n",
       "  'url': 'https://api.github.com/repos/abjer/privacy_spatial',\n",
       "  'watchers': 0,\n",
       "  'watchers_count': 0},\n",
       " {'archive_url': 'https://api.github.com/repos/abjer/scikit-learn/{archive_format}{/ref}',\n",
       "  'archived': False,\n",
       "  'assignees_url': 'https://api.github.com/repos/abjer/scikit-learn/assignees{/user}',\n",
       "  'blobs_url': 'https://api.github.com/repos/abjer/scikit-learn/git/blobs{/sha}',\n",
       "  'branches_url': 'https://api.github.com/repos/abjer/scikit-learn/branches{/branch}',\n",
       "  'clone_url': 'https://github.com/abjer/scikit-learn.git',\n",
       "  'collaborators_url': 'https://api.github.com/repos/abjer/scikit-learn/collaborators{/collaborator}',\n",
       "  'comments_url': 'https://api.github.com/repos/abjer/scikit-learn/comments{/number}',\n",
       "  'commits_url': 'https://api.github.com/repos/abjer/scikit-learn/commits{/sha}',\n",
       "  'compare_url': 'https://api.github.com/repos/abjer/scikit-learn/compare/{base}...{head}',\n",
       "  'contents_url': 'https://api.github.com/repos/abjer/scikit-learn/contents/{+path}',\n",
       "  'contributors_url': 'https://api.github.com/repos/abjer/scikit-learn/contributors',\n",
       "  'created_at': '2017-08-30T12:45:31Z',\n",
       "  'default_branch': 'master',\n",
       "  'deployments_url': 'https://api.github.com/repos/abjer/scikit-learn/deployments',\n",
       "  'description': 'scikit-learn: machine learning in Python',\n",
       "  'downloads_url': 'https://api.github.com/repos/abjer/scikit-learn/downloads',\n",
       "  'events_url': 'https://api.github.com/repos/abjer/scikit-learn/events',\n",
       "  'fork': True,\n",
       "  'forks': 0,\n",
       "  'forks_count': 0,\n",
       "  'forks_url': 'https://api.github.com/repos/abjer/scikit-learn/forks',\n",
       "  'full_name': 'abjer/scikit-learn',\n",
       "  'git_commits_url': 'https://api.github.com/repos/abjer/scikit-learn/git/commits{/sha}',\n",
       "  'git_refs_url': 'https://api.github.com/repos/abjer/scikit-learn/git/refs{/sha}',\n",
       "  'git_tags_url': 'https://api.github.com/repos/abjer/scikit-learn/git/tags{/sha}',\n",
       "  'git_url': 'git://github.com/abjer/scikit-learn.git',\n",
       "  'has_downloads': True,\n",
       "  'has_issues': False,\n",
       "  'has_pages': False,\n",
       "  'has_projects': True,\n",
       "  'has_wiki': True,\n",
       "  'homepage': 'http://scikit-learn.org',\n",
       "  'hooks_url': 'https://api.github.com/repos/abjer/scikit-learn/hooks',\n",
       "  'html_url': 'https://github.com/abjer/scikit-learn',\n",
       "  'id': 101880227,\n",
       "  'issue_comment_url': 'https://api.github.com/repos/abjer/scikit-learn/issues/comments{/number}',\n",
       "  'issue_events_url': 'https://api.github.com/repos/abjer/scikit-learn/issues/events{/number}',\n",
       "  'issues_url': 'https://api.github.com/repos/abjer/scikit-learn/issues{/number}',\n",
       "  'keys_url': 'https://api.github.com/repos/abjer/scikit-learn/keys{/key_id}',\n",
       "  'labels_url': 'https://api.github.com/repos/abjer/scikit-learn/labels{/name}',\n",
       "  'language': 'Python',\n",
       "  'languages_url': 'https://api.github.com/repos/abjer/scikit-learn/languages',\n",
       "  'license': {'key': 'other',\n",
       "   'name': 'Other',\n",
       "   'node_id': 'MDc6TGljZW5zZTA=',\n",
       "   'spdx_id': None,\n",
       "   'url': None},\n",
       "  'merges_url': 'https://api.github.com/repos/abjer/scikit-learn/merges',\n",
       "  'milestones_url': 'https://api.github.com/repos/abjer/scikit-learn/milestones{/number}',\n",
       "  'mirror_url': None,\n",
       "  'name': 'scikit-learn',\n",
       "  'node_id': 'MDEwOlJlcG9zaXRvcnkxMDE4ODAyMjc=',\n",
       "  'notifications_url': 'https://api.github.com/repos/abjer/scikit-learn/notifications{?since,all,participating}',\n",
       "  'open_issues': 0,\n",
       "  'open_issues_count': 0,\n",
       "  'owner': {'avatar_url': 'https://avatars3.githubusercontent.com/u/6363844?v=4',\n",
       "   'events_url': 'https://api.github.com/users/abjer/events{/privacy}',\n",
       "   'followers_url': 'https://api.github.com/users/abjer/followers',\n",
       "   'following_url': 'https://api.github.com/users/abjer/following{/other_user}',\n",
       "   'gists_url': 'https://api.github.com/users/abjer/gists{/gist_id}',\n",
       "   'gravatar_id': '',\n",
       "   'html_url': 'https://github.com/abjer',\n",
       "   'id': 6363844,\n",
       "   'login': 'abjer',\n",
       "   'node_id': 'MDQ6VXNlcjYzNjM4NDQ=',\n",
       "   'organizations_url': 'https://api.github.com/users/abjer/orgs',\n",
       "   'received_events_url': 'https://api.github.com/users/abjer/received_events',\n",
       "   'repos_url': 'https://api.github.com/users/abjer/repos',\n",
       "   'site_admin': False,\n",
       "   'starred_url': 'https://api.github.com/users/abjer/starred{/owner}{/repo}',\n",
       "   'subscriptions_url': 'https://api.github.com/users/abjer/subscriptions',\n",
       "   'type': 'User',\n",
       "   'url': 'https://api.github.com/users/abjer'},\n",
       "  'private': False,\n",
       "  'pulls_url': 'https://api.github.com/repos/abjer/scikit-learn/pulls{/number}',\n",
       "  'pushed_at': '2017-11-21T08:27:50Z',\n",
       "  'releases_url': 'https://api.github.com/repos/abjer/scikit-learn/releases{/id}',\n",
       "  'size': 86246,\n",
       "  'ssh_url': 'git@github.com:abjer/scikit-learn.git',\n",
       "  'stargazers_count': 0,\n",
       "  'stargazers_url': 'https://api.github.com/repos/abjer/scikit-learn/stargazers',\n",
       "  'statuses_url': 'https://api.github.com/repos/abjer/scikit-learn/statuses/{sha}',\n",
       "  'subscribers_url': 'https://api.github.com/repos/abjer/scikit-learn/subscribers',\n",
       "  'subscription_url': 'https://api.github.com/repos/abjer/scikit-learn/subscription',\n",
       "  'svn_url': 'https://github.com/abjer/scikit-learn',\n",
       "  'tags_url': 'https://api.github.com/repos/abjer/scikit-learn/tags',\n",
       "  'teams_url': 'https://api.github.com/repos/abjer/scikit-learn/teams',\n",
       "  'trees_url': 'https://api.github.com/repos/abjer/scikit-learn/git/trees{/sha}',\n",
       "  'updated_at': '2017-08-30T12:45:43Z',\n",
       "  'url': 'https://api.github.com/repos/abjer/scikit-learn',\n",
       "  'watchers': 0,\n",
       "  'watchers_count': 0},\n",
       " {'archive_url': 'https://api.github.com/repos/abjer/sds/{archive_format}{/ref}',\n",
       "  'archived': False,\n",
       "  'assignees_url': 'https://api.github.com/repos/abjer/sds/assignees{/user}',\n",
       "  'blobs_url': 'https://api.github.com/repos/abjer/sds/git/blobs{/sha}',\n",
       "  'branches_url': 'https://api.github.com/repos/abjer/sds/branches{/branch}',\n",
       "  'clone_url': 'https://github.com/abjer/sds.git',\n",
       "  'collaborators_url': 'https://api.github.com/repos/abjer/sds/collaborators{/collaborator}',\n",
       "  'comments_url': 'https://api.github.com/repos/abjer/sds/comments{/number}',\n",
       "  'commits_url': 'https://api.github.com/repos/abjer/sds/commits{/sha}',\n",
       "  'compare_url': 'https://api.github.com/repos/abjer/sds/compare/{base}...{head}',\n",
       "  'contents_url': 'https://api.github.com/repos/abjer/sds/contents/{+path}',\n",
       "  'contributors_url': 'https://api.github.com/repos/abjer/sds/contributors',\n",
       "  'created_at': '2018-06-25T15:34:49Z',\n",
       "  'default_branch': 'master',\n",
       "  'deployments_url': 'https://api.github.com/repos/abjer/sds/deployments',\n",
       "  'description': 'Social Data Science - a summer school course',\n",
       "  'downloads_url': 'https://api.github.com/repos/abjer/sds/downloads',\n",
       "  'events_url': 'https://api.github.com/repos/abjer/sds/events',\n",
       "  'fork': False,\n",
       "  'forks': 21,\n",
       "  'forks_count': 21,\n",
       "  'forks_url': 'https://api.github.com/repos/abjer/sds/forks',\n",
       "  'full_name': 'abjer/sds',\n",
       "  'git_commits_url': 'https://api.github.com/repos/abjer/sds/git/commits{/sha}',\n",
       "  'git_refs_url': 'https://api.github.com/repos/abjer/sds/git/refs{/sha}',\n",
       "  'git_tags_url': 'https://api.github.com/repos/abjer/sds/git/tags{/sha}',\n",
       "  'git_url': 'git://github.com/abjer/sds.git',\n",
       "  'has_downloads': True,\n",
       "  'has_issues': True,\n",
       "  'has_pages': True,\n",
       "  'has_projects': True,\n",
       "  'has_wiki': True,\n",
       "  'homepage': 'https://abjer.github.io/sds',\n",
       "  'hooks_url': 'https://api.github.com/repos/abjer/sds/hooks',\n",
       "  'html_url': 'https://github.com/abjer/sds',\n",
       "  'id': 138614833,\n",
       "  'issue_comment_url': 'https://api.github.com/repos/abjer/sds/issues/comments{/number}',\n",
       "  'issue_events_url': 'https://api.github.com/repos/abjer/sds/issues/events{/number}',\n",
       "  'issues_url': 'https://api.github.com/repos/abjer/sds/issues{/number}',\n",
       "  'keys_url': 'https://api.github.com/repos/abjer/sds/keys{/key_id}',\n",
       "  'labels_url': 'https://api.github.com/repos/abjer/sds/labels{/name}',\n",
       "  'language': 'Jupyter Notebook',\n",
       "  'languages_url': 'https://api.github.com/repos/abjer/sds/languages',\n",
       "  'license': None,\n",
       "  'merges_url': 'https://api.github.com/repos/abjer/sds/merges',\n",
       "  'milestones_url': 'https://api.github.com/repos/abjer/sds/milestones{/number}',\n",
       "  'mirror_url': None,\n",
       "  'name': 'sds',\n",
       "  'node_id': 'MDEwOlJlcG9zaXRvcnkxMzg2MTQ4MzM=',\n",
       "  'notifications_url': 'https://api.github.com/repos/abjer/sds/notifications{?since,all,participating}',\n",
       "  'open_issues': 2,\n",
       "  'open_issues_count': 2,\n",
       "  'owner': {'avatar_url': 'https://avatars3.githubusercontent.com/u/6363844?v=4',\n",
       "   'events_url': 'https://api.github.com/users/abjer/events{/privacy}',\n",
       "   'followers_url': 'https://api.github.com/users/abjer/followers',\n",
       "   'following_url': 'https://api.github.com/users/abjer/following{/other_user}',\n",
       "   'gists_url': 'https://api.github.com/users/abjer/gists{/gist_id}',\n",
       "   'gravatar_id': '',\n",
       "   'html_url': 'https://github.com/abjer',\n",
       "   'id': 6363844,\n",
       "   'login': 'abjer',\n",
       "   'node_id': 'MDQ6VXNlcjYzNjM4NDQ=',\n",
       "   'organizations_url': 'https://api.github.com/users/abjer/orgs',\n",
       "   'received_events_url': 'https://api.github.com/users/abjer/received_events',\n",
       "   'repos_url': 'https://api.github.com/users/abjer/repos',\n",
       "   'site_admin': False,\n",
       "   'starred_url': 'https://api.github.com/users/abjer/starred{/owner}{/repo}',\n",
       "   'subscriptions_url': 'https://api.github.com/users/abjer/subscriptions',\n",
       "   'type': 'User',\n",
       "   'url': 'https://api.github.com/users/abjer'},\n",
       "  'private': False,\n",
       "  'pulls_url': 'https://api.github.com/repos/abjer/sds/pulls{/number}',\n",
       "  'pushed_at': '2018-08-14T08:49:10Z',\n",
       "  'releases_url': 'https://api.github.com/repos/abjer/sds/releases{/id}',\n",
       "  'size': 13493,\n",
       "  'ssh_url': 'git@github.com:abjer/sds.git',\n",
       "  'stargazers_count': 10,\n",
       "  'stargazers_url': 'https://api.github.com/repos/abjer/sds/stargazers',\n",
       "  'statuses_url': 'https://api.github.com/repos/abjer/sds/statuses/{sha}',\n",
       "  'subscribers_url': 'https://api.github.com/repos/abjer/sds/subscribers',\n",
       "  'subscription_url': 'https://api.github.com/repos/abjer/sds/subscription',\n",
       "  'svn_url': 'https://github.com/abjer/sds',\n",
       "  'tags_url': 'https://api.github.com/repos/abjer/sds/tags',\n",
       "  'teams_url': 'https://api.github.com/repos/abjer/sds/teams',\n",
       "  'trees_url': 'https://api.github.com/repos/abjer/sds/git/trees{/sha}',\n",
       "  'updated_at': '2018-08-14T08:49:11Z',\n",
       "  'url': 'https://api.github.com/repos/abjer/sds',\n",
       "  'watchers': 10,\n",
       "  'watchers_count': 10},\n",
       " {'archive_url': 'https://api.github.com/repos/abjer/sds2017/{archive_format}{/ref}',\n",
       "  'archived': False,\n",
       "  'assignees_url': 'https://api.github.com/repos/abjer/sds2017/assignees{/user}',\n",
       "  'blobs_url': 'https://api.github.com/repos/abjer/sds2017/git/blobs{/sha}',\n",
       "  'branches_url': 'https://api.github.com/repos/abjer/sds2017/branches{/branch}',\n",
       "  'clone_url': 'https://github.com/abjer/sds2017.git',\n",
       "  'collaborators_url': 'https://api.github.com/repos/abjer/sds2017/collaborators{/collaborator}',\n",
       "  'comments_url': 'https://api.github.com/repos/abjer/sds2017/comments{/number}',\n",
       "  'commits_url': 'https://api.github.com/repos/abjer/sds2017/commits{/sha}',\n",
       "  'compare_url': 'https://api.github.com/repos/abjer/sds2017/compare/{base}...{head}',\n",
       "  'contents_url': 'https://api.github.com/repos/abjer/sds2017/contents/{+path}',\n",
       "  'contributors_url': 'https://api.github.com/repos/abjer/sds2017/contributors',\n",
       "  'created_at': '2017-07-07T14:52:37Z',\n",
       "  'default_branch': 'master',\n",
       "  'deployments_url': 'https://api.github.com/repos/abjer/sds2017/deployments',\n",
       "  'description': 'Social Data Science summer school course',\n",
       "  'downloads_url': 'https://api.github.com/repos/abjer/sds2017/downloads',\n",
       "  'events_url': 'https://api.github.com/repos/abjer/sds2017/events',\n",
       "  'fork': True,\n",
       "  'forks': 4,\n",
       "  'forks_count': 4,\n",
       "  'forks_url': 'https://api.github.com/repos/abjer/sds2017/forks',\n",
       "  'full_name': 'abjer/sds2017',\n",
       "  'git_commits_url': 'https://api.github.com/repos/abjer/sds2017/git/commits{/sha}',\n",
       "  'git_refs_url': 'https://api.github.com/repos/abjer/sds2017/git/refs{/sha}',\n",
       "  'git_tags_url': 'https://api.github.com/repos/abjer/sds2017/git/tags{/sha}',\n",
       "  'git_url': 'git://github.com/abjer/sds2017.git',\n",
       "  'has_downloads': True,\n",
       "  'has_issues': False,\n",
       "  'has_pages': True,\n",
       "  'has_projects': True,\n",
       "  'has_wiki': True,\n",
       "  'homepage': 'https://abjer.github.io/sds2017/',\n",
       "  'hooks_url': 'https://api.github.com/repos/abjer/sds2017/hooks',\n",
       "  'html_url': 'https://github.com/abjer/sds2017',\n",
       "  'id': 96548644,\n",
       "  'issue_comment_url': 'https://api.github.com/repos/abjer/sds2017/issues/comments{/number}',\n",
       "  'issue_events_url': 'https://api.github.com/repos/abjer/sds2017/issues/events{/number}',\n",
       "  'issues_url': 'https://api.github.com/repos/abjer/sds2017/issues{/number}',\n",
       "  'keys_url': 'https://api.github.com/repos/abjer/sds2017/keys{/key_id}',\n",
       "  'labels_url': 'https://api.github.com/repos/abjer/sds2017/labels{/name}',\n",
       "  'language': 'Jupyter Notebook',\n",
       "  'languages_url': 'https://api.github.com/repos/abjer/sds2017/languages',\n",
       "  'license': None,\n",
       "  'merges_url': 'https://api.github.com/repos/abjer/sds2017/merges',\n",
       "  'milestones_url': 'https://api.github.com/repos/abjer/sds2017/milestones{/number}',\n",
       "  'mirror_url': None,\n",
       "  'name': 'sds2017',\n",
       "  'node_id': 'MDEwOlJlcG9zaXRvcnk5NjU0ODY0NA==',\n",
       "  'notifications_url': 'https://api.github.com/repos/abjer/sds2017/notifications{?since,all,participating}',\n",
       "  'open_issues': 0,\n",
       "  'open_issues_count': 0,\n",
       "  'owner': {'avatar_url': 'https://avatars3.githubusercontent.com/u/6363844?v=4',\n",
       "   'events_url': 'https://api.github.com/users/abjer/events{/privacy}',\n",
       "   'followers_url': 'https://api.github.com/users/abjer/followers',\n",
       "   'following_url': 'https://api.github.com/users/abjer/following{/other_user}',\n",
       "   'gists_url': 'https://api.github.com/users/abjer/gists{/gist_id}',\n",
       "   'gravatar_id': '',\n",
       "   'html_url': 'https://github.com/abjer',\n",
       "   'id': 6363844,\n",
       "   'login': 'abjer',\n",
       "   'node_id': 'MDQ6VXNlcjYzNjM4NDQ=',\n",
       "   'organizations_url': 'https://api.github.com/users/abjer/orgs',\n",
       "   'received_events_url': 'https://api.github.com/users/abjer/received_events',\n",
       "   'repos_url': 'https://api.github.com/users/abjer/repos',\n",
       "   'site_admin': False,\n",
       "   'starred_url': 'https://api.github.com/users/abjer/starred{/owner}{/repo}',\n",
       "   'subscriptions_url': 'https://api.github.com/users/abjer/subscriptions',\n",
       "   'type': 'User',\n",
       "   'url': 'https://api.github.com/users/abjer'},\n",
       "  'private': False,\n",
       "  'pulls_url': 'https://api.github.com/repos/abjer/sds2017/pulls{/number}',\n",
       "  'pushed_at': '2018-07-19T15:04:53Z',\n",
       "  'releases_url': 'https://api.github.com/repos/abjer/sds2017/releases{/id}',\n",
       "  'size': 259720,\n",
       "  'ssh_url': 'git@github.com:abjer/sds2017.git',\n",
       "  'stargazers_count': 1,\n",
       "  'stargazers_url': 'https://api.github.com/repos/abjer/sds2017/stargazers',\n",
       "  'statuses_url': 'https://api.github.com/repos/abjer/sds2017/statuses/{sha}',\n",
       "  'subscribers_url': 'https://api.github.com/repos/abjer/sds2017/subscribers',\n",
       "  'subscription_url': 'https://api.github.com/repos/abjer/sds2017/subscription',\n",
       "  'svn_url': 'https://github.com/abjer/sds2017',\n",
       "  'tags_url': 'https://api.github.com/repos/abjer/sds2017/tags',\n",
       "  'teams_url': 'https://api.github.com/repos/abjer/sds2017/teams',\n",
       "  'trees_url': 'https://api.github.com/repos/abjer/sds2017/git/trees{/sha}',\n",
       "  'updated_at': '2018-07-19T15:04:55Z',\n",
       "  'url': 'https://api.github.com/repos/abjer/sds2017',\n",
       "  'watchers': 1,\n",
       "  'watchers_count': 1},\n",
       " {'archive_url': 'https://api.github.com/repos/abjer/tsds/{archive_format}{/ref}',\n",
       "  'archived': False,\n",
       "  'assignees_url': 'https://api.github.com/repos/abjer/tsds/assignees{/user}',\n",
       "  'blobs_url': 'https://api.github.com/repos/abjer/tsds/git/blobs{/sha}',\n",
       "  'branches_url': 'https://api.github.com/repos/abjer/tsds/branches{/branch}',\n",
       "  'clone_url': 'https://github.com/abjer/tsds.git',\n",
       "  'collaborators_url': 'https://api.github.com/repos/abjer/tsds/collaborators{/collaborator}',\n",
       "  'comments_url': 'https://api.github.com/repos/abjer/tsds/comments{/number}',\n",
       "  'commits_url': 'https://api.github.com/repos/abjer/tsds/commits{/sha}',\n",
       "  'compare_url': 'https://api.github.com/repos/abjer/tsds/compare/{base}...{head}',\n",
       "  'contents_url': 'https://api.github.com/repos/abjer/tsds/contents/{+path}',\n",
       "  'contributors_url': 'https://api.github.com/repos/abjer/tsds/contributors',\n",
       "  'created_at': '2017-11-20T13:13:52Z',\n",
       "  'default_branch': 'master',\n",
       "  'deployments_url': 'https://api.github.com/repos/abjer/tsds/deployments',\n",
       "  'description': 'Course page for Topics in Social Data Science @ UPCH: https://kurser.ku.dk/course/a%C3%98kk08371u/2017-2018',\n",
       "  'downloads_url': 'https://api.github.com/repos/abjer/tsds/downloads',\n",
       "  'events_url': 'https://api.github.com/repos/abjer/tsds/events',\n",
       "  'fork': False,\n",
       "  'forks': 19,\n",
       "  'forks_count': 19,\n",
       "  'forks_url': 'https://api.github.com/repos/abjer/tsds/forks',\n",
       "  'full_name': 'abjer/tsds',\n",
       "  'git_commits_url': 'https://api.github.com/repos/abjer/tsds/git/commits{/sha}',\n",
       "  'git_refs_url': 'https://api.github.com/repos/abjer/tsds/git/refs{/sha}',\n",
       "  'git_tags_url': 'https://api.github.com/repos/abjer/tsds/git/tags{/sha}',\n",
       "  'git_url': 'git://github.com/abjer/tsds.git',\n",
       "  'has_downloads': True,\n",
       "  'has_issues': True,\n",
       "  'has_pages': False,\n",
       "  'has_projects': True,\n",
       "  'has_wiki': True,\n",
       "  'homepage': '',\n",
       "  'hooks_url': 'https://api.github.com/repos/abjer/tsds/hooks',\n",
       "  'html_url': 'https://github.com/abjer/tsds',\n",
       "  'id': 111412351,\n",
       "  'issue_comment_url': 'https://api.github.com/repos/abjer/tsds/issues/comments{/number}',\n",
       "  'issue_events_url': 'https://api.github.com/repos/abjer/tsds/issues/events{/number}',\n",
       "  'issues_url': 'https://api.github.com/repos/abjer/tsds/issues{/number}',\n",
       "  'keys_url': 'https://api.github.com/repos/abjer/tsds/keys{/key_id}',\n",
       "  'labels_url': 'https://api.github.com/repos/abjer/tsds/labels{/name}',\n",
       "  'language': 'Jupyter Notebook',\n",
       "  'languages_url': 'https://api.github.com/repos/abjer/tsds/languages',\n",
       "  'license': None,\n",
       "  'merges_url': 'https://api.github.com/repos/abjer/tsds/merges',\n",
       "  'milestones_url': 'https://api.github.com/repos/abjer/tsds/milestones{/number}',\n",
       "  'mirror_url': None,\n",
       "  'name': 'tsds',\n",
       "  'node_id': 'MDEwOlJlcG9zaXRvcnkxMTE0MTIzNTE=',\n",
       "  'notifications_url': 'https://api.github.com/repos/abjer/tsds/notifications{?since,all,participating}',\n",
       "  'open_issues': 0,\n",
       "  'open_issues_count': 0,\n",
       "  'owner': {'avatar_url': 'https://avatars3.githubusercontent.com/u/6363844?v=4',\n",
       "   'events_url': 'https://api.github.com/users/abjer/events{/privacy}',\n",
       "   'followers_url': 'https://api.github.com/users/abjer/followers',\n",
       "   'following_url': 'https://api.github.com/users/abjer/following{/other_user}',\n",
       "   'gists_url': 'https://api.github.com/users/abjer/gists{/gist_id}',\n",
       "   'gravatar_id': '',\n",
       "   'html_url': 'https://github.com/abjer',\n",
       "   'id': 6363844,\n",
       "   'login': 'abjer',\n",
       "   'node_id': 'MDQ6VXNlcjYzNjM4NDQ=',\n",
       "   'organizations_url': 'https://api.github.com/users/abjer/orgs',\n",
       "   'received_events_url': 'https://api.github.com/users/abjer/received_events',\n",
       "   'repos_url': 'https://api.github.com/users/abjer/repos',\n",
       "   'site_admin': False,\n",
       "   'starred_url': 'https://api.github.com/users/abjer/starred{/owner}{/repo}',\n",
       "   'subscriptions_url': 'https://api.github.com/users/abjer/subscriptions',\n",
       "   'type': 'User',\n",
       "   'url': 'https://api.github.com/users/abjer'},\n",
       "  'private': False,\n",
       "  'pulls_url': 'https://api.github.com/repos/abjer/tsds/pulls{/number}',\n",
       "  'pushed_at': '2018-04-26T10:51:25Z',\n",
       "  'releases_url': 'https://api.github.com/repos/abjer/tsds/releases{/id}',\n",
       "  'size': 50478,\n",
       "  'ssh_url': 'git@github.com:abjer/tsds.git',\n",
       "  'stargazers_count': 10,\n",
       "  'stargazers_url': 'https://api.github.com/repos/abjer/tsds/stargazers',\n",
       "  'statuses_url': 'https://api.github.com/repos/abjer/tsds/statuses/{sha}',\n",
       "  'subscribers_url': 'https://api.github.com/repos/abjer/tsds/subscribers',\n",
       "  'subscription_url': 'https://api.github.com/repos/abjer/tsds/subscription',\n",
       "  'svn_url': 'https://github.com/abjer/tsds',\n",
       "  'tags_url': 'https://api.github.com/repos/abjer/tsds/tags',\n",
       "  'teams_url': 'https://api.github.com/repos/abjer/tsds/teams',\n",
       "  'trees_url': 'https://api.github.com/repos/abjer/tsds/git/trees{/sha}',\n",
       "  'updated_at': '2018-04-26T10:51:26Z',\n",
       "  'url': 'https://api.github.com/repos/abjer/tsds',\n",
       "  'watchers': 10,\n",
       "  'watchers_count': 10}]"
      ]
     },
     "execution_count": 75,
     "metadata": {},
     "output_type": "execute_result"
    }
   ],
   "source": [
    "response_json = response.json()\n",
    "response_json"
   ]
  },
  {
   "cell_type": "markdown",
   "metadata": {
    "slideshow": {
     "slide_type": "slide"
    }
   },
   "source": [
    "## Web APIs in Python (5)\n",
    "*And how can we see it even more clearly?*"
   ]
  },
  {
   "cell_type": "code",
   "execution_count": 76,
   "metadata": {
    "slideshow": {
     "slide_type": "-"
    }
   },
   "outputs": [
    {
     "name": "stdout",
     "output_type": "stream",
     "text": [
      "[{'archive_url': 'https://api.github.com/repos/abjer/abjer.github.io/{archive_format}{/ref}',\n",
      "  'archived': False,\n",
      "  'assignees_url': 'https://api.github.com/repos/abjer/abjer.github.io/assignees{/user}',\n",
      "  'blobs_url': 'https://api.github.com/repos/abjer/abjer.github.io/git/blobs{/sha}',\n",
      "  'branches_url': 'https://api.github.com/repos/abjer/abjer.github.io/branches{/branch}',\n",
      "  'clone_url': 'https://github.com/abjer/abjer.github.io.git',\n",
      "  'collaborators_url': 'https://api.github.com/repos/abjer/abjer.github.io/collaborators{/collaborator}',\n",
      "  'comments_url': 'https://api.github.com/repos/abjer/abjer.github.io/comments{/number}',\n",
      "  'commits_url': 'https://api.github.com/repos/abjer/abjer.github.io/commits{/sha}',\n",
      "  'compare_url': 'https://api.github.com/repos/abjer/abjer.github.io/compare/{base}...{head}',\n",
      "  'contents_url': 'https://api.github.com/repos/abjer/abjer.github.io/contents/{+path}',\n",
      "  'contributors_url': 'https://api.github.com/repos/abjer/abjer.github.io/contributors',\n",
      "  'created_at': '2017-11-18T22:34:19Z',\n",
      "  'default_branch': 'master',\n",
      "  'deployments_url': 'https://api.github.com/repos/abjer/abjer.github.io/deployments',\n",
      "  'description': 'Repository for personal webpage https://abjer.github.io',\n",
      "  'downloads_url': 'https://api.github.com/repos/abjer/abjer.github.io/downloads',\n",
      "  'events_url': 'https://api.github.com/repos/abjer/abjer.github.io/events',\n",
      "  'fork': False,\n",
      "  'forks': 0,\n",
      "  'forks_count': 0,\n",
      "  'forks_url': 'https://api.github.com/repos/abjer/abjer.github.io/forks',\n",
      "  'full_name': 'abjer/abjer.github.io',\n",
      "  'git_commits_url': 'https://api.github.com/repos/abjer/abjer.github.io/git/commits{/sha}',\n",
      "  'git_refs_url': 'https://api.github.com/repos/abjer/abjer.github.io/git/refs{/sha}',\n",
      "  'git_tags_url': 'https://api.github.com/repos/abjer/abjer.github.io/git/tags{/sha}',\n",
      "  'git_url': 'git://github.com/abjer/abjer.github.io.git',\n",
      "  'has_downloads': True,\n",
      "  'has_issues': True,\n",
      "  'has_pages': True,\n",
      "  'has_projects': True,\n",
      "  'has_wiki': True,\n",
      "  'homepage': None,\n",
      "  'hooks_url': 'https://api.github.com/repos/abjer/abjer.github.io/hooks',\n",
      "  'html_url': 'https://github.com/abjer/abjer.github.io',\n",
      "  'id': 111244798,\n",
      "  'issue_comment_url': 'https://api.github.com/repos/abjer/abjer.github.io/issues/comments{/number}',\n",
      "  'issue_events_url': 'https://api.github.com/repos/abjer/abjer.github.io/issues/events{/number}',\n",
      "  'issues_url': 'https://api.github.com/repos/abjer/abjer.github.io/issues{/number}',\n",
      "  'keys_url': 'https://api.github.com/repos/abjer/abjer.github.io/keys{/key_id}',\n",
      "  'labels_url': 'https://api.github.com/repos/abjer/abjer.github.io/labels{/name}',\n",
      "  'language': 'HTML',\n",
      "  'languages_url': 'https://api.github.com/repos/abjer/abjer.github.io/languages',\n",
      "  'license': None,\n",
      "  'merges_url': 'https://api.github.com/repos/abjer/abjer.github.io/merges',\n",
      "  'milestones_url': 'https://api.github.com/repos/abjer/abjer.github.io/milestones{/number}',\n",
      "  'mirror_url': None,\n",
      "  'name': 'abjer.github.io',\n",
      "  'node_id': 'MDEwOlJlcG9zaXRvcnkxMTEyNDQ3OTg=',\n",
      "  'notifications_url': 'https://api.github.com/repos/abjer/abjer.github.io/notifications{?since,all,participating}',\n",
      "  'open_issues': 0,\n",
      "  'open_issues_count': 0,\n",
      "  'owner': {'avatar_url': 'https://avatars3.githubusercontent.com/u/6363844?v=4',\n",
      "            'events_url': 'https://api.github.com/users/abjer/events{/privacy}',\n",
      "            'followers_url': 'https://api.github.com/users/abjer/followers',\n",
      "            'following_url': 'https://api.github.com/users/abjer/following{/other_user}',\n",
      "            'gists_url': 'https://api.github.com/users/abjer/gists{/gist_id}',\n",
      "            'gravatar_id': '',\n",
      "            'html_url': 'https://github.com/abjer',\n",
      "            'id': 6363844,\n",
      "            'login': 'abjer',\n",
      "            'node_id': 'MDQ6VXNlcjYzNjM4NDQ=',\n",
      "            'organizations_url': 'https://api.github.com/users/abjer/orgs',\n",
      "            'received_events_url': 'https://api.github.com/users/abjer/received_events',\n",
      "            'repos_url': 'https://api.github.com/users/abjer/repos',\n",
      "            'site_admin': False,\n",
      "            'starred_url': 'https://api.github.com/users/abjer/starred{/owner}{/repo}',\n",
      "            'subscriptions_url': 'https://api.github.com/users/abjer/subscriptions',\n",
      "            'type': 'User',\n",
      "            'url': 'https://api.github.com/users/abjer'},\n",
      "  'private': False,\n",
      "  'pulls_url': 'https://api.github.com/repos/abjer/abjer.github.io/pulls{/number}',\n",
      "  'pushed_at': '2018-06-25T04:30:26Z',\n",
      "  'releases_url': 'https://api.github.com/repos/abjer/abjer.github.io/releases{/id}',\n",
      "  'size': 743,\n",
      "  'ssh_url': 'git@github.com:abjer/abjer.github.io.git',\n",
      "  'stargazers_count': 0,\n",
      "  'stargazers_url': 'https://api.github.com/repos/abjer/abjer.github.io/stargazers',\n",
      "  'statuses_url': 'https://api.github.com/repos/abjer/abjer.github.io/statuses/{sha}',\n",
      "  'subscribers_url': 'https://api.github.com/repos/abjer/abjer.github.io/subscribers',\n",
      "  'subscription_url': 'https://api.github.com/repos/abjer/abjer.github.io/subscription',\n",
      "  'svn_url': 'https://github.com/abjer/abjer.github.io',\n",
      "  'tags_url': 'https://api.github.com/repos/abjer/abjer.github.io/tags',\n",
      "  'teams_url': 'https://api.github.com/repos/abjer/abjer.github.io/teams',\n",
      "  'trees_url': 'https://api.github.com/repos/abjer/abjer.github.io/git/trees{/sha}',\n",
      "  'updated_at': '2018-06-25T04:30:28Z',\n",
      "  'url': 'https://api.github.com/repos/abjer/abjer.github.io',\n",
      "  'watchers': 0,\n",
      "  'watchers_count': 0},\n",
      " {'archive_url': 'https://api.github.com/repos/abjer/geopandas/{archive_format}{/ref}',\n",
      "  'archived': False,\n",
      "  'assignees_url': 'https://api.github.com/repos/abjer/geopandas/assignees{/user}',\n",
      "  'blobs_url': 'https://api.github.com/repos/abjer/geopandas/git/blobs{/sha}',\n",
      "  'branches_url': 'https://api.github.com/repos/abjer/geopandas/branches{/branch}',\n",
      "  'clone_url': 'https://github.com/abjer/geopandas.git',\n",
      "  'collaborators_url': 'https://api.github.com/repos/abjer/geopandas/collaborators{/collaborator}',\n",
      "  'comments_url': 'https://api.github.com/repos/abjer/geopandas/comments{/number}',\n",
      "  'commits_url': 'https://api.github.com/repos/abjer/geopandas/commits{/sha}',\n",
      "  'compare_url': 'https://api.github.com/repos/abjer/geopandas/compare/{base}...{head}',\n",
      "  'contents_url': 'https://api.github.com/repos/abjer/geopandas/contents/{+path}',\n",
      "  'contributors_url': 'https://api.github.com/repos/abjer/geopandas/contributors',\n",
      "  'created_at': '2016-06-02T13:02:59Z',\n",
      "  'default_branch': 'master',\n",
      "  'deployments_url': 'https://api.github.com/repos/abjer/geopandas/deployments',\n",
      "  'description': 'Python tools for geographic data',\n",
      "  'downloads_url': 'https://api.github.com/repos/abjer/geopandas/downloads',\n",
      "  'events_url': 'https://api.github.com/repos/abjer/geopandas/events',\n",
      "  'fork': True,\n",
      "  'forks': 0,\n",
      "  'forks_count': 0,\n",
      "  'forks_url': 'https://api.github.com/repos/abjer/geopandas/forks',\n",
      "  'full_name': 'abjer/geopandas',\n",
      "  'git_commits_url': 'https://api.github.com/repos/abjer/geopandas/git/commits{/sha}',\n",
      "  'git_refs_url': 'https://api.github.com/repos/abjer/geopandas/git/refs{/sha}',\n",
      "  'git_tags_url': 'https://api.github.com/repos/abjer/geopandas/git/tags{/sha}',\n",
      "  'git_url': 'git://github.com/abjer/geopandas.git',\n",
      "  'has_downloads': True,\n",
      "  'has_issues': False,\n",
      "  'has_pages': False,\n",
      "  'has_projects': True,\n",
      "  'has_wiki': True,\n",
      "  'homepage': '',\n",
      "  'hooks_url': 'https://api.github.com/repos/abjer/geopandas/hooks',\n",
      "  'html_url': 'https://github.com/abjer/geopandas',\n",
      "  'id': 60264492,\n",
      "  'issue_comment_url': 'https://api.github.com/repos/abjer/geopandas/issues/comments{/number}',\n",
      "  'issue_events_url': 'https://api.github.com/repos/abjer/geopandas/issues/events{/number}',\n",
      "  'issues_url': 'https://api.github.com/repos/abjer/geopandas/issues{/number}',\n",
      "  'keys_url': 'https://api.github.com/repos/abjer/geopandas/keys{/key_id}',\n",
      "  'labels_url': 'https://api.github.com/repos/abjer/geopandas/labels{/name}',\n",
      "  'language': 'Python',\n",
      "  'languages_url': 'https://api.github.com/repos/abjer/geopandas/languages',\n",
      "  'license': {'key': 'bsd-3-clause',\n",
      "              'name': 'BSD 3-Clause \"New\" or \"Revised\" License',\n",
      "              'node_id': 'MDc6TGljZW5zZTU=',\n",
      "              'spdx_id': 'BSD-3-Clause',\n",
      "              'url': 'https://api.github.com/licenses/bsd-3-clause'},\n",
      "  'merges_url': 'https://api.github.com/repos/abjer/geopandas/merges',\n",
      "  'milestones_url': 'https://api.github.com/repos/abjer/geopandas/milestones{/number}',\n",
      "  'mirror_url': None,\n",
      "  'name': 'geopandas',\n",
      "  'node_id': 'MDEwOlJlcG9zaXRvcnk2MDI2NDQ5Mg==',\n",
      "  'notifications_url': 'https://api.github.com/repos/abjer/geopandas/notifications{?since,all,participating}',\n",
      "  'open_issues': 0,\n",
      "  'open_issues_count': 0,\n",
      "  'owner': {'avatar_url': 'https://avatars3.githubusercontent.com/u/6363844?v=4',\n",
      "            'events_url': 'https://api.github.com/users/abjer/events{/privacy}',\n",
      "            'followers_url': 'https://api.github.com/users/abjer/followers',\n",
      "            'following_url': 'https://api.github.com/users/abjer/following{/other_user}',\n",
      "            'gists_url': 'https://api.github.com/users/abjer/gists{/gist_id}',\n",
      "            'gravatar_id': '',\n",
      "            'html_url': 'https://github.com/abjer',\n",
      "            'id': 6363844,\n",
      "            'login': 'abjer',\n",
      "            'node_id': 'MDQ6VXNlcjYzNjM4NDQ=',\n",
      "            'organizations_url': 'https://api.github.com/users/abjer/orgs',\n",
      "            'received_events_url': 'https://api.github.com/users/abjer/received_events',\n",
      "            'repos_url': 'https://api.github.com/users/abjer/repos',\n",
      "            'site_admin': False,\n",
      "            'starred_url': 'https://api.github.com/users/abjer/starred{/owner}{/repo}',\n",
      "            'subscriptions_url': 'https://api.github.com/users/abjer/subscriptions',\n",
      "            'type': 'User',\n",
      "            'url': 'https://api.github.com/users/abjer'},\n",
      "  'private': False,\n",
      "  'pulls_url': 'https://api.github.com/repos/abjer/geopandas/pulls{/number}',\n",
      "  'pushed_at': '2016-06-17T13:11:35Z',\n",
      "  'releases_url': 'https://api.github.com/repos/abjer/geopandas/releases{/id}',\n",
      "  'size': 3627,\n",
      "  'ssh_url': 'git@github.com:abjer/geopandas.git',\n",
      "  'stargazers_count': 0,\n",
      "  'stargazers_url': 'https://api.github.com/repos/abjer/geopandas/stargazers',\n",
      "  'statuses_url': 'https://api.github.com/repos/abjer/geopandas/statuses/{sha}',\n",
      "  'subscribers_url': 'https://api.github.com/repos/abjer/geopandas/subscribers',\n",
      "  'subscription_url': 'https://api.github.com/repos/abjer/geopandas/subscription',\n",
      "  'svn_url': 'https://github.com/abjer/geopandas',\n",
      "  'tags_url': 'https://api.github.com/repos/abjer/geopandas/tags',\n",
      "  'teams_url': 'https://api.github.com/repos/abjer/geopandas/teams',\n",
      "  'trees_url': 'https://api.github.com/repos/abjer/geopandas/git/trees{/sha}',\n",
      "  'updated_at': '2016-06-02T13:03:00Z',\n",
      "  'url': 'https://api.github.com/repos/abjer/geopandas',\n",
      "  'watchers': 0,\n",
      "  'watchers_count': 0},\n",
      " {'archive_url': 'https://api.github.com/repos/abjer/privacy_spatial/{archive_format}{/ref}',\n",
      "  'archived': False,\n",
      "  'assignees_url': 'https://api.github.com/repos/abjer/privacy_spatial/assignees{/user}',\n",
      "  'blobs_url': 'https://api.github.com/repos/abjer/privacy_spatial/git/blobs{/sha}',\n",
      "  'branches_url': 'https://api.github.com/repos/abjer/privacy_spatial/branches{/branch}',\n",
      "  'clone_url': 'https://github.com/abjer/privacy_spatial.git',\n",
      "  'collaborators_url': 'https://api.github.com/repos/abjer/privacy_spatial/collaborators{/collaborator}',\n",
      "  'comments_url': 'https://api.github.com/repos/abjer/privacy_spatial/comments{/number}',\n",
      "  'commits_url': 'https://api.github.com/repos/abjer/privacy_spatial/commits{/sha}',\n",
      "  'compare_url': 'https://api.github.com/repos/abjer/privacy_spatial/compare/{base}...{head}',\n",
      "  'contents_url': 'https://api.github.com/repos/abjer/privacy_spatial/contents/{+path}',\n",
      "  'contributors_url': 'https://api.github.com/repos/abjer/privacy_spatial/contributors',\n",
      "  'created_at': '2018-01-18T10:52:21Z',\n",
      "  'default_branch': 'master',\n",
      "  'deployments_url': 'https://api.github.com/repos/abjer/privacy_spatial/deployments',\n",
      "  'description': 'This is a repository for code companioning the paper '\n",
      "                 '\"Privacy in spatial data with high resolution and time '\n",
      "                 'invariance\" written by Andreas Bjerre-Nielsen and Mikkel '\n",
      "                 'Høst Gandil.',\n",
      "  'downloads_url': 'https://api.github.com/repos/abjer/privacy_spatial/downloads',\n",
      "  'events_url': 'https://api.github.com/repos/abjer/privacy_spatial/events',\n",
      "  'fork': False,\n",
      "  'forks': 0,\n",
      "  'forks_count': 0,\n",
      "  'forks_url': 'https://api.github.com/repos/abjer/privacy_spatial/forks',\n",
      "  'full_name': 'abjer/privacy_spatial',\n",
      "  'git_commits_url': 'https://api.github.com/repos/abjer/privacy_spatial/git/commits{/sha}',\n",
      "  'git_refs_url': 'https://api.github.com/repos/abjer/privacy_spatial/git/refs{/sha}',\n",
      "  'git_tags_url': 'https://api.github.com/repos/abjer/privacy_spatial/git/tags{/sha}',\n",
      "  'git_url': 'git://github.com/abjer/privacy_spatial.git',\n",
      "  'has_downloads': True,\n",
      "  'has_issues': True,\n",
      "  'has_pages': False,\n",
      "  'has_projects': True,\n",
      "  'has_wiki': True,\n",
      "  'homepage': None,\n",
      "  'hooks_url': 'https://api.github.com/repos/abjer/privacy_spatial/hooks',\n",
      "  'html_url': 'https://github.com/abjer/privacy_spatial',\n",
      "  'id': 117970609,\n",
      "  'issue_comment_url': 'https://api.github.com/repos/abjer/privacy_spatial/issues/comments{/number}',\n",
      "  'issue_events_url': 'https://api.github.com/repos/abjer/privacy_spatial/issues/events{/number}',\n",
      "  'issues_url': 'https://api.github.com/repos/abjer/privacy_spatial/issues{/number}',\n",
      "  'keys_url': 'https://api.github.com/repos/abjer/privacy_spatial/keys{/key_id}',\n",
      "  'labels_url': 'https://api.github.com/repos/abjer/privacy_spatial/labels{/name}',\n",
      "  'language': 'Python',\n",
      "  'languages_url': 'https://api.github.com/repos/abjer/privacy_spatial/languages',\n",
      "  'license': {'key': 'mit',\n",
      "              'name': 'MIT License',\n",
      "              'node_id': 'MDc6TGljZW5zZTEz',\n",
      "              'spdx_id': 'MIT',\n",
      "              'url': 'https://api.github.com/licenses/mit'},\n",
      "  'merges_url': 'https://api.github.com/repos/abjer/privacy_spatial/merges',\n",
      "  'milestones_url': 'https://api.github.com/repos/abjer/privacy_spatial/milestones{/number}',\n",
      "  'mirror_url': None,\n",
      "  'name': 'privacy_spatial',\n",
      "  'node_id': 'MDEwOlJlcG9zaXRvcnkxMTc5NzA2MDk=',\n",
      "  'notifications_url': 'https://api.github.com/repos/abjer/privacy_spatial/notifications{?since,all,participating}',\n",
      "  'open_issues': 0,\n",
      "  'open_issues_count': 0,\n",
      "  'owner': {'avatar_url': 'https://avatars3.githubusercontent.com/u/6363844?v=4',\n",
      "            'events_url': 'https://api.github.com/users/abjer/events{/privacy}',\n",
      "            'followers_url': 'https://api.github.com/users/abjer/followers',\n",
      "            'following_url': 'https://api.github.com/users/abjer/following{/other_user}',\n",
      "            'gists_url': 'https://api.github.com/users/abjer/gists{/gist_id}',\n",
      "            'gravatar_id': '',\n",
      "            'html_url': 'https://github.com/abjer',\n",
      "            'id': 6363844,\n",
      "            'login': 'abjer',\n",
      "            'node_id': 'MDQ6VXNlcjYzNjM4NDQ=',\n",
      "            'organizations_url': 'https://api.github.com/users/abjer/orgs',\n",
      "            'received_events_url': 'https://api.github.com/users/abjer/received_events',\n",
      "            'repos_url': 'https://api.github.com/users/abjer/repos',\n",
      "            'site_admin': False,\n",
      "            'starred_url': 'https://api.github.com/users/abjer/starred{/owner}{/repo}',\n",
      "            'subscriptions_url': 'https://api.github.com/users/abjer/subscriptions',\n",
      "            'type': 'User',\n",
      "            'url': 'https://api.github.com/users/abjer'},\n",
      "  'private': False,\n",
      "  'pulls_url': 'https://api.github.com/repos/abjer/privacy_spatial/pulls{/number}',\n",
      "  'pushed_at': '2018-03-01T12:19:28Z',\n",
      "  'releases_url': 'https://api.github.com/repos/abjer/privacy_spatial/releases{/id}',\n",
      "  'size': 3110,\n",
      "  'ssh_url': 'git@github.com:abjer/privacy_spatial.git',\n",
      "  'stargazers_count': 0,\n",
      "  'stargazers_url': 'https://api.github.com/repos/abjer/privacy_spatial/stargazers',\n",
      "  'statuses_url': 'https://api.github.com/repos/abjer/privacy_spatial/statuses/{sha}',\n",
      "  'subscribers_url': 'https://api.github.com/repos/abjer/privacy_spatial/subscribers',\n",
      "  'subscription_url': 'https://api.github.com/repos/abjer/privacy_spatial/subscription',\n",
      "  'svn_url': 'https://github.com/abjer/privacy_spatial',\n",
      "  'tags_url': 'https://api.github.com/repos/abjer/privacy_spatial/tags',\n",
      "  'teams_url': 'https://api.github.com/repos/abjer/privacy_spatial/teams',\n",
      "  'trees_url': 'https://api.github.com/repos/abjer/privacy_spatial/git/trees{/sha}',\n",
      "  'updated_at': '2018-04-04T14:26:24Z',\n",
      "  'url': 'https://api.github.com/repos/abjer/privacy_spatial',\n",
      "  'watchers': 0,\n",
      "  'watchers_count': 0},\n",
      " {'archive_url': 'https://api.github.com/repos/abjer/scikit-learn/{archive_format}{/ref}',\n",
      "  'archived': False,\n",
      "  'assignees_url': 'https://api.github.com/repos/abjer/scikit-learn/assignees{/user}',\n",
      "  'blobs_url': 'https://api.github.com/repos/abjer/scikit-learn/git/blobs{/sha}',\n",
      "  'branches_url': 'https://api.github.com/repos/abjer/scikit-learn/branches{/branch}',\n",
      "  'clone_url': 'https://github.com/abjer/scikit-learn.git',\n",
      "  'collaborators_url': 'https://api.github.com/repos/abjer/scikit-learn/collaborators{/collaborator}',\n",
      "  'comments_url': 'https://api.github.com/repos/abjer/scikit-learn/comments{/number}',\n",
      "  'commits_url': 'https://api.github.com/repos/abjer/scikit-learn/commits{/sha}',\n",
      "  'compare_url': 'https://api.github.com/repos/abjer/scikit-learn/compare/{base}...{head}',\n",
      "  'contents_url': 'https://api.github.com/repos/abjer/scikit-learn/contents/{+path}',\n",
      "  'contributors_url': 'https://api.github.com/repos/abjer/scikit-learn/contributors',\n",
      "  'created_at': '2017-08-30T12:45:31Z',\n",
      "  'default_branch': 'master',\n",
      "  'deployments_url': 'https://api.github.com/repos/abjer/scikit-learn/deployments',\n",
      "  'description': 'scikit-learn: machine learning in Python',\n",
      "  'downloads_url': 'https://api.github.com/repos/abjer/scikit-learn/downloads',\n",
      "  'events_url': 'https://api.github.com/repos/abjer/scikit-learn/events',\n",
      "  'fork': True,\n",
      "  'forks': 0,\n",
      "  'forks_count': 0,\n",
      "  'forks_url': 'https://api.github.com/repos/abjer/scikit-learn/forks',\n",
      "  'full_name': 'abjer/scikit-learn',\n",
      "  'git_commits_url': 'https://api.github.com/repos/abjer/scikit-learn/git/commits{/sha}',\n",
      "  'git_refs_url': 'https://api.github.com/repos/abjer/scikit-learn/git/refs{/sha}',\n",
      "  'git_tags_url': 'https://api.github.com/repos/abjer/scikit-learn/git/tags{/sha}',\n",
      "  'git_url': 'git://github.com/abjer/scikit-learn.git',\n",
      "  'has_downloads': True,\n",
      "  'has_issues': False,\n",
      "  'has_pages': False,\n",
      "  'has_projects': True,\n",
      "  'has_wiki': True,\n",
      "  'homepage': 'http://scikit-learn.org',\n",
      "  'hooks_url': 'https://api.github.com/repos/abjer/scikit-learn/hooks',\n",
      "  'html_url': 'https://github.com/abjer/scikit-learn',\n",
      "  'id': 101880227,\n",
      "  'issue_comment_url': 'https://api.github.com/repos/abjer/scikit-learn/issues/comments{/number}',\n",
      "  'issue_events_url': 'https://api.github.com/repos/abjer/scikit-learn/issues/events{/number}',\n",
      "  'issues_url': 'https://api.github.com/repos/abjer/scikit-learn/issues{/number}',\n",
      "  'keys_url': 'https://api.github.com/repos/abjer/scikit-learn/keys{/key_id}',\n",
      "  'labels_url': 'https://api.github.com/repos/abjer/scikit-learn/labels{/name}',\n",
      "  'language': 'Python',\n",
      "  'languages_url': 'https://api.github.com/repos/abjer/scikit-learn/languages',\n",
      "  'license': {'key': 'other',\n",
      "              'name': 'Other',\n",
      "              'node_id': 'MDc6TGljZW5zZTA=',\n",
      "              'spdx_id': None,\n",
      "              'url': None},\n",
      "  'merges_url': 'https://api.github.com/repos/abjer/scikit-learn/merges',\n",
      "  'milestones_url': 'https://api.github.com/repos/abjer/scikit-learn/milestones{/number}',\n",
      "  'mirror_url': None,\n",
      "  'name': 'scikit-learn',\n",
      "  'node_id': 'MDEwOlJlcG9zaXRvcnkxMDE4ODAyMjc=',\n",
      "  'notifications_url': 'https://api.github.com/repos/abjer/scikit-learn/notifications{?since,all,participating}',\n",
      "  'open_issues': 0,\n",
      "  'open_issues_count': 0,\n",
      "  'owner': {'avatar_url': 'https://avatars3.githubusercontent.com/u/6363844?v=4',\n",
      "            'events_url': 'https://api.github.com/users/abjer/events{/privacy}',\n",
      "            'followers_url': 'https://api.github.com/users/abjer/followers',\n",
      "            'following_url': 'https://api.github.com/users/abjer/following{/other_user}',\n",
      "            'gists_url': 'https://api.github.com/users/abjer/gists{/gist_id}',\n",
      "            'gravatar_id': '',\n",
      "            'html_url': 'https://github.com/abjer',\n",
      "            'id': 6363844,\n",
      "            'login': 'abjer',\n",
      "            'node_id': 'MDQ6VXNlcjYzNjM4NDQ=',\n",
      "            'organizations_url': 'https://api.github.com/users/abjer/orgs',\n",
      "            'received_events_url': 'https://api.github.com/users/abjer/received_events',\n",
      "            'repos_url': 'https://api.github.com/users/abjer/repos',\n",
      "            'site_admin': False,\n",
      "            'starred_url': 'https://api.github.com/users/abjer/starred{/owner}{/repo}',\n",
      "            'subscriptions_url': 'https://api.github.com/users/abjer/subscriptions',\n",
      "            'type': 'User',\n",
      "            'url': 'https://api.github.com/users/abjer'},\n",
      "  'private': False,\n",
      "  'pulls_url': 'https://api.github.com/repos/abjer/scikit-learn/pulls{/number}',\n",
      "  'pushed_at': '2017-11-21T08:27:50Z',\n",
      "  'releases_url': 'https://api.github.com/repos/abjer/scikit-learn/releases{/id}',\n",
      "  'size': 86246,\n",
      "  'ssh_url': 'git@github.com:abjer/scikit-learn.git',\n",
      "  'stargazers_count': 0,\n",
      "  'stargazers_url': 'https://api.github.com/repos/abjer/scikit-learn/stargazers',\n",
      "  'statuses_url': 'https://api.github.com/repos/abjer/scikit-learn/statuses/{sha}',\n",
      "  'subscribers_url': 'https://api.github.com/repos/abjer/scikit-learn/subscribers',\n",
      "  'subscription_url': 'https://api.github.com/repos/abjer/scikit-learn/subscription',\n",
      "  'svn_url': 'https://github.com/abjer/scikit-learn',\n",
      "  'tags_url': 'https://api.github.com/repos/abjer/scikit-learn/tags',\n",
      "  'teams_url': 'https://api.github.com/repos/abjer/scikit-learn/teams',\n",
      "  'trees_url': 'https://api.github.com/repos/abjer/scikit-learn/git/trees{/sha}',\n",
      "  'updated_at': '2017-08-30T12:45:43Z',\n",
      "  'url': 'https://api.github.com/repos/abjer/scikit-learn',\n",
      "  'watchers': 0,\n",
      "  'watchers_count': 0},\n",
      " {'archive_url': 'https://api.github.com/repos/abjer/sds/{archive_format}{/ref}',\n",
      "  'archived': False,\n",
      "  'assignees_url': 'https://api.github.com/repos/abjer/sds/assignees{/user}',\n",
      "  'blobs_url': 'https://api.github.com/repos/abjer/sds/git/blobs{/sha}',\n",
      "  'branches_url': 'https://api.github.com/repos/abjer/sds/branches{/branch}',\n",
      "  'clone_url': 'https://github.com/abjer/sds.git',\n",
      "  'collaborators_url': 'https://api.github.com/repos/abjer/sds/collaborators{/collaborator}',\n",
      "  'comments_url': 'https://api.github.com/repos/abjer/sds/comments{/number}',\n",
      "  'commits_url': 'https://api.github.com/repos/abjer/sds/commits{/sha}',\n",
      "  'compare_url': 'https://api.github.com/repos/abjer/sds/compare/{base}...{head}',\n",
      "  'contents_url': 'https://api.github.com/repos/abjer/sds/contents/{+path}',\n",
      "  'contributors_url': 'https://api.github.com/repos/abjer/sds/contributors',\n",
      "  'created_at': '2018-06-25T15:34:49Z',\n",
      "  'default_branch': 'master',\n",
      "  'deployments_url': 'https://api.github.com/repos/abjer/sds/deployments',\n",
      "  'description': 'Social Data Science - a summer school course',\n",
      "  'downloads_url': 'https://api.github.com/repos/abjer/sds/downloads',\n",
      "  'events_url': 'https://api.github.com/repos/abjer/sds/events',\n",
      "  'fork': False,\n",
      "  'forks': 21,\n",
      "  'forks_count': 21,\n",
      "  'forks_url': 'https://api.github.com/repos/abjer/sds/forks',\n",
      "  'full_name': 'abjer/sds',\n",
      "  'git_commits_url': 'https://api.github.com/repos/abjer/sds/git/commits{/sha}',\n",
      "  'git_refs_url': 'https://api.github.com/repos/abjer/sds/git/refs{/sha}',\n",
      "  'git_tags_url': 'https://api.github.com/repos/abjer/sds/git/tags{/sha}',\n",
      "  'git_url': 'git://github.com/abjer/sds.git',\n",
      "  'has_downloads': True,\n",
      "  'has_issues': True,\n",
      "  'has_pages': True,\n",
      "  'has_projects': True,\n",
      "  'has_wiki': True,\n",
      "  'homepage': 'https://abjer.github.io/sds',\n",
      "  'hooks_url': 'https://api.github.com/repos/abjer/sds/hooks',\n",
      "  'html_url': 'https://github.com/abjer/sds',\n",
      "  'id': 138614833,\n",
      "  'issue_comment_url': 'https://api.github.com/repos/abjer/sds/issues/comments{/number}',\n",
      "  'issue_events_url': 'https://api.github.com/repos/abjer/sds/issues/events{/number}',\n",
      "  'issues_url': 'https://api.github.com/repos/abjer/sds/issues{/number}',\n",
      "  'keys_url': 'https://api.github.com/repos/abjer/sds/keys{/key_id}',\n",
      "  'labels_url': 'https://api.github.com/repos/abjer/sds/labels{/name}',\n",
      "  'language': 'Jupyter Notebook',\n",
      "  'languages_url': 'https://api.github.com/repos/abjer/sds/languages',\n",
      "  'license': None,\n",
      "  'merges_url': 'https://api.github.com/repos/abjer/sds/merges',\n",
      "  'milestones_url': 'https://api.github.com/repos/abjer/sds/milestones{/number}',\n",
      "  'mirror_url': None,\n",
      "  'name': 'sds',\n",
      "  'node_id': 'MDEwOlJlcG9zaXRvcnkxMzg2MTQ4MzM=',\n",
      "  'notifications_url': 'https://api.github.com/repos/abjer/sds/notifications{?since,all,participating}',\n",
      "  'open_issues': 2,\n",
      "  'open_issues_count': 2,\n",
      "  'owner': {'avatar_url': 'https://avatars3.githubusercontent.com/u/6363844?v=4',\n",
      "            'events_url': 'https://api.github.com/users/abjer/events{/privacy}',\n",
      "            'followers_url': 'https://api.github.com/users/abjer/followers',\n",
      "            'following_url': 'https://api.github.com/users/abjer/following{/other_user}',\n",
      "            'gists_url': 'https://api.github.com/users/abjer/gists{/gist_id}',\n",
      "            'gravatar_id': '',\n",
      "            'html_url': 'https://github.com/abjer',\n",
      "            'id': 6363844,\n",
      "            'login': 'abjer',\n",
      "            'node_id': 'MDQ6VXNlcjYzNjM4NDQ=',\n",
      "            'organizations_url': 'https://api.github.com/users/abjer/orgs',\n",
      "            'received_events_url': 'https://api.github.com/users/abjer/received_events',\n",
      "            'repos_url': 'https://api.github.com/users/abjer/repos',\n",
      "            'site_admin': False,\n",
      "            'starred_url': 'https://api.github.com/users/abjer/starred{/owner}{/repo}',\n",
      "            'subscriptions_url': 'https://api.github.com/users/abjer/subscriptions',\n",
      "            'type': 'User',\n",
      "            'url': 'https://api.github.com/users/abjer'},\n",
      "  'private': False,\n",
      "  'pulls_url': 'https://api.github.com/repos/abjer/sds/pulls{/number}',\n",
      "  'pushed_at': '2018-08-14T08:49:10Z',\n",
      "  'releases_url': 'https://api.github.com/repos/abjer/sds/releases{/id}',\n",
      "  'size': 13493,\n",
      "  'ssh_url': 'git@github.com:abjer/sds.git',\n",
      "  'stargazers_count': 10,\n",
      "  'stargazers_url': 'https://api.github.com/repos/abjer/sds/stargazers',\n",
      "  'statuses_url': 'https://api.github.com/repos/abjer/sds/statuses/{sha}',\n",
      "  'subscribers_url': 'https://api.github.com/repos/abjer/sds/subscribers',\n",
      "  'subscription_url': 'https://api.github.com/repos/abjer/sds/subscription',\n",
      "  'svn_url': 'https://github.com/abjer/sds',\n",
      "  'tags_url': 'https://api.github.com/repos/abjer/sds/tags',\n",
      "  'teams_url': 'https://api.github.com/repos/abjer/sds/teams',\n",
      "  'trees_url': 'https://api.github.com/repos/abjer/sds/git/trees{/sha}',\n",
      "  'updated_at': '2018-08-14T08:49:11Z',\n",
      "  'url': 'https://api.github.com/repos/abjer/sds',\n",
      "  'watchers': 10,\n",
      "  'watchers_count': 10},\n",
      " {'archive_url': 'https://api.github.com/repos/abjer/sds2017/{archive_format}{/ref}',\n",
      "  'archived': False,\n",
      "  'assignees_url': 'https://api.github.com/repos/abjer/sds2017/assignees{/user}',\n",
      "  'blobs_url': 'https://api.github.com/repos/abjer/sds2017/git/blobs{/sha}',\n",
      "  'branches_url': 'https://api.github.com/repos/abjer/sds2017/branches{/branch}',\n",
      "  'clone_url': 'https://github.com/abjer/sds2017.git',\n",
      "  'collaborators_url': 'https://api.github.com/repos/abjer/sds2017/collaborators{/collaborator}',\n",
      "  'comments_url': 'https://api.github.com/repos/abjer/sds2017/comments{/number}',\n",
      "  'commits_url': 'https://api.github.com/repos/abjer/sds2017/commits{/sha}',\n",
      "  'compare_url': 'https://api.github.com/repos/abjer/sds2017/compare/{base}...{head}',\n",
      "  'contents_url': 'https://api.github.com/repos/abjer/sds2017/contents/{+path}',\n",
      "  'contributors_url': 'https://api.github.com/repos/abjer/sds2017/contributors',\n",
      "  'created_at': '2017-07-07T14:52:37Z',\n",
      "  'default_branch': 'master',\n",
      "  'deployments_url': 'https://api.github.com/repos/abjer/sds2017/deployments',\n",
      "  'description': 'Social Data Science summer school course',\n",
      "  'downloads_url': 'https://api.github.com/repos/abjer/sds2017/downloads',\n",
      "  'events_url': 'https://api.github.com/repos/abjer/sds2017/events',\n",
      "  'fork': True,\n",
      "  'forks': 4,\n",
      "  'forks_count': 4,\n",
      "  'forks_url': 'https://api.github.com/repos/abjer/sds2017/forks',\n",
      "  'full_name': 'abjer/sds2017',\n",
      "  'git_commits_url': 'https://api.github.com/repos/abjer/sds2017/git/commits{/sha}',\n",
      "  'git_refs_url': 'https://api.github.com/repos/abjer/sds2017/git/refs{/sha}',\n",
      "  'git_tags_url': 'https://api.github.com/repos/abjer/sds2017/git/tags{/sha}',\n",
      "  'git_url': 'git://github.com/abjer/sds2017.git',\n",
      "  'has_downloads': True,\n",
      "  'has_issues': False,\n",
      "  'has_pages': True,\n",
      "  'has_projects': True,\n",
      "  'has_wiki': True,\n",
      "  'homepage': 'https://abjer.github.io/sds2017/',\n",
      "  'hooks_url': 'https://api.github.com/repos/abjer/sds2017/hooks',\n",
      "  'html_url': 'https://github.com/abjer/sds2017',\n",
      "  'id': 96548644,\n",
      "  'issue_comment_url': 'https://api.github.com/repos/abjer/sds2017/issues/comments{/number}',\n",
      "  'issue_events_url': 'https://api.github.com/repos/abjer/sds2017/issues/events{/number}',\n",
      "  'issues_url': 'https://api.github.com/repos/abjer/sds2017/issues{/number}',\n",
      "  'keys_url': 'https://api.github.com/repos/abjer/sds2017/keys{/key_id}',\n",
      "  'labels_url': 'https://api.github.com/repos/abjer/sds2017/labels{/name}',\n",
      "  'language': 'Jupyter Notebook',\n",
      "  'languages_url': 'https://api.github.com/repos/abjer/sds2017/languages',\n",
      "  'license': None,\n",
      "  'merges_url': 'https://api.github.com/repos/abjer/sds2017/merges',\n",
      "  'milestones_url': 'https://api.github.com/repos/abjer/sds2017/milestones{/number}',\n",
      "  'mirror_url': None,\n",
      "  'name': 'sds2017',\n",
      "  'node_id': 'MDEwOlJlcG9zaXRvcnk5NjU0ODY0NA==',\n",
      "  'notifications_url': 'https://api.github.com/repos/abjer/sds2017/notifications{?since,all,participating}',\n",
      "  'open_issues': 0,\n",
      "  'open_issues_count': 0,\n",
      "  'owner': {'avatar_url': 'https://avatars3.githubusercontent.com/u/6363844?v=4',\n",
      "            'events_url': 'https://api.github.com/users/abjer/events{/privacy}',\n",
      "            'followers_url': 'https://api.github.com/users/abjer/followers',\n",
      "            'following_url': 'https://api.github.com/users/abjer/following{/other_user}',\n",
      "            'gists_url': 'https://api.github.com/users/abjer/gists{/gist_id}',\n",
      "            'gravatar_id': '',\n",
      "            'html_url': 'https://github.com/abjer',\n",
      "            'id': 6363844,\n",
      "            'login': 'abjer',\n",
      "            'node_id': 'MDQ6VXNlcjYzNjM4NDQ=',\n",
      "            'organizations_url': 'https://api.github.com/users/abjer/orgs',\n",
      "            'received_events_url': 'https://api.github.com/users/abjer/received_events',\n",
      "            'repos_url': 'https://api.github.com/users/abjer/repos',\n",
      "            'site_admin': False,\n",
      "            'starred_url': 'https://api.github.com/users/abjer/starred{/owner}{/repo}',\n",
      "            'subscriptions_url': 'https://api.github.com/users/abjer/subscriptions',\n",
      "            'type': 'User',\n",
      "            'url': 'https://api.github.com/users/abjer'},\n",
      "  'private': False,\n",
      "  'pulls_url': 'https://api.github.com/repos/abjer/sds2017/pulls{/number}',\n",
      "  'pushed_at': '2018-07-19T15:04:53Z',\n",
      "  'releases_url': 'https://api.github.com/repos/abjer/sds2017/releases{/id}',\n",
      "  'size': 259720,\n",
      "  'ssh_url': 'git@github.com:abjer/sds2017.git',\n",
      "  'stargazers_count': 1,\n",
      "  'stargazers_url': 'https://api.github.com/repos/abjer/sds2017/stargazers',\n",
      "  'statuses_url': 'https://api.github.com/repos/abjer/sds2017/statuses/{sha}',\n",
      "  'subscribers_url': 'https://api.github.com/repos/abjer/sds2017/subscribers',\n",
      "  'subscription_url': 'https://api.github.com/repos/abjer/sds2017/subscription',\n",
      "  'svn_url': 'https://github.com/abjer/sds2017',\n",
      "  'tags_url': 'https://api.github.com/repos/abjer/sds2017/tags',\n",
      "  'teams_url': 'https://api.github.com/repos/abjer/sds2017/teams',\n",
      "  'trees_url': 'https://api.github.com/repos/abjer/sds2017/git/trees{/sha}',\n",
      "  'updated_at': '2018-07-19T15:04:55Z',\n",
      "  'url': 'https://api.github.com/repos/abjer/sds2017',\n",
      "  'watchers': 1,\n",
      "  'watchers_count': 1},\n",
      " {'archive_url': 'https://api.github.com/repos/abjer/tsds/{archive_format}{/ref}',\n",
      "  'archived': False,\n",
      "  'assignees_url': 'https://api.github.com/repos/abjer/tsds/assignees{/user}',\n",
      "  'blobs_url': 'https://api.github.com/repos/abjer/tsds/git/blobs{/sha}',\n",
      "  'branches_url': 'https://api.github.com/repos/abjer/tsds/branches{/branch}',\n",
      "  'clone_url': 'https://github.com/abjer/tsds.git',\n",
      "  'collaborators_url': 'https://api.github.com/repos/abjer/tsds/collaborators{/collaborator}',\n",
      "  'comments_url': 'https://api.github.com/repos/abjer/tsds/comments{/number}',\n",
      "  'commits_url': 'https://api.github.com/repos/abjer/tsds/commits{/sha}',\n",
      "  'compare_url': 'https://api.github.com/repos/abjer/tsds/compare/{base}...{head}',\n",
      "  'contents_url': 'https://api.github.com/repos/abjer/tsds/contents/{+path}',\n",
      "  'contributors_url': 'https://api.github.com/repos/abjer/tsds/contributors',\n",
      "  'created_at': '2017-11-20T13:13:52Z',\n",
      "  'default_branch': 'master',\n",
      "  'deployments_url': 'https://api.github.com/repos/abjer/tsds/deployments',\n",
      "  'description': 'Course page for Topics in Social Data Science @ UPCH: '\n",
      "                 'https://kurser.ku.dk/course/a%C3%98kk08371u/2017-2018',\n",
      "  'downloads_url': 'https://api.github.com/repos/abjer/tsds/downloads',\n",
      "  'events_url': 'https://api.github.com/repos/abjer/tsds/events',\n",
      "  'fork': False,\n",
      "  'forks': 19,\n",
      "  'forks_count': 19,\n",
      "  'forks_url': 'https://api.github.com/repos/abjer/tsds/forks',\n",
      "  'full_name': 'abjer/tsds',\n",
      "  'git_commits_url': 'https://api.github.com/repos/abjer/tsds/git/commits{/sha}',\n",
      "  'git_refs_url': 'https://api.github.com/repos/abjer/tsds/git/refs{/sha}',\n",
      "  'git_tags_url': 'https://api.github.com/repos/abjer/tsds/git/tags{/sha}',\n",
      "  'git_url': 'git://github.com/abjer/tsds.git',\n",
      "  'has_downloads': True,\n",
      "  'has_issues': True,\n",
      "  'has_pages': False,\n",
      "  'has_projects': True,\n",
      "  'has_wiki': True,\n",
      "  'homepage': '',\n",
      "  'hooks_url': 'https://api.github.com/repos/abjer/tsds/hooks',\n",
      "  'html_url': 'https://github.com/abjer/tsds',\n",
      "  'id': 111412351,\n",
      "  'issue_comment_url': 'https://api.github.com/repos/abjer/tsds/issues/comments{/number}',\n",
      "  'issue_events_url': 'https://api.github.com/repos/abjer/tsds/issues/events{/number}',\n",
      "  'issues_url': 'https://api.github.com/repos/abjer/tsds/issues{/number}',\n",
      "  'keys_url': 'https://api.github.com/repos/abjer/tsds/keys{/key_id}',\n",
      "  'labels_url': 'https://api.github.com/repos/abjer/tsds/labels{/name}',\n",
      "  'language': 'Jupyter Notebook',\n",
      "  'languages_url': 'https://api.github.com/repos/abjer/tsds/languages',\n",
      "  'license': None,\n",
      "  'merges_url': 'https://api.github.com/repos/abjer/tsds/merges',\n",
      "  'milestones_url': 'https://api.github.com/repos/abjer/tsds/milestones{/number}',\n",
      "  'mirror_url': None,\n",
      "  'name': 'tsds',\n",
      "  'node_id': 'MDEwOlJlcG9zaXRvcnkxMTE0MTIzNTE=',\n",
      "  'notifications_url': 'https://api.github.com/repos/abjer/tsds/notifications{?since,all,participating}',\n",
      "  'open_issues': 0,\n",
      "  'open_issues_count': 0,\n",
      "  'owner': {'avatar_url': 'https://avatars3.githubusercontent.com/u/6363844?v=4',\n",
      "            'events_url': 'https://api.github.com/users/abjer/events{/privacy}',\n",
      "            'followers_url': 'https://api.github.com/users/abjer/followers',\n",
      "            'following_url': 'https://api.github.com/users/abjer/following{/other_user}',\n",
      "            'gists_url': 'https://api.github.com/users/abjer/gists{/gist_id}',\n",
      "            'gravatar_id': '',\n",
      "            'html_url': 'https://github.com/abjer',\n",
      "            'id': 6363844,\n",
      "            'login': 'abjer',\n",
      "            'node_id': 'MDQ6VXNlcjYzNjM4NDQ=',\n",
      "            'organizations_url': 'https://api.github.com/users/abjer/orgs',\n",
      "            'received_events_url': 'https://api.github.com/users/abjer/received_events',\n",
      "            'repos_url': 'https://api.github.com/users/abjer/repos',\n",
      "            'site_admin': False,\n",
      "            'starred_url': 'https://api.github.com/users/abjer/starred{/owner}{/repo}',\n",
      "            'subscriptions_url': 'https://api.github.com/users/abjer/subscriptions',\n",
      "            'type': 'User',\n",
      "            'url': 'https://api.github.com/users/abjer'},\n",
      "  'private': False,\n",
      "  'pulls_url': 'https://api.github.com/repos/abjer/tsds/pulls{/number}',\n",
      "  'pushed_at': '2018-04-26T10:51:25Z',\n",
      "  'releases_url': 'https://api.github.com/repos/abjer/tsds/releases{/id}',\n",
      "  'size': 50478,\n",
      "  'ssh_url': 'git@github.com:abjer/tsds.git',\n",
      "  'stargazers_count': 10,\n",
      "  'stargazers_url': 'https://api.github.com/repos/abjer/tsds/stargazers',\n",
      "  'statuses_url': 'https://api.github.com/repos/abjer/tsds/statuses/{sha}',\n",
      "  'subscribers_url': 'https://api.github.com/repos/abjer/tsds/subscribers',\n",
      "  'subscription_url': 'https://api.github.com/repos/abjer/tsds/subscription',\n",
      "  'svn_url': 'https://github.com/abjer/tsds',\n",
      "  'tags_url': 'https://api.github.com/repos/abjer/tsds/tags',\n",
      "  'teams_url': 'https://api.github.com/repos/abjer/tsds/teams',\n",
      "  'trees_url': 'https://api.github.com/repos/abjer/tsds/git/trees{/sha}',\n",
      "  'updated_at': '2018-04-26T10:51:26Z',\n",
      "  'url': 'https://api.github.com/repos/abjer/tsds',\n",
      "  'watchers': 10,\n",
      "  'watchers_count': 10}]\n"
     ]
    }
   ],
   "source": [
    "import pprint\n",
    "pprint.pprint(response.json())"
   ]
  },
  {
   "cell_type": "markdown",
   "metadata": {
    "slideshow": {
     "slide_type": "slide"
    }
   },
   "source": [
    "# Loading and saving files\n",
    "\n",
    "How to do input-output (IO) operations in Python "
   ]
  },
  {
   "cell_type": "markdown",
   "metadata": {
    "slideshow": {
     "slide_type": "slide"
    }
   },
   "source": [
    "## Text files\n",
    "*How can we save a string as a text file?*"
   ]
  },
  {
   "cell_type": "code",
   "execution_count": 61,
   "metadata": {
    "slideshow": {
     "slide_type": "fragment"
    }
   },
   "outputs": [],
   "source": [
    "my_str = '\\nThis is important...'\n",
    "\n",
    "with open('my_file.txt', 'a') as f:\n",
    "    f.write(my_str)"
   ]
  },
  {
   "cell_type": "markdown",
   "metadata": {
    "slideshow": {
     "slide_type": "fragment"
    }
   },
   "source": [
    "*How can we load a string from a text file?*"
   ]
  },
  {
   "cell_type": "code",
   "execution_count": 62,
   "metadata": {
    "slideshow": {
     "slide_type": "fragment"
    }
   },
   "outputs": [
    {
     "name": "stdout",
     "output_type": "stream",
     "text": [
      "This is important...\n",
      "This is important...\n",
      "This is important...\n"
     ]
    }
   ],
   "source": [
    "with open('my_file.txt', 'r') as f:    \n",
    "    my_str_load = f.read()\n",
    "print(my_str_load)"
   ]
  },
  {
   "cell_type": "markdown",
   "metadata": {
    "slideshow": {
     "slide_type": "slide"
    }
   },
   "source": [
    "## JSON files\n",
    "*How can we save a JSON file?*"
   ]
  },
  {
   "cell_type": "markdown",
   "metadata": {
    "slideshow": {
     "slide_type": "fragment"
    }
   },
   "source": [
    "The trick is to convert the JSON file to a string. This can be done with `dumps` in the module `json`:"
   ]
  },
  {
   "cell_type": "code",
   "execution_count": 64,
   "metadata": {
    "slideshow": {
     "slide_type": "-"
    }
   },
   "outputs": [],
   "source": [
    "import json\n",
    "\n",
    "with open('my_file.json', 'w') as f:\n",
    "    response_json_str = json.dumps(response_json)\n",
    "    f.write(response_json_str)"
   ]
  },
  {
   "cell_type": "markdown",
   "metadata": {
    "slideshow": {
     "slide_type": "fragment"
    }
   },
   "source": [
    "We can convert a string to JSON with `loads`."
   ]
  },
  {
   "cell_type": "markdown",
   "metadata": {
    "slideshow": {
     "slide_type": "slide"
    }
   },
   "source": [
    "## File handling\n",
    "*How can we remove a file?*"
   ]
  },
  {
   "cell_type": "markdown",
   "metadata": {
    "slideshow": {
     "slide_type": "fragment"
    }
   },
   "source": [
    "The module `os` can do a lot of file handling tasks:"
   ]
  },
  {
   "cell_type": "code",
   "execution_count": 68,
   "metadata": {
    "slideshow": {
     "slide_type": "fragment"
    }
   },
   "outputs": [],
   "source": [
    "import os \n",
    "# os.remove('my_file.json')\n",
    "response"
   ]
  },
  {
   "cell_type": "markdown",
   "metadata": {
    "slideshow": {
     "slide_type": "slide"
    }
   },
   "source": [
    "# Exam projects\n",
    "- You decide\n",
    "- Show us tools you have used in this course\n",
    "- Check out [the exam post](https://abjer.github.io/sds/post/exam/) and the [practical info](https://abjer.github.io/sds/page/practical/)"
   ]
  },
  {
   "cell_type": "markdown",
   "metadata": {
    "slideshow": {
     "slide_type": "slide"
    }
   },
   "source": [
    "# The end\n",
    "[Return to agenda](#Agenda)"
   ]
  }
 ],
 "metadata": {
  "celltoolbar": "Slideshow",
  "kernelspec": {
   "display_name": "Python 3",
   "language": "python",
   "name": "python3"
  },
  "language_info": {
   "codemirror_mode": {
    "name": "ipython",
    "version": 3
   },
   "file_extension": ".py",
   "mimetype": "text/x-python",
   "name": "python",
   "nbconvert_exporter": "python",
   "pygments_lexer": "ipython3",
   "version": "3.5.5"
  }
 },
 "nbformat": 4,
 "nbformat_minor": 2
}
