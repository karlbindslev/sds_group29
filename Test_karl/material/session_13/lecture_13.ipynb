{
 "cells": [
  {
   "cell_type": "markdown",
   "metadata": {
    "slideshow": {
     "slide_type": "skip"
    }
   },
   "source": [
    "# Code stuff - not slides!"
   ]
  },
  {
   "cell_type": "code",
   "execution_count": 11,
   "metadata": {
    "slideshow": {
     "slide_type": "skip"
    }
   },
   "outputs": [
    {
     "name": "stderr",
     "output_type": "stream",
     "text": [
      "ERROR:root:File `'../ML_plots.ipynb.py'` not found.\n"
     ]
    }
   ],
   "source": [
    "%run ../ML_plots.ipynb"
   ]
  },
  {
   "cell_type": "markdown",
   "metadata": {
    "slideshow": {
     "slide_type": "slide"
    }
   },
   "source": [
    "# Session 13:\n",
    "## Supervised learning, part 2\n",
    "\n",
    "*Andreas Bjerre-Nielsen*"
   ]
  },
  {
   "cell_type": "markdown",
   "metadata": {
    "slideshow": {
     "slide_type": "slide"
    }
   },
   "source": [
    "## Agenda\n",
    "1. [model building](#Model-building) \n",
    "1. [model selection](#Model-selection) \n",
    "  - [cross validation](#Cross-validation)\n",
    "  - [tools for selection](#Tools-for-model-selection)\n",
    "1. [dimensionality reduction](#Dimensionality-reduction)  \n",
    "1. [measures for classification](#Measures-for-classification)  \n"
   ]
  },
  {
   "cell_type": "markdown",
   "metadata": {
    "slideshow": {
     "slide_type": "slide"
    }
   },
   "source": [
    "## Vaaaamos"
   ]
  },
  {
   "cell_type": "code",
   "execution_count": 12,
   "metadata": {
    "slideshow": {
     "slide_type": "-"
    }
   },
   "outputs": [],
   "source": [
    "import warnings\n",
    "from sklearn.exceptions import ConvergenceWarning\n",
    "warnings.filterwarnings(action='ignore', category=ConvergenceWarning)\n",
    "\n",
    "import matplotlib.pyplot as plt\n",
    "import numpy as np \n",
    "import pandas as pd \n",
    "import seaborn as sns\n",
    "\n",
    "plt.style.use('default') # set style (colors, background, size, gridlines etc.)\n",
    "plt.rcParams['figure.figsize'] = 10, 4 # set default size of plots\n",
    "plt.rcParams.update({'font.size': 18})"
   ]
  },
  {
   "cell_type": "markdown",
   "metadata": {
    "slideshow": {
     "slide_type": "slide"
    }
   },
   "source": [
    "## Supervised problems (1)\n",
    "*What is the tradeoff for making supervised regression models?*"
   ]
  },
  {
   "cell_type": "code",
   "execution_count": 13,
   "metadata": {},
   "outputs": [],
   "source": [
    "# f_bias_var['regression'][2]"
   ]
  },
  {
   "cell_type": "markdown",
   "metadata": {
    "slideshow": {
     "slide_type": "slide"
    }
   },
   "source": [
    "## Supervised problems (2)\n",
    "*What was a remedy to overfitting in linear models? How do we measure overfitting?*\n",
    "\n",
    "Regularization\n",
    "- Too many irrelevant features - solved by L1 regularization ~ lasso\n",
    "- Exploding coefficients - solved by L2 regularization ~ ridge"
   ]
  },
  {
   "cell_type": "markdown",
   "metadata": {
    "slideshow": {
     "slide_type": "slide"
    }
   },
   "source": [
    "# Model building "
   ]
  },
  {
   "cell_type": "markdown",
   "metadata": {
    "slideshow": {
     "slide_type": "slide"
    }
   },
   "source": [
    "## Model pipelines (1)\n",
    "*Is there a smart way to build ML models?*"
   ]
  },
  {
   "cell_type": "markdown",
   "metadata": {
    "slideshow": {
     "slide_type": "fragment"
    }
   },
   "source": [
    "Yes, we build a pipeline:\n",
    "\n",
    "- Preprocessing data\n",
    "    - Standard: adding polynomials, imputation, rescaling\n",
    "    - Unsupervised learning (more info..)\n",
    "- Supervised learning"
   ]
  },
  {
   "cell_type": "markdown",
   "metadata": {
    "slideshow": {
     "slide_type": "slide"
    }
   },
   "source": [
    "## Model pipelines (2)"
   ]
  },
  {
   "cell_type": "markdown",
   "metadata": {},
   "source": [
    "\n",
    "<center><img src='https://github.com/rasbt/python-machine-learning-book-2nd-edition/raw/master/code/ch06/images/06_01.png' alt=\"Drawing\" style=\"width: 900px;\"/></center>\n"
   ]
  },
  {
   "cell_type": "markdown",
   "metadata": {
    "slideshow": {
     "slide_type": "slide"
    }
   },
   "source": [
    "## Model pipelines (3)\n",
    "*What are the advantages of using a pipeline?*"
   ]
  },
  {
   "cell_type": "markdown",
   "metadata": {
    "slideshow": {
     "slide_type": "fragment"
    }
   },
   "source": [
    "- Ensures good practice - we only fit on training data. \n",
    "- Much less code!"
   ]
  },
  {
   "cell_type": "markdown",
   "metadata": {
    "slideshow": {
     "slide_type": "slide"
    }
   },
   "source": [
    "## Applying a model pipeline (1)\n",
    "*What would this look like in Python?*"
   ]
  },
  {
   "cell_type": "code",
   "execution_count": 14,
   "metadata": {
    "slideshow": {
     "slide_type": "fragment"
    }
   },
   "outputs": [
    {
     "name": "stdout",
     "output_type": "stream",
     "text": [
      "('polynomialfeatures', PolynomialFeatures(degree=2, include_bias=True, interaction_only=False))\n",
      "('standardscaler', StandardScaler(copy=True, with_mean=True, with_std=True))\n"
     ]
    }
   ],
   "source": [
    "from sklearn.pipeline import make_pipeline\n",
    "from sklearn.preprocessing import PolynomialFeatures, StandardScaler\n",
    "\n",
    "pipe_preproc = make_pipeline(PolynomialFeatures(), \n",
    "                             StandardScaler())\n",
    "\n",
    "print(pipe_preproc.steps[0])\n",
    "print(pipe_preproc.steps[1])"
   ]
  },
  {
   "cell_type": "markdown",
   "metadata": {
    "slideshow": {
     "slide_type": "slide"
    }
   },
   "source": [
    "## Applying a model pipeline (2)\n",
    "*Let's some load Boston house price data*"
   ]
  },
  {
   "cell_type": "code",
   "execution_count": 15,
   "metadata": {},
   "outputs": [
    {
     "name": "stdout",
     "output_type": "stream",
     "text": [
      "    :Attribute Information (in order):\n",
      "        - CRIM     per capita crime rate by town\n",
      "        - ZN       proportion of residential land zoned for lots over 25,000 sq.ft.\n",
      "        - INDUS    proportion of non-retail business acres per town\n",
      "        - CHAS     Charles River dummy variable (= 1 if tract bounds river; 0 otherwise)\n",
      "        - NOX      nitric oxides concentration (parts per 10 million)\n",
      "        - RM       average number of rooms per dwelling\n",
      "        - AGE      proportion of owner-occupied units built prior to 1940\n",
      "        - DIS      weighted distances to five Boston employment centres\n",
      "        - RAD      index of accessibility to radial highways\n",
      "        - TAX      full-value property-tax rate per $10,000\n",
      "        - PTRATIO  pupil-teacher ratio by town\n",
      "        - B        1000(Bk - 0.63)^2 where Bk is the proportion of blacks by town\n",
      "        - LSTAT    % lower status of the population\n",
      "        - MEDV     Median value of owner-occupied homes in $1000's\n"
     ]
    }
   ],
   "source": [
    "print('\\n'.join(load_boston()['DESCR'].split('\\n')[13:28]))"
   ]
  },
  {
   "cell_type": "markdown",
   "metadata": {
    "slideshow": {
     "slide_type": "slide"
    }
   },
   "source": [
    "## Applying a model pipeline (3)\n",
    "*And how do I apply the pipe on the data?*"
   ]
  },
  {
   "cell_type": "code",
   "execution_count": 16,
   "metadata": {
    "slideshow": {
     "slide_type": "-"
    }
   },
   "outputs": [
    {
     "name": "stdout",
     "output_type": "stream",
     "text": [
      "['CRIM' 'ZN' 'INDUS' 'CHAS' 'NOX' 'RM' 'AGE' 'DIS' 'RAD' 'TAX' 'PTRATIO'\n",
      " 'B' 'LSTAT']\n"
     ]
    }
   ],
   "source": [
    "from sklearn.model_selection import train_test_split\n",
    "from sklearn.datasets import load_boston\n",
    "X = load_boston().data\n",
    "y = load_boston().target\n",
    "\n",
    "print(load_boston().feature_names)\n",
    "\n",
    "# splitting into train and test data\n",
    "X_train, X_test, y_train, y_test = train_test_split(X, y)\n",
    "\n",
    "# apply preproc - fit on train\n",
    "pipe_preproc.fit(X_train) # fit to training\n",
    "X_train_prep = pipe_preproc.transform(X_train) # transform training data\n",
    "X_test_prep = pipe_preproc.transform(X_test) # transform test data"
   ]
  },
  {
   "cell_type": "markdown",
   "metadata": {
    "slideshow": {
     "slide_type": "slide"
    }
   },
   "source": [
    "## Applying a model pipeline (4)\n",
    "*And how do I apply the pipe on the data?*"
   ]
  },
  {
   "cell_type": "code",
   "execution_count": 17,
   "metadata": {
    "slideshow": {
     "slide_type": "-"
    }
   },
   "outputs": [],
   "source": [
    "# THE PIPE APPLIED\n",
    "\n",
    "# apply preproc - fit on train\n",
    "pipe_preproc = make_pipeline(PolynomialFeatures(), \n",
    "                             StandardScaler())\n",
    "\n",
    "pipe_preproc.fit(X_train) # fit to training\n",
    "X_train_prep = pipe_preproc.transform(X_train) # transform training data\n",
    "X_test_prep = pipe_preproc.transform(X_test) # transform test data\n",
    "\n",
    "# WITHOUT PIPE \n",
    "poly_trans = PolynomialFeatures()\n",
    "scaler = StandardScaler()\n",
    "\n",
    "X_train_poly = poly_trans.fit_transform(X_train) \n",
    "X_test_poly = poly_trans.fit_transform(X_test)\n",
    "\n",
    "scaler.fit(X_train_poly)\n",
    "X_train_prep_alt = scaler.transform(X_train_poly)\n",
    "X_test_prep_alt = scaler.transform(X_test_poly)\n",
    "\n",
    "\n"
   ]
  },
  {
   "cell_type": "markdown",
   "metadata": {
    "slideshow": {
     "slide_type": "slide"
    }
   },
   "source": [
    "# Model selection \n"
   ]
  },
  {
   "cell_type": "markdown",
   "metadata": {
    "slideshow": {
     "slide_type": "slide"
    }
   },
   "source": [
    "## Measuring the problem\n",
    "*Does machine learning work out of the box?*"
   ]
  },
  {
   "cell_type": "markdown",
   "metadata": {
    "slideshow": {
     "slide_type": "fragment"
    }
   },
   "source": [
    "- In some cases ML works quite well out of the box.\n",
    "- Often ML requires making careful choices.\n",
    "    - Note that automated machine learning packages and services exist."
   ]
  },
  {
   "cell_type": "markdown",
   "metadata": {
    "slideshow": {
     "slide_type": "fragment"
    }
   },
   "source": [
    "*Which choices are to be made?*"
   ]
  },
  {
   "cell_type": "markdown",
   "metadata": {
    "slideshow": {
     "slide_type": "fragment"
    }
   },
   "source": [
    "- We need to pick model building **hyperparameters**.\n",
    "- E.g. $\\lambda$ for Lasso, Ridge."
   ]
  },
  {
   "cell_type": "markdown",
   "metadata": {
    "slideshow": {
     "slide_type": "slide"
    }
   },
   "source": [
    "## Model validation (1)\n",
    "*How do we measure our model's performance for different hyperparameters?*"
   ]
  },
  {
   "cell_type": "markdown",
   "metadata": {
    "slideshow": {
     "slide_type": "fragment"
    }
   },
   "source": [
    "- Remember we cannot use the test set."
   ]
  },
  {
   "cell_type": "markdown",
   "metadata": {
    "slideshow": {
     "slide_type": "fragment"
    }
   },
   "source": [
    "*Could we somehow mimick what we do with test data?*"
   ]
  },
  {
   "cell_type": "markdown",
   "metadata": {
    "slideshow": {
     "slide_type": "fragment"
    }
   },
   "source": [
    "- Yes, we can split the remaining non-test data into training and validation data:\n",
    "    - we train model for various hyperparameters on training data;\n",
    "    - pick the hyperparameters which performs best on validation data."
   ]
  },
  {
   "cell_type": "markdown",
   "metadata": {
    "slideshow": {
     "slide_type": "slide"
    }
   },
   "source": [
    "## Model validation (2)\n",
    "*The non-test data is split into training and validation*"
   ]
  },
  {
   "cell_type": "markdown",
   "metadata": {},
   "source": [
    "\n",
    "<center><img src='https://github.com/rasbt/python-machine-learning-book-2nd-edition/raw/master/code/ch06/images/06_02.png' alt=\"Drawing\" style=\"width: 950px;\"/></center>\n"
   ]
  },
  {
   "cell_type": "markdown",
   "metadata": {
    "slideshow": {
     "slide_type": "slide"
    }
   },
   "source": [
    "## Model validation (3)\n",
    "*What would this look like in Python?*"
   ]
  },
  {
   "cell_type": "code",
   "execution_count": 18,
   "metadata": {
    "slideshow": {
     "slide_type": "-"
    }
   },
   "outputs": [
    {
     "name": "stdout",
     "output_type": "stream",
     "text": [
      "<class 'numpy.ndarray'>\n",
      "[[6.3200e-03 1.8000e+01 2.3100e+00 0.0000e+00 5.3800e-01 6.5750e+00\n",
      "  6.5200e+01 4.0900e+00 1.0000e+00 2.9600e+02 1.5300e+01 3.9690e+02\n",
      "  4.9800e+00]\n",
      " [2.7310e-02 0.0000e+00 7.0700e+00 0.0000e+00 4.6900e-01 6.4210e+00\n",
      "  7.8900e+01 4.9671e+00 2.0000e+00 2.4200e+02 1.7800e+01 3.9690e+02\n",
      "  9.1400e+00]\n",
      " [2.7290e-02 0.0000e+00 7.0700e+00 0.0000e+00 4.6900e-01 7.1850e+00\n",
      "  6.1100e+01 4.9671e+00 2.0000e+00 2.4200e+02 1.7800e+01 3.9283e+02\n",
      "  4.0300e+00]]\n",
      "[[3.65900e-02 2.50000e+01 4.86000e+00 0.00000e+00 4.26000e-01 6.30200e+00\n",
      "  3.22000e+01 5.40070e+00 4.00000e+00 2.81000e+02 1.90000e+01 3.96900e+02\n",
      "  6.72000e+00]\n",
      " [5.82115e+00 0.00000e+00 1.81000e+01 0.00000e+00 7.13000e-01 6.51300e+00\n",
      "  8.99000e+01 2.80160e+00 2.40000e+01 6.66000e+02 2.02000e+01 3.93820e+02\n",
      "  1.02900e+01]\n",
      " [2.51990e-01 0.00000e+00 1.05900e+01 0.00000e+00 4.89000e-01 5.78300e+00\n",
      "  7.27000e+01 4.35490e+00 4.00000e+00 2.77000e+02 1.86000e+01 3.89430e+02\n",
      "  1.80600e+01]]\n"
     ]
    }
   ],
   "source": [
    "# splitting into development (2/3) and test data (1/3)\n",
    "X_dev, X_test, y_dev, y_test = train_test_split(X, y, test_size=1/3, random_state=1)\n",
    "\n",
    "# splitting development into train (1/3) and validation (1/3)\n",
    "X_train, X_val, y_train, y_val = train_test_split(X_dev, y_dev, test_size=1/2, random_state=1)\n",
    "print(type(X_train))\n",
    "print(X[0:3])\n",
    "print(X_dev[0:3])"
   ]
  },
  {
   "cell_type": "markdown",
   "metadata": {
    "slideshow": {
     "slide_type": "slide"
    }
   },
   "source": [
    "## Model validation (4)\n",
    "Let's train a linear regression model"
   ]
  },
  {
   "cell_type": "code",
   "execution_count": 19,
   "metadata": {
    "slideshow": {
     "slide_type": "-"
    }
   },
   "outputs": [
    {
     "data": {
      "text/plain": [
       "Pipeline(memory=None,\n",
       "     steps=[('polynomialfeatures', PolynomialFeatures(degree=2, include_bias=False, interaction_only=False)), ('standardscaler', StandardScaler(copy=True, with_mean=True, with_std=True)), ('linearregression', LinearRegression(copy_X=True, fit_intercept=True, n_jobs=1, normalize=False))])"
      ]
     },
     "execution_count": 19,
     "metadata": {},
     "output_type": "execute_result"
    }
   ],
   "source": [
    "from sklearn.linear_model import Lasso, LinearRegression\n",
    "pipe_lr = make_pipeline(PolynomialFeatures(include_bias=False), \n",
    "                        StandardScaler(),\n",
    "                        LinearRegression())\n",
    "\n",
    "pipe_lr.fit(X_dev, y_dev)"
   ]
  },
  {
   "cell_type": "markdown",
   "metadata": {
    "slideshow": {
     "slide_type": "slide"
    }
   },
   "source": [
    "## Model validation (5)\n",
    "Let's find the  Lasso model which performs best in the validation set"
   ]
  },
  {
   "cell_type": "code",
   "execution_count": 20,
   "metadata": {},
   "outputs": [
    {
     "name": "stdout",
     "output_type": "stream",
     "text": [
      "0.01    17.318434\n",
      "dtype: float64\n",
      "[[6.96215e+00 0.00000e+00 1.81000e+01 ... 2.02000e+01 3.94430e+02\n",
      "  1.71100e+01]\n",
      " [3.51000e-02 9.50000e+01 2.68000e+00 ... 1.47000e+01 3.92780e+02\n",
      "  3.81000e+00]\n",
      " [4.81213e+00 0.00000e+00 1.81000e+01 ... 2.02000e+01 2.55230e+02\n",
      "  1.64200e+01]\n",
      " ...\n",
      " [1.36781e+01 0.00000e+00 1.81000e+01 ... 2.02000e+01 6.89500e+01\n",
      "  3.40200e+01]\n",
      " [9.26600e-02 3.40000e+01 6.09000e+00 ... 1.61000e+01 3.83610e+02\n",
      "  8.67000e+00]\n",
      " [5.66000e-02 0.00000e+00 3.41000e+00 ... 1.78000e+01 3.96900e+02\n",
      "  5.50000e+00]]\n"
     ]
    }
   ],
   "source": [
    "from sklearn.metrics import mean_squared_error as mse\n",
    "\n",
    "perform = []\n",
    "lambdas = np.logspace(-4, 4, 33)\n",
    "for lambda_ in lambdas:\n",
    "    pipe_lasso = make_pipeline(PolynomialFeatures(include_bias=False), \n",
    "                               StandardScaler(),\n",
    "                               Lasso(alpha=lambda_, random_state=1))\n",
    "    pipe_lasso.fit(X_train, y_train)\n",
    "    y_pred = pipe_lasso.predict(X_val)\n",
    "    perform.append(mse(y_pred, y_val))\n",
    "    \n",
    "hyperparam_perform = pd.Series(perform,index=lambdas)\n",
    "\n",
    "optimal = hyperparam_perform.nsmallest(1)    \n",
    "print(optimal)\n",
    "print(X_train)"
   ]
  },
  {
   "cell_type": "markdown",
   "metadata": {
    "slideshow": {
     "slide_type": "slide"
    }
   },
   "source": [
    "## Model validation (6)\n",
    "Let's compare the performance of the Lasso vs. Linear Regression"
   ]
  },
  {
   "cell_type": "code",
   "execution_count": 21,
   "metadata": {
    "scrolled": true,
    "slideshow": {
     "slide_type": "-"
    }
   },
   "outputs": [
    {
     "name": "stdout",
     "output_type": "stream",
     "text": [
      "Lasso 12.382\n",
      "LinReg 17.895\n",
      "[30.85494939 25.48148374 20.13639253 19.48003787 25.16739645 20.00373669\n",
      " 31.75293158 15.67244458 20.02722032 25.50852795 28.94506726 28.96511249\n",
      " 19.28219441 20.06934701 20.78625732 25.45211038 13.67602544 48.37150506\n",
      " 23.56235583 13.68796657 18.52882808 16.16630787 23.56081715 24.87983383\n",
      " 27.05811836  9.11182121 15.22536355 19.14758126 38.34980064 15.540185\n",
      " 23.70553396 14.66218885 51.11732942 14.61169934 20.89262558 21.50263993\n",
      " 15.23612886 31.57867604 18.11702712 16.66960411 23.71858722 23.1756614\n",
      " 27.28941304 13.8059198  16.56454301 12.9940562  47.52880065 17.11774006\n",
      " 23.21899043 17.62555599 27.35308016 21.76480444 25.88503694 24.46427631\n",
      " 10.06591247 22.44874067 12.22737961 26.37152911 16.05052445 43.60084793\n",
      " 17.37993927 27.37954825 16.58335534 18.4554717  24.00343142 33.9857969\n",
      " 45.16223553 23.04783888 22.52718014 22.16562654 23.79521758  9.25341915\n",
      " 24.31561588 19.20487691 19.46764988 22.91818472 52.57230095 25.34223004\n",
      " 28.98262085 36.98657755 18.43935495 21.04598238 33.7766459   8.61186523\n",
      " 22.19156072 25.56387948 13.35083172 25.70189861 18.33966917 16.1688052\n",
      " 27.32032063 54.56002321 14.03876234 19.8960339  13.5041677  18.24273535\n",
      " 22.97543557 26.82378052 44.45778738 20.57618526 20.75574622 13.12416382\n",
      " 26.35903563 21.30869254  8.59291643 18.76415864 19.24371476 31.84151771\n",
      " 24.37312009 24.79558269 43.60140453 26.15092362 14.72157065 36.19675724\n",
      " 35.37501277 33.22740905 21.29683546 16.81194046 36.35348566 49.46570849\n",
      " 20.09954659 10.72384881 32.02265943 18.66302391 25.24062245 20.84021659\n",
      " 25.13218978 20.93189919 20.20599828 27.89480513 21.67469088 23.17894133\n",
      " 27.90129938 11.74965465 24.26973914 35.18203017 13.1072087  12.03323547\n",
      " 37.93615894 14.36382372 21.96483604 16.11323771 17.03315221 27.02203308\n",
      " 34.62165426 19.0164742  24.16958672 15.26827212 27.29703804 19.62179628\n",
      " 34.6807678  14.15325211 18.30539894 16.43789658 16.61787315 30.39864533\n",
      " 39.47858576 26.34320339 21.29511108 26.09985882 41.22919302 46.35027473\n",
      " 24.95705541 18.66051309 21.50915796 22.60129072 25.06986299 10.10353171\n",
      " 15.97418176]\n"
     ]
    }
   ],
   "source": [
    "pipe_lasso = make_pipeline(PolynomialFeatures(include_bias=False), \n",
    "                           StandardScaler(),\n",
    "                           Lasso(alpha=optimal.index[0]))\n",
    "\n",
    "pipe_lasso.fit(X_dev,y_dev)\n",
    "print('Lasso', round(mse(pipe_lasso.predict(X_test),y_test), 3))\n",
    "print('LinReg', round(mse(pipe_lr.predict(X_test),y_test), 3))\n",
    "print(pipe_lasso.predict(X_test))"
   ]
  },
  {
   "cell_type": "markdown",
   "metadata": {
    "slideshow": {
     "slide_type": "slide"
    }
   },
   "source": [
    "## Bias and variance (1)\n",
    "*How do we describe the modelling error?*"
   ]
  },
  {
   "cell_type": "markdown",
   "metadata": {
    "slideshow": {
     "slide_type": "fragment"
    }
   },
   "source": [
    "From [Wikipedia Sunday, August 19, 2018](https://en.wikipedia.org/wiki/Bias%E2%80%93variance_tradeoff):\n",
    "\n",
    "- model **bias**: _an error from erroneous assumptions in the learning algorithm_\n",
    "  - oversimplification of models, cannot approximate all patterns found\n",
    "  \n",
    "\n",
    "- model **variance**: _an error from sensitivity to small fluctuations in the training set_\n",
    "  - reacts too much to sample errors and thus finds too many spurious relations "
   ]
  },
  {
   "cell_type": "markdown",
   "metadata": {
    "slideshow": {
     "slide_type": "slide"
    }
   },
   "source": [
    "## Bias and variance (2)"
   ]
  },
  {
   "cell_type": "markdown",
   "metadata": {
    "slideshow": {
     "slide_type": "fragment"
    }
   },
   "source": [
    "- **over fitting**: low bias / high variance\n",
    "    - traning our model captures all patterns but we also find some irrelevant\n",
    "    - examples: Decision Trees, Support Vector Machines or Neural Networks\n",
    "- **under fitting**: high bias / low variance\n",
    "    - traning our model captures all patterns but we also find some irrelevant\n",
    "    - examples: linear and logistic regression (without polynomial expansion)"
   ]
  },
  {
   "cell_type": "markdown",
   "metadata": {
    "slideshow": {
     "slide_type": "slide"
    }
   },
   "source": [
    "## Bias and variance (3)\n",
    "*Not so fast.. OLS is unbiased, right?*"
   ]
  },
  {
   "cell_type": "markdown",
   "metadata": {
    "slideshow": {
     "slide_type": "fragment"
    }
   },
   "source": [
    " Yes, OLS is unbiased. But .. \n",
    "- Requires we know the true form of the model. "
   ]
  },
  {
   "cell_type": "markdown",
   "metadata": {
    "slideshow": {
     "slide_type": "slide"
    }
   },
   "source": [
    "*What happens if we introduce regularization?*\n",
    "- Then model is no longer unbiased."
   ]
  },
  {
   "cell_type": "markdown",
   "metadata": {
    "slideshow": {
     "slide_type": "slide"
    }
   },
   "source": [
    "## Smarter validation\n",
    "*Is this approach the smartest way for deciding on choice of hyperparameters?*"
   ]
  },
  {
   "cell_type": "markdown",
   "metadata": {
    "slideshow": {
     "slide_type": "fragment"
    }
   },
   "source": [
    "# NO\n"
   ]
  },
  {
   "cell_type": "markdown",
   "metadata": {
    "slideshow": {
     "slide_type": "fragment"
    }
   },
   "source": [
    "Our model choice depends a lot on which sample we pick. Could we use more of the data?"
   ]
  },
  {
   "cell_type": "markdown",
   "metadata": {
    "slideshow": {
     "slide_type": "slide"
    }
   },
   "source": [
    "# Cross validation\n"
   ]
  },
  {
   "cell_type": "markdown",
   "metadata": {
    "slideshow": {
     "slide_type": "slide"
    }
   },
   "source": [
    "## The holdout method\n",
    "*How do we got the more out of the data?*"
   ]
  },
  {
   "cell_type": "markdown",
   "metadata": {
    "slideshow": {
     "slide_type": "fragment"
    }
   },
   "source": [
    "We reuse the data in the development set repeatedly\n",
    "- We test on all the data\n",
    "- Rotate which parts of data is used for test and train."
   ]
  },
  {
   "cell_type": "markdown",
   "metadata": {
    "slideshow": {
     "slide_type": "slide"
    }
   },
   "source": [
    "## Leave-one-out CV\n",
    "*How do we got the most of the data?*"
   ]
  },
  {
   "cell_type": "markdown",
   "metadata": {
    "slideshow": {
     "slide_type": "fragment"
    }
   },
   "source": [
    "The most robust approach\n",
    "- Each single observation in the training data we use the remaining data to train.\n",
    "- Makes number of models equal to the number of observations\n",
    "- Very computing intensive - does not scale!\n",
    "LOOCV"
   ]
  },
  {
   "cell_type": "markdown",
   "metadata": {
    "slideshow": {
     "slide_type": "slide"
    }
   },
   "source": [
    "## K fold method (1)\n",
    "*How do balance computing time vs. overfitting?*"
   ]
  },
  {
   "cell_type": "markdown",
   "metadata": {
    "slideshow": {
     "slide_type": "fragment"
    }
   },
   "source": [
    "We split the sample into $K$ even sized test bins.\n",
    "- For each test bin $k$ we use the remaining data for training.\n",
    "\n",
    "Advantages:\n",
    "- We use all our data for testing.\n",
    "- Training is done with 100-(100/K) pct. of the data, i.e. 90 pct. for K=10."
   ]
  },
  {
   "cell_type": "markdown",
   "metadata": {
    "slideshow": {
     "slide_type": "slide"
    }
   },
   "source": [
    "## K fold method (2)\n",
    "In K-fold cross validation we average the errors."
   ]
  },
  {
   "cell_type": "markdown",
   "metadata": {},
   "source": [
    "<center><img src='https://github.com/rasbt/python-machine-learning-book-2nd-edition/raw/master/code/ch06/images/06_03.png' alt=\"Drawing\" style=\"width: 1100px;\"/></center>"
   ]
  },
  {
   "cell_type": "markdown",
   "metadata": {
    "slideshow": {
     "slide_type": "slide"
    }
   },
   "source": [
    "## K fold method (3)\n",
    "*How would we use K-fold cross validation to select our model?*"
   ]
  },
  {
   "cell_type": "code",
   "execution_count": 61,
   "metadata": {
    "slideshow": {
     "slide_type": "-"
    }
   },
   "outputs": [],
   "source": [
    "from sklearn.model_selection import KFold\n",
    "kfolds = KFold(n_splits=10)\n",
    "mseCV = []\n",
    "\n",
    "for lambda_ in lambdas:\n",
    "    \n",
    "    pipe_lassoCV = make_pipeline(PolynomialFeatures(degree=3, include_bias=False),\n",
    "                                 StandardScaler(),\n",
    "                                 Lasso(alpha=lambda_, random_state=1))    \n",
    "    mseCV_ = []\n",
    "    \n",
    "    for train_idx, val_idx in kfolds.split(X_dev, y_dev):\n",
    "        \n",
    "        X_train, y_train, = X_dev[train_idx], y_dev[train_idx]\n",
    "        X_val, y_val = X_dev[val_idx], y_dev[val_idx] \n",
    "\n",
    "        pipe_lassoCV.fit(X_train, y_train)\n",
    "        \n",
    "        mseCV_.append(mse(pipe_lassoCV.predict(X_val), y_val))    \n",
    "    mseCV.append(mseCV_)"
   ]
  },
  {
   "cell_type": "markdown",
   "metadata": {
    "slideshow": {
     "slide_type": "slide"
    }
   },
   "source": [
    "## K fold method (4)"
   ]
  },
  {
   "cell_type": "code",
   "execution_count": 70,
   "metadata": {},
   "outputs": [
    {
     "name": "stdout",
     "output_type": "stream",
     "text": [
      "Lasso 12.4\n",
      "Lasso CV 12.4\n",
      "LinReg 17.9\n"
     ]
    }
   ],
   "source": [
    "\n",
    "\n",
    "optimalCV = pd.DataFrame(mseCV, index=lambdas).mean(axis=1).nsmallest(1)\n",
    "\n",
    "pipe_lassoCV = make_pipeline(PolynomialFeatures(include_bias=False), \n",
    "                                StandardScaler(),\n",
    "                                Lasso(alpha=optimalCV.index[0], random_state=1))\n",
    "\n",
    "pipe_lassoCV.fit(X_dev,y_dev)\n",
    "\n",
    "model_pipes = ('Lasso', pipe_lasso), ('Lasso CV', pipe_lassoCV),('LinReg', pipe_lr)\n",
    "\n",
    "for model_name, model_pipe in model_pipes:\n",
    "    score = mse(model_pipe.predict(X_test),y_test)\n",
    "    print(model_name, round(score, 1))"
   ]
  },
  {
   "cell_type": "markdown",
   "metadata": {
    "slideshow": {
     "slide_type": "slide"
    }
   },
   "source": [
    "## Learning curves (1)\n",
    "*What does a balanced model look like?*"
   ]
  },
  {
   "cell_type": "markdown",
   "metadata": {},
   "source": [
    "<center><img src='https://github.com/rasbt/python-machine-learning-book-2nd-edition/raw/master/code/ch06/images/06_04.png' alt=\"Drawing\" style=\"width: 600px;\"/></center>"
   ]
  },
  {
   "cell_type": "markdown",
   "metadata": {
    "slideshow": {
     "slide_type": "slide"
    }
   },
   "source": [
    "## Learning curves (2)"
   ]
  },
  {
   "cell_type": "code",
   "execution_count": 74,
   "metadata": {
    "slideshow": {
     "slide_type": "fragment"
    }
   },
   "outputs": [
    {
     "name": "stdout",
     "output_type": "stream",
     "text": [
      "                   Test     Train\n",
      "sample size                      \n",
      "20           327.856169  0.040538\n",
      "40            67.607438  0.836417\n",
      "60            52.208482  1.592246\n",
      "80            50.194690  1.911472\n",
      "101           36.249970  3.419180\n"
     ]
    }
   ],
   "source": [
    "from sklearn.model_selection import learning_curve\n",
    "\n",
    "train_sizes, train_scores, test_scores = \\\n",
    "    learning_curve(estimator=pipe_lasso,\n",
    "                   X=X_train,\n",
    "                   y=y_train,\n",
    "                   train_sizes=np.linspace(0.1, 1.0, 10),\n",
    "                   scoring='neg_mean_squared_error',                 \n",
    "                   cv=3)\n",
    "    \n",
    "mse_ = pd.DataFrame({'Train':-train_scores.mean(axis=1),\n",
    "                     'Test':-test_scores.mean(axis=1)})\\\n",
    "        .set_index(pd.Index(train_sizes,name='sample size'))    \n",
    "print(mse_.head())"
   ]
  },
  {
   "cell_type": "markdown",
   "metadata": {
    "slideshow": {
     "slide_type": "slide"
    }
   },
   "source": [
    "## Learning curves (3)"
   ]
  },
  {
   "cell_type": "code",
   "execution_count": 38,
   "metadata": {
    "scrolled": false
   },
   "outputs": [
    {
     "data": {
      "text/plain": [
       "Text(0,0.5,'Mean squared error')"
      ]
     },
     "execution_count": 38,
     "metadata": {},
     "output_type": "execute_result"
    },
    {
     "data": {
      "image/png": "[encoded data removed]",
      "text/plain": [
       "<matplotlib.figure.Figure at 0x2910cf9f940>"
      ]
     },
     "metadata": {},
     "output_type": "display_data"
    }
   ],
   "source": [
    "f_learn, ax = plt.subplots(figsize=(10,4))\n",
    "mse_.plot(ax=ax, logy=True)\n",
    "ax.fill_between(train_sizes,\n",
    "                -train_scores.mean(1) + train_scores.std(1)*1.96,\n",
    "                -train_scores.mean(1) - train_scores.std(1)*1.96, \n",
    "                alpha=0.25, \n",
    "                color='orange')\n",
    "ax.set_ylabel('Mean squared error')"
   ]
  },
  {
   "cell_type": "markdown",
   "metadata": {
    "slideshow": {
     "slide_type": "slide"
    }
   },
   "source": [
    "# Tools for model selection"
   ]
  },
  {
   "cell_type": "markdown",
   "metadata": {
    "slideshow": {
     "slide_type": "slide"
    }
   },
   "source": [
    "## Validation curves (1)"
   ]
  },
  {
   "cell_type": "code",
   "execution_count": 78,
   "metadata": {
    "slideshow": {
     "slide_type": "fragment"
    }
   },
   "outputs": [
    {
     "ename": "AttributeError",
     "evalue": "'DataFrame' object has no attribute 'Test'",
     "output_type": "error",
     "traceback": [
      "\u001b[1;31m---------------------------------------------------------------------------\u001b[0m",
      "\u001b[1;31mAttributeError\u001b[0m                            Traceback (most recent call last)",
      "\u001b[1;32m<ipython-input-78-ff6698fa70dc>\u001b[0m in \u001b[0;36m<module>\u001b[1;34m()\u001b[0m\n\u001b[0;32m     13\u001b[0m                           'lambda':lambdas})\\\n\u001b[0;32m     14\u001b[0m               \u001b[1;33m.\u001b[0m\u001b[0mset_index\u001b[0m\u001b[1;33m(\u001b[0m\u001b[1;34m'lambda'\u001b[0m\u001b[1;33m)\u001b[0m\u001b[1;33m\u001b[0m\u001b[0m\n\u001b[1;32m---> 15\u001b[1;33m \u001b[0mprint\u001b[0m\u001b[1;33m(\u001b[0m\u001b[0mmse_score\u001b[0m\u001b[1;33m.\u001b[0m\u001b[0mTest\u001b[0m\u001b[1;33m.\u001b[0m\u001b[0mnsmallest\u001b[0m\u001b[1;33m(\u001b[0m\u001b[1;36m1\u001b[0m\u001b[1;33m)\u001b[0m\u001b[1;33m)\u001b[0m\u001b[1;33m\u001b[0m\u001b[0m\n\u001b[0m",
      "\u001b[1;32m~\\AppData\\Local\\Continuum\\miniconda3\\envs\\Python3\\lib\\site-packages\\pandas\\core\\generic.py\u001b[0m in \u001b[0;36m__getattr__\u001b[1;34m(self, name)\u001b[0m\n\u001b[0;32m   3612\u001b[0m             \u001b[1;32mif\u001b[0m \u001b[0mname\u001b[0m \u001b[1;32min\u001b[0m \u001b[0mself\u001b[0m\u001b[1;33m.\u001b[0m\u001b[0m_info_axis\u001b[0m\u001b[1;33m:\u001b[0m\u001b[1;33m\u001b[0m\u001b[0m\n\u001b[0;32m   3613\u001b[0m                 \u001b[1;32mreturn\u001b[0m \u001b[0mself\u001b[0m\u001b[1;33m[\u001b[0m\u001b[0mname\u001b[0m\u001b[1;33m]\u001b[0m\u001b[1;33m\u001b[0m\u001b[0m\n\u001b[1;32m-> 3614\u001b[1;33m             \u001b[1;32mreturn\u001b[0m \u001b[0mobject\u001b[0m\u001b[1;33m.\u001b[0m\u001b[0m__getattribute__\u001b[0m\u001b[1;33m(\u001b[0m\u001b[0mself\u001b[0m\u001b[1;33m,\u001b[0m \u001b[0mname\u001b[0m\u001b[1;33m)\u001b[0m\u001b[1;33m\u001b[0m\u001b[0m\n\u001b[0m\u001b[0;32m   3615\u001b[0m \u001b[1;33m\u001b[0m\u001b[0m\n\u001b[0;32m   3616\u001b[0m     \u001b[1;32mdef\u001b[0m \u001b[0m__setattr__\u001b[0m\u001b[1;33m(\u001b[0m\u001b[0mself\u001b[0m\u001b[1;33m,\u001b[0m \u001b[0mname\u001b[0m\u001b[1;33m,\u001b[0m \u001b[0mvalue\u001b[0m\u001b[1;33m)\u001b[0m\u001b[1;33m:\u001b[0m\u001b[1;33m\u001b[0m\u001b[0m\n",
      "\u001b[1;31mAttributeError\u001b[0m: 'DataFrame' object has no attribute 'Test'"
     ]
    }
   ],
   "source": [
    "from sklearn.model_selection import validation_curve\n",
    "\n",
    "train_scores, test_scores = \\\n",
    "    validation_curve(estimator=pipe_lasso,\n",
    "                     X=X_train,\n",
    "                     y=y_train,\n",
    "                     param_name='lasso__alpha',\n",
    "                     param_range=lambdas,\n",
    "                     scoring='neg_mean_squared_error',                 \n",
    "                     cv=3)\n",
    "\n",
    "mse_score = pd.DataFrame({'Train':-train_scores.mean(axis=1),\n",
    "                          'Validation':-test_scores.mean(axis=1),\n",
    "                          'lambda':lambdas})\\\n",
    "              .set_index('lambda')   \n",
    "print(mse_score.Test.nsmallest(1))"
   ]
  },
  {
   "cell_type": "markdown",
   "metadata": {
    "slideshow": {
     "slide_type": "slide"
    }
   },
   "source": [
    "## Validation curves (2)"
   ]
  },
  {
   "cell_type": "code",
   "execution_count": 79,
   "metadata": {
    "scrolled": false
   },
   "outputs": [
    {
     "data": {
      "text/plain": [
       "<matplotlib.axes._subplots.AxesSubplot at 0x2910f9e4128>"
      ]
     },
     "execution_count": 79,
     "metadata": {},
     "output_type": "execute_result"
    },
    {
     "data": {
      "image/png": "[encoded data removed]",
      "text/plain": [
       "<matplotlib.figure.Figure at 0x2910f9369b0>"
      ]
     },
     "metadata": {},
     "output_type": "display_data"
    }
   ],
   "source": [
    "mse_score.plot(logx=True, logy=True)"
   ]
  },
  {
   "cell_type": "markdown",
   "metadata": {
    "slideshow": {
     "slide_type": "slide"
    }
   },
   "source": [
    "## Grid search (1)\n",
    "*How do we search for two or more optimal parameters?*"
   ]
  },
  {
   "cell_type": "markdown",
   "metadata": {
    "slideshow": {
     "slide_type": "fragment"
    }
   },
   "source": [
    "- Goal: find the optimal parameter combination: $$\\lambda_1^*,\\lambda_2^*=\\arg\\min_{\\lambda_1,\\lambda_2}MSE^{CV}(X_{train},y_{train})$$\n",
    "\n",
    "- Option 1: We can loop over the joint grid of parameters.\n",
    "  - One level for each parameter.\n",
    "  - Caveats:"
   ]
  },
  {
   "cell_type": "markdown",
   "metadata": {
    "slideshow": {
     "slide_type": "fragment"
    }
   },
   "source": [
    "- Option 2: sklearn has `GridSearchCV` has a tool which tests all parameter combinations."
   ]
  },
  {
   "cell_type": "markdown",
   "metadata": {
    "slideshow": {
     "slide_type": "slide"
    }
   },
   "source": [
    "## Grid search (2)\n",
    "*How does this look in Python?*"
   ]
  },
  {
   "cell_type": "code",
   "execution_count": 77,
   "metadata": {},
   "outputs": [
    {
     "data": {
      "text/plain": [
       "{'lasso__alpha': 0.01}"
      ]
     },
     "execution_count": 77,
     "metadata": {},
     "output_type": "execute_result"
    }
   ],
   "source": [
    "from sklearn.model_selection import GridSearchCV\n",
    "\n",
    "gs = GridSearchCV(estimator=pipe_lasso, \n",
    "                  param_grid={'lasso__alpha':lambdas}, \n",
    "                  scoring='neg_mean_squared_error', \n",
    "                  cv=10)\n",
    "\n",
    "gs = gs.fit(X_train, y_train)\n",
    "gs.best_params_"
   ]
  },
  {
   "cell_type": "markdown",
   "metadata": {},
   "source": [
    "- Notation: double underscore between estimator and hyperparameter, e.g. 'est__hyperparam' \n",
    "- Scoring: negative MSE as we're maximizing the score ~ minimize MSE."
   ]
  },
  {
   "cell_type": "markdown",
   "metadata": {
    "slideshow": {
     "slide_type": "slide"
    }
   },
   "source": [
    "## Grid search (3)\n",
    "*What if we have 10,000 parameter combinations?*"
   ]
  },
  {
   "cell_type": "markdown",
   "metadata": {
    "slideshow": {
     "slide_type": "fragment"
    }
   },
   "source": [
    "- Option 1: you buy a cluster on Amazon, learn how to parallelize across computers. Intro in last lecture."
   ]
  },
  {
   "cell_type": "markdown",
   "metadata": {
    "slideshow": {
     "slide_type": "fragment"
    }
   },
   "source": [
    "- Option 2: you drop some of the parameter values"
   ]
  },
  {
   "cell_type": "markdown",
   "metadata": {
    "slideshow": {
     "slide_type": "fragment"
    }
   },
   "source": [
    "- Option 3: `RandomizedSearchCV` searches a subset of the combinations."
   ]
  },
  {
   "cell_type": "markdown",
   "metadata": {
    "slideshow": {
     "slide_type": "slide"
    }
   },
   "source": [
    "## Enhancing cross validation (1)"
   ]
  },
  {
   "cell_type": "markdown",
   "metadata": {
    "slideshow": {
     "slide_type": "fragment"
    }
   },
   "source": [
    "- Model validation does not consider that we are also tuning hyperparameters:\n",
    "  - Leads too overfitting (Varma & Simon 2006; Cawley, Talbot 2010).\n",
    "- Solution is **nested cross validation**.\n",
    "  - Validation step should not be modelled as 1) train; 2) test.\n",
    "  - Better way is 1) model selection: train, validate; 2) test.\n",
    "  - Implement as pp 204-205 in Python for Machine Learning:\n",
    "      - first inner loop: `GridSearchCV` \n",
    "      - second outer loop: `cross_val_score`"
   ]
  },
  {
   "cell_type": "markdown",
   "metadata": {
    "slideshow": {
     "slide_type": "slide"
    }
   },
   "source": [
    "## Enhancing cross validation (1)\n",
    "*Cross-val. suffers from the fact that it models test-train*"
   ]
  },
  {
   "cell_type": "markdown",
   "metadata": {
    "slideshow": {
     "slide_type": "fragment"
    }
   },
   "source": [
    "<center><img src='https://github.com/rasbt/python-machine-learning-book-2nd-edition/raw/master/code/ch06/images/06_07.png' alt=\"Drawing\" style=\"width: 700px;\"/></center>"
   ]
  },
  {
   "cell_type": "markdown",
   "metadata": {
    "slideshow": {
     "slide_type": "slide"
    }
   },
   "source": [
    "# Dimensionality reduction"
   ]
  },
  {
   "cell_type": "markdown",
   "metadata": {
    "slideshow": {
     "slide_type": "slide"
    }
   },
   "source": [
    "## Principal components analysis (1)\n",
    "*How can we reducing the number of features?* "
   ]
  },
  {
   "cell_type": "markdown",
   "metadata": {
    "slideshow": {
     "slide_type": "fragment"
    }
   },
   "source": [
    "One solution is finding the **principal components**. \n",
    "- essence: we get **fewer features** of **greater importance**.\n",
    "- the new features are:\n",
    "    - *uncorrelated* (i.e. linearly independent, orthogonal)\n",
    "    - ordered so decreasing in how much variation of the feature data they explain\n",
    "\n",
    "The method is called **principal components analysis**\n",
    "  - corresponds to eigen decomposition of matrix into\n",
    "      - principal eigenvectors (factors)\n",
    "      - principal eigenvalues (factor importance)"
   ]
  },
  {
   "cell_type": "markdown",
   "metadata": {
    "slideshow": {
     "slide_type": "slide"
    }
   },
   "source": [
    "## Principal components analysis (2)\n",
    "\n",
    "Finding principal components for two features. Notice:\n",
    "- The factors are orthogonal\n",
    "- The first factor explains more variation, |PC1| > |PC2|"
   ]
  },
  {
   "cell_type": "markdown",
   "metadata": {
    "slideshow": {
     "slide_type": "-"
    }
   },
   "source": [
    "<center><img src='https://github.com/rasbt/python-machine-learning-book-2nd-edition/raw/master/code/ch05/images/05_01.png' alt=\"Drawing\" style=\"width: 600px;\"/></center>"
   ]
  },
  {
   "cell_type": "markdown",
   "metadata": {
    "slideshow": {
     "slide_type": "slide"
    }
   },
   "source": [
    "## Principal components analysis (3)\n",
    "\n",
    "We can plot the explained variation against the component indices, often called scree plot."
   ]
  },
  {
   "cell_type": "markdown",
   "metadata": {
    "slideshow": {
     "slide_type": "-"
    }
   },
   "source": [
    "<center><img src='https://github.com/rasbt/python-machine-learning-book-2nd-edition/raw/master/code/ch05/images/05_02.png' alt=\"Drawing\" style=\"width: 700px;\"/></center>"
   ]
  },
  {
   "cell_type": "markdown",
   "metadata": {
    "slideshow": {
     "slide_type": "slide"
    }
   },
   "source": [
    "## Principal components analysis (4)\n",
    "*How do we choose the number of components?*\n"
   ]
  },
  {
   "cell_type": "markdown",
   "metadata": {
    "slideshow": {
     "slide_type": "fragment"
    }
   },
   "source": [
    "- Standard is to look for an *elbow* in the previous scree plot."
   ]
  },
  {
   "cell_type": "markdown",
   "metadata": {
    "slideshow": {
     "slide_type": "fragment"
    }
   },
   "source": [
    "*What might go wrong about this approach??*"
   ]
  },
  {
   "cell_type": "markdown",
   "metadata": {
    "slideshow": {
     "slide_type": "fragment"
    }
   },
   "source": [
    "- The number of feautures should be a hyperparameter in the model building!!!"
   ]
  },
  {
   "cell_type": "markdown",
   "metadata": {
    "slideshow": {
     "slide_type": "slide"
    }
   },
   "source": [
    "## Principal components analysis  (5)\n",
    "*How does this look in Python?*"
   ]
  },
  {
   "cell_type": "code",
   "execution_count": 22,
   "metadata": {},
   "outputs": [
    {
     "data": {
      "text/plain": [
       "{'lasso__alpha': 0.1778279410038923, 'pca__n_components': 13}"
      ]
     },
     "execution_count": 22,
     "metadata": {},
     "output_type": "execute_result"
    }
   ],
   "source": [
    "from sklearn.decomposition import PCA\n",
    "\n",
    "pipe_pca_lasso = make_pipeline(PolynomialFeatures(include_bias=False), \n",
    "                               StandardScaler(),\n",
    "                               PCA(),\n",
    "                               Lasso())\n",
    "\n",
    "\n",
    "gs = GridSearchCV(estimator=pipe_pca_lasso, \n",
    "                  param_grid={'lasso__alpha':lambdas, \n",
    "                              'pca__n_components':range(1, X_train.shape[1]+1)},\n",
    "                  scoring='neg_mean_squared_error', \n",
    "                  cv=10)\n",
    "\n",
    "gs = gs.fit(X_train, y_train)\n",
    "gs.best_params_"
   ]
  },
  {
   "cell_type": "markdown",
   "metadata": {
    "slideshow": {
     "slide_type": "slide"
    }
   },
   "source": [
    "# Measures for classification"
   ]
  },
  {
   "cell_type": "markdown",
   "metadata": {
    "slideshow": {
     "slide_type": "slide"
    }
   },
   "source": [
    "## Breakdown by error type (1)\n",
    "\n",
    "We measure the accaracy as the rate of true predictions, i.e. $$ACC=\\frac{TP+TN}{TP+TN+FP+FN}=\\frac{True}{True+False}$$\n",
    "\n",
    "where our measures are"
   ]
  },
  {
   "cell_type": "markdown",
   "metadata": {},
   "source": [
    "<center><img src='https://github.com/rasbt/python-machine-learning-book-2nd-edition/raw/master/code/ch06/images/06_08.png' alt=\"Drawing\" style=\"width: 400px;\"/></center>"
   ]
  },
  {
   "cell_type": "markdown",
   "metadata": {
    "slideshow": {
     "slide_type": "slide"
    }
   },
   "source": [
    "## Breakdown by error type (2)\n",
    "\n",
    "Some powerful measures:\n",
    "\n",
    "- Precision: share of predicted positive that are true\n",
    "    - PRE = $\\frac{TP}{TP+FP}$    \n",
    "- Recall: share of actual positive that are true    \n",
    "   - REC = $\\frac{TP}{TP+FN}=\\frac{TP}{AP}$   \n",
    "- F1: mix recall and precision: $\\frac{2\\cdot PRE\\cdot REC}{PRE+ REC}$\n"
   ]
  },
  {
   "cell_type": "code",
   "execution_count": null,
   "metadata": {},
   "outputs": [],
   "source": [
    "from sklearn.metrics import precision_score, recall_score, f1_score"
   ]
  },
  {
   "cell_type": "markdown",
   "metadata": {
    "slideshow": {
     "slide_type": "slide"
    }
   },
   "source": [
    "## Breakdown by error type (3)\n",
    "\n",
    "Classification models provide a predicted likelihood of being in the class or not:\n",
    "- Receiver Operating Characteristic (ROC) curve by varying thresholds for predicted true.\n",
    "    - ROC is a *theoretical* measure of model performance based on probabilities.\n",
    "    - AUC: Area Under the (ROC) Curve."
   ]
  },
  {
   "cell_type": "markdown",
   "metadata": {},
   "source": [
    "<center><img src='https://github.com/rasbt/python-machine-learning-book-2nd-edition/raw/master/code/ch06/images/06_10.png' alt=\"Drawing\" style=\"width: 800px;\"/></center>"
   ]
  },
  {
   "cell_type": "markdown",
   "metadata": {
    "slideshow": {
     "slide_type": "slide"
    }
   },
   "source": [
    "# The end\n",
    "[Return to agenda](#Agenda)"
   ]
  }
 ],
 "metadata": {
  "celltoolbar": "Slideshow",
  "kernelspec": {
   "display_name": "Python 3",
   "language": "python",
   "name": "python3"
  },
  "language_info": {
   "codemirror_mode": {
    "name": "ipython",
    "version": 3
   },
   "file_extension": ".py",
   "mimetype": "text/x-python",
   "name": "python",
   "nbconvert_exporter": "python",
   "pygments_lexer": "ipython3",
   "version": "3.6.5"
  }
 },
 "nbformat": 4,
 "nbformat_minor": 2
}
