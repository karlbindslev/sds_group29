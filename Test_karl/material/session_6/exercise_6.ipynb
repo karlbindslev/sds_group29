{
 "cells": [
  {
   "cell_type": "markdown",
   "metadata": {
    "ExecuteTime": {
     "end_time": "2017-08-23T15:30:03.634114Z",
     "start_time": "2017-08-23T15:30:03.629294Z"
    }
   },
   "source": [
    "# Exercise Set 6: Data Structuring 2\n",
    "\n",
    "*Afternoon, August 15, 2018*\n",
    "\n",
    "In this Exercise Set we will continue working with the weather data you downloaded and saved in Exercise Set 4. \n",
    "\n",
    "> **_Note_**: to solve the bonus exercises in this exerise set you will need to apply the `.groupby()` method a few times. This has not yet been covered in the lectures (you will see it tomorrow).  \n",
    ">\n",
    "> `.groupby()` is a method of pandas dataframes, meaning we can call it like so: `data.groupby('colname')`. The method groups your dataset by a specified column, and applies any following changes within each of these groups. For a more detailed explanation see [this link](https://www.tutorialspoint.com/python_pandas/python_pandas_groupby.htm). The [documentation](https://pandas.pydata.org/pandas-docs/stable/generated/pandas.DataFrame.groupby.html) might also be useful.\n",
    "\n",
    "First load in the required modules and set up the plotting library:"
   ]
  },
  {
   "cell_type": "code",
   "execution_count": 111,
   "metadata": {},
   "outputs": [],
   "source": [
    "%matplotlib inline\n",
    "import pandas as pd\n",
    "import matplotlib.pyplot as plt"
   ]
  },
  {
   "cell_type": "markdown",
   "metadata": {},
   "source": [
    "## Exercise Section 6.1: Weather, part 2\n",
    "\n",
    "This section is the second part of three that analyzes NOAA data. The first part is Exercise Section 4.1, the last part is Exercise Section 7.2."
   ]
  },
  {
   "cell_type": "markdown",
   "metadata": {},
   "source": [
    "> **Ex. 6.1.1:** Load the CSV data you stored yesterday as part of Exercise Section 4.1. If you didn't manage to save the CSV file, you can use the code in [this gist](https://gist.github.com/Kristianuruplarsen/be3a14b226fc4c4d7b62c39de70307e4) to load in the NOAA data."
   ]
  },
  {
   "cell_type": "code",
   "execution_count": 137,
   "metadata": {},
   "outputs": [
    {
     "name": "stdout",
     "output_type": "stream",
     "text": [
      "         station  datetime obs_type  obs_value  TMAX_F\n",
      "16   ITE00100550  18640117     TMAX       -6.3   20.66\n",
      "17   ITE00100550  18640118     TMAX       -5.0   23.00\n",
      "13   ITE00100550  18640114     TMAX       -5.0   23.00\n",
      "12   ITE00100550  18640113     TMAX       -4.3   24.26\n",
      "14   ITE00100550  18640115     TMAX       -3.1   26.42\n",
      "2    ITE00100550  18640103     TMAX       -2.8   26.96\n",
      "15   ITE00100550  18640116     TMAX       -2.5   27.50\n",
      "11   ITE00100550  18640112     TMAX       -2.5   27.50\n",
      "4    ITE00100550  18640105     TMAX       -1.9   28.58\n",
      "41   ITE00100550  18640211     TMAX       -1.8   28.76\n",
      "18   ITE00100550  18640119     TMAX       -1.6   29.12\n",
      "10   ITE00100550  18640111     TMAX       -1.5   29.30\n",
      "5    ITE00100550  18640106     TMAX       -1.3   29.66\n",
      "40   ITE00100550  18640210     TMAX       -1.0   30.20\n",
      "19   ITE00100550  18640120     TMAX       -0.9   30.38\n",
      "38   ITE00100550  18640208     TMAX       -0.6   30.92\n",
      "6    ITE00100550  18640107     TMAX       -0.4   31.28\n",
      "20   ITE00100550  18640121     TMAX       -0.4   31.28\n",
      "3    ITE00100550  18640104     TMAX        0.0   32.00\n",
      "50   ITE00100550  18640220     TMAX        0.0   32.00\n",
      "30   ITE00100550  18640131     TMAX        0.1   32.18\n",
      "9    ITE00100550  18640110     TMAX        0.6   33.08\n",
      "1    ITE00100550  18640102     TMAX        0.8   33.44\n",
      "39   ITE00100550  18640209     TMAX        0.9   33.62\n",
      "21   ITE00100550  18640122     TMAX        0.9   33.62\n",
      "0    ITE00100550  18640101     TMAX        1.0   33.80\n",
      "32   ITE00100550  18640202     TMAX        1.1   33.98\n",
      "7    ITE00100550  18640108     TMAX        1.3   34.34\n",
      "8    ITE00100550  18640109     TMAX        1.3   34.34\n",
      "31   ITE00100550  18640201     TMAX        1.3   34.34\n",
      "..           ...       ...      ...        ...     ...\n",
      "252  ITE00100550  18640909     TMAX       29.9   85.82\n",
      "187  ITE00100550  18640706     TMAX       30.0   86.00\n",
      "215  ITE00100550  18640803     TMAX       30.0   86.00\n",
      "174  ITE00100550  18640623     TMAX       30.0   86.00\n",
      "194  ITE00100550  18640713     TMAX       30.3   86.54\n",
      "198  ITE00100550  18640717     TMAX       30.4   86.72\n",
      "208  ITE00100550  18640727     TMAX       30.6   87.08\n",
      "199  ITE00100550  18640718     TMAX       30.8   87.44\n",
      "233  ITE00100550  18640821     TMAX       30.9   87.62\n",
      "175  ITE00100550  18640624     TMAX       30.9   87.62\n",
      "209  ITE00100550  18640728     TMAX       31.0   87.80\n",
      "197  ITE00100550  18640716     TMAX       31.0   87.80\n",
      "216  ITE00100550  18640804     TMAX       31.0   87.80\n",
      "219  ITE00100550  18640807     TMAX       31.0   87.80\n",
      "235  ITE00100550  18640823     TMAX       31.3   88.34\n",
      "211  ITE00100550  18640730     TMAX       31.3   88.34\n",
      "212  ITE00100550  18640731     TMAX       31.3   88.34\n",
      "173  ITE00100550  18640622     TMAX       31.3   88.34\n",
      "201  ITE00100550  18640720     TMAX       31.5   88.70\n",
      "204  ITE00100550  18640723     TMAX       31.8   89.24\n",
      "228  ITE00100550  18640816     TMAX       31.9   89.42\n",
      "222  ITE00100550  18640810     TMAX       32.1   89.78\n",
      "203  ITE00100550  18640722     TMAX       32.1   89.78\n",
      "202  ITE00100550  18640721     TMAX       32.5   90.50\n",
      "218  ITE00100550  18640806     TMAX       33.1   91.58\n",
      "217  ITE00100550  18640805     TMAX       33.5   92.30\n",
      "213  ITE00100550  18640801     TMAX       33.5   92.30\n",
      "220  ITE00100550  18640808     TMAX       34.1   93.38\n",
      "214  ITE00100550  18640802     TMAX       34.6   94.28\n",
      "221  ITE00100550  18640809     TMAX       34.8   94.64\n",
      "\n",
      "[366 rows x 5 columns]\n",
      "['ITE00100550']\n"
     ]
    }
   ],
   "source": [
    "# [Answer to Ex. 6.1.1]\n",
    "import pandas as pd\n",
    "\n",
    "df_weather = pd.read_csv('/Users/karlbindslev/Documents/GitHub/sds_group29/Test_karl/material/session_6/1864.csv', header = None).iloc[:,:4]\n",
    "\n",
    "df_weather.columns = ['station', 'datetime', 'obs_type', 'obs_value']\n",
    "df_weather['obs_value'] = df_weather['obs_value'] / 10\n",
    "df_select = df_weather[(df_weather.station == 'ITE00100550') & (df_weather.obs_type == 'TMAX')].copy()\n",
    "df_select['TMAX_F'] = 32 + 1.8 * df_select['obs_value']\n",
    "df_sorted = df_select.reset_index(drop=True).sort_values(by=['obs_value'])\n",
    "\n",
    "print(df_sorted)\n",
    "print(df_sorted['station'].unique())\n"
   ]
  },
  {
   "cell_type": "markdown",
   "metadata": {},
   "source": [
    "> **Ex. 6.1.2:** Convert the date formatted as string to  datetime. Make a new column with the month for each observation."
   ]
  },
  {
   "cell_type": "code",
   "execution_count": 119,
   "metadata": {},
   "outputs": [
    {
     "name": "stdout",
     "output_type": "stream",
     "text": [
      "        station   datetime obs_type  obs_value  TMAX_F  month\n",
      "16  ITE00100550 1864-01-17     TMAX       -6.3   20.66      1\n",
      "17  ITE00100550 1864-01-18     TMAX       -5.0   23.00      1\n",
      "13  ITE00100550 1864-01-14     TMAX       -5.0   23.00      1\n",
      "12  ITE00100550 1864-01-13     TMAX       -4.3   24.26      1\n",
      "14  ITE00100550 1864-01-15     TMAX       -3.1   26.42      1\n"
     ]
    }
   ],
   "source": [
    "# [Answer to Ex. 6.1.2]\n",
    "\n",
    "#print(type(df_sorted))\n",
    "df_sorted.dtypes\n",
    "df_sorted['datetime'] = pd.to_datetime(df_sorted['datetime'], format ='%Y%m%d')\n",
    "\n",
    "\n",
    "df_sorted['month'] = df_sorted['datetime'].dt.month\n",
    "print(df_sorted.head(5))"
   ]
  },
  {
   "cell_type": "markdown",
   "metadata": {},
   "source": [
    "> **Ex. 6.1.3:** Set the datetime variable as temporal index and make a timeseries plot.\n",
    "\n",
    "> _Hint:_ for this you need to know a few methods of the pandas DataFrames and pandas Series objects. Look up `.set_index()` and `.plot()`. "
   ]
  },
  {
   "cell_type": "code",
   "execution_count": 120,
   "metadata": {},
   "outputs": [
    {
     "data": {
      "text/plain": [
       "<matplotlib.axes._subplots.AxesSubplot at 0x123779d30>"
      ]
     },
     "execution_count": 120,
     "metadata": {},
     "output_type": "execute_result"
    },
    {
     "data": {
      "image/png": "[encoded data removed]",
      "text/plain": [
       "<Figure size 432x288 with 1 Axes>"
      ]
     },
     "metadata": {},
     "output_type": "display_data"
    }
   ],
   "source": [
    "# [Answer to Ex. 6.1.3]\n",
    "#print(df_sorted['datetime'][0])\n",
    "df_sorted.set_index('datetime').plot()"
   ]
  },
  {
   "cell_type": "markdown",
   "metadata": {},
   "source": [
    "> **Ex. 6.1.4:** Extract the country code from the station name into a separate column.\n",
    "\n",
    "> _Hint:_ The station column contains a GHCND ID, given to each weather station by NOAA. The format of these ID's is a 2-3 letter country code, followed by a integer identifying the specific station. A simple approach is to assume a fixed length of the country ID. A more complex way would be to use the [`re`](https://docs.python.org/2/library/re.html) module. "
   ]
  },
  {
   "cell_type": "code",
   "execution_count": 127,
   "metadata": {},
   "outputs": [
    {
     "name": "stdout",
     "output_type": "stream",
     "text": [
      "        station   datetime obs_type  obs_value  TMAX_F  month country_code\n",
      "16  ITE00100550 1864-01-17     TMAX       -6.3   20.66      1          ITE\n",
      "17  ITE00100550 1864-01-18     TMAX       -5.0   23.00      1          ITE\n",
      "13  ITE00100550 1864-01-14     TMAX       -5.0   23.00      1          ITE\n",
      "12  ITE00100550 1864-01-13     TMAX       -4.3   24.26      1          ITE\n",
      "14  ITE00100550 1864-01-15     TMAX       -3.1   26.42      1          ITE\n",
      "['ITE']\n"
     ]
    }
   ],
   "source": [
    "# [Answer to Ex. 6.1.4]\n",
    "import re\n",
    "\n",
    "df_sorted['country_code'] = df_sorted['station'].str.extract('([A-Z]+)', expand = True)\n",
    "print(df_sorted.head(5))\n",
    "print(df_sorted['country_code'].unique())"
   ]
  },
  {
   "cell_type": "markdown",
   "metadata": {},
   "source": [
    "> **Ex. 6.1.5:** Make a function that downloads and formats the weather data according to previous exercises in Exercise Section 4.1, 6.1. You should use data for ALL stations but still only select maximal temperature. _Bonus:_ To validate that your function works plot the temperature curve for each country in the same window. Use `plt.legend()` to add a legend. "
   ]
  },
  {
   "cell_type": "code",
   "execution_count": 129,
   "metadata": {},
   "outputs": [
    {
     "name": "stdout",
     "output_type": "stream",
     "text": [
      "['ITE']\n"
     ]
    }
   ],
   "source": [
    "# [Answer to Ex. 6.1.5]\n",
    "def weather():\n",
    "\n",
    "weather()\n",
    "\n",
    "\n"
   ]
  },
  {
   "cell_type": "markdown",
   "metadata": {},
   "source": [
    "##  Exercise Section 6.2: \n",
    "\n",
    "In this section we will use [this dataset](https://archive.ics.uci.edu/ml/datasets/Adult) from the [UCI Machine Learning Repository](https://archive.ics.uci.edu/ml/datasets.html) to practice some basic operations on pandas dataframes. \n"
   ]
  },
  {
   "cell_type": "markdown",
   "metadata": {},
   "source": [
    "> **Ex. 6.2.1:** This link `'https://archive.ics.uci.edu/ml/machine-learning-databases/adult/adult.data'` leads to a comma-separated file with income data from a US census. Load the data into a pandas dataframe and show the 25th to 35th row.\n",
    "\n",
    "> _Hint #1:_ There are no column names in the dataset. Use the list `['age','workclass', 'fnlwgt', 'educ', 'educ_num', 'marital_status', 'occupation','relationship', 'race', 'sex','capital_gain', 'capital_loss', 'hours_per_week', 'native_country', 'wage']` as names. \n",
    "\n",
    "> _Hint #2:_ When you read in the csv, you might find that pandas includes whitespace in all of the cells. To get around this include the argument `skipinitialspace = True` to `read_csv()`. "
   ]
  },
  {
   "cell_type": "code",
   "execution_count": null,
   "metadata": {},
   "outputs": [],
   "source": [
    "# [Answer to Ex. 6.2.1]"
   ]
  },
  {
   "cell_type": "markdown",
   "metadata": {},
   "source": [
    "> **Ex. 6.2.2:** What is the missing value sign in this dataset? Replace all missing values with NA's understood by pandas. Then proceed to drop all rows containing any missing values with the `dropna` method. How many rows are removed in this operation?\n",
    "\n",
    "> _Hint 1:_ if this doesn't work as expected you might want to take a look at the hint for 6.2.1 again.\n",
    " \n",
    "> _Hint 2:_ The NaN method from NumPy might be useful"
   ]
  },
  {
   "cell_type": "code",
   "execution_count": null,
   "metadata": {},
   "outputs": [],
   "source": [
    "# [Answer to Ex. 6.2.2]"
   ]
  },
  {
   "cell_type": "markdown",
   "metadata": {},
   "source": [
    "> **Ex. 6.2.3:** (_Bonus_) Is there any evidence of a gender-wage-gap in the data? Create a table showing the percentage of men and women earning more than 50K a year."
   ]
  },
  {
   "cell_type": "code",
   "execution_count": null,
   "metadata": {},
   "outputs": [],
   "source": [
    "# [Answer to Ex. 6.2.3]"
   ]
  },
  {
   "cell_type": "markdown",
   "metadata": {},
   "source": [
    "> **Ex. 6.2.4:** (_Bonus_) Group the data by years of education (`educ_num`) and marital status. Now plot the share of individuals who earn more than 50K for the two groups 'Divorced' and 'Married-civ-spouse' (normal marriage). Your final result should look like this: \n",
    "\n",
    "![](examplefig.png)\n",
    "\n",
    "> _Hint:_ the `.query()` method is extremely useful for filtering data."
   ]
  },
  {
   "cell_type": "code",
   "execution_count": null,
   "metadata": {},
   "outputs": [],
   "source": [
    "# [Answer to Ex. 6.2.4]"
   ]
  }
 ],
 "metadata": {
  "kernelspec": {
   "display_name": "Python 3",
   "language": "python",
   "name": "python3"
  },
  "language_info": {
   "codemirror_mode": {
    "name": "ipython",
    "version": 3
   },
   "file_extension": ".py",
   "mimetype": "text/x-python",
   "name": "python",
   "nbconvert_exporter": "python",
   "pygments_lexer": "ipython3",
   "version": "3.6.5"
  },
  "nav_menu": {},
  "toc": {
   "navigate_menu": true,
   "number_sections": false,
   "sideBar": true,
   "threshold": 6,
   "toc_cell": false,
   "toc_section_display": "block",
   "toc_window_display": true
  }
 },
 "nbformat": 4,
 "nbformat_minor": 2
}
