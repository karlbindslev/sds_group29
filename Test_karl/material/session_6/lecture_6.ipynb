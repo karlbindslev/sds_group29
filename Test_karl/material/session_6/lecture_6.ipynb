{
 "cells": [
  {
   "cell_type": "markdown",
   "metadata": {
    "slideshow": {
     "slide_type": "slide"
    }
   },
   "source": [
    "# Data structuring, part 2\n",
    "\n",
    "### The Pandas way\n",
    "\n",
    "*Andreas Bjerre-Nielsen*"
   ]
  },
  {
   "cell_type": "markdown",
   "metadata": {
    "slideshow": {
     "slide_type": "slide"
    }
   },
   "source": [
    "## Recap\n",
    "\n",
    "*What do we know about explanatory plotting?*\n",
    "\n",
    "- ...\n",
    "- ...\n",
    "\n",
    "*What do we know about exploratory plotting?*\n",
    "\n",
    "- ..."
   ]
  },
  {
   "cell_type": "markdown",
   "metadata": {
    "slideshow": {
     "slide_type": "slide"
    }
   },
   "source": [
    "## Motivation\n",
    "*Reminder: Why do we want to learn data structuring?*\n",
    "\n",
    "- ..\n",
    "- .."
   ]
  },
  {
   "cell_type": "markdown",
   "metadata": {
    "slideshow": {
     "slide_type": "slide"
    }
   },
   "source": [
    "## Agenda\n",
    "We will learn about new data types \n",
    "1. [string  data](#String-data)\n",
    "1. [temporal data](#Temporal-data)\n",
    "1. [missing data](#Missing-data) \n",
    "1. [useful tools](#Useful-tools)"
   ]
  },
  {
   "cell_type": "markdown",
   "metadata": {
    "slideshow": {
     "slide_type": "slide"
    }
   },
   "source": [
    "## Loading the software"
   ]
  },
  {
   "cell_type": "code",
   "execution_count": null,
   "metadata": {
    "slideshow": {
     "slide_type": "-"
    }
   },
   "outputs": [],
   "source": [
    "import matplotlib.pyplot as plt\n",
    "import numpy as np\n",
    "import pandas as pd\n",
    "import seaborn as sns\n",
    "\n",
    "%matplotlib inline"
   ]
  },
  {
   "cell_type": "markdown",
   "metadata": {
    "slideshow": {
     "slide_type": "slide"
    }
   },
   "source": [
    "# String data"
   ]
  },
  {
   "cell_type": "markdown",
   "metadata": {
    "slideshow": {
     "slide_type": "slide"
    }
   },
   "source": [
    "## String operations vectorized (1)\n",
    "*Quiz: Which operators could work for string?*"
   ]
  },
  {
   "cell_type": "markdown",
   "metadata": {
    "slideshow": {
     "slide_type": "fragment"
    }
   },
   "source": [
    "Operators **+**, **+=**. Example:"
   ]
  },
  {
   "cell_type": "code",
   "execution_count": null,
   "metadata": {
    "slideshow": {
     "slide_type": "-"
    }
   },
   "outputs": [],
   "source": [
    "str_ser1 = pd.Series(['Andreas', 'Snorre', 'Ulf'])"
   ]
  },
  {
   "cell_type": "code",
   "execution_count": null,
   "metadata": {
    "slideshow": {
     "slide_type": "-"
    }
   },
   "outputs": [],
   "source": [
    "str_ser1 + ' works @ SODAS'"
   ]
  },
  {
   "cell_type": "markdown",
   "metadata": {
    "slideshow": {
     "slide_type": "slide"
    }
   },
   "source": [
    "## String operations vectorized (2)\n",
    "Addition also work for two series"
   ]
  },
  {
   "cell_type": "code",
   "execution_count": null,
   "metadata": {
    "slideshow": {
     "slide_type": "-"
    }
   },
   "outputs": [],
   "source": [
    "# adding two series together is also possible\n",
    "str_ser2 = pd.Series(['Bjerre-Nielsen', 'Ralund', 'Aslak'])\n",
    "# str_ser1 + str_ser2 "
   ]
  },
  {
   "cell_type": "markdown",
   "metadata": {
    "slideshow": {
     "slide_type": "slide"
    }
   },
   "source": [
    "## String operations vectorized (3)\n",
    "The powerful .str has several powerful methods e.g. `contains`, `capitalize`. Example:"
   ]
  },
  {
   "cell_type": "code",
   "execution_count": null,
   "metadata": {
    "slideshow": {
     "slide_type": "-"
    }
   },
   "outputs": [],
   "source": [
    "str_ser1.str.upper()\n",
    "# str_ser1.str.contains('M')"
   ]
  },
  {
   "cell_type": "markdown",
   "metadata": {
    "slideshow": {
     "slide_type": "slide"
    }
   },
   "source": [
    "## String operations vectorized (4)"
   ]
  },
  {
   "cell_type": "markdown",
   "metadata": {
    "slideshow": {
     "slide_type": "-"
    }
   },
   "source": [
    "The .str methods include slicing - example: "
   ]
  },
  {
   "cell_type": "code",
   "execution_count": null,
   "metadata": {
    "slideshow": {
     "slide_type": "-"
    }
   },
   "outputs": [],
   "source": [
    "str_ser2.str[0]"
   ]
  },
  {
   "cell_type": "markdown",
   "metadata": {
    "slideshow": {
     "slide_type": "slide"
    }
   },
   "source": [
    "## String operations vectorized (5)\n",
    "\n",
    "Many more `str` methods in pandas,\n",
    "- most basic strings methods translate directly\n",
    "- see Table 7-5 in PDA for an overview\n"
   ]
  },
  {
   "cell_type": "markdown",
   "metadata": {
    "slideshow": {
     "slide_type": "slide"
    }
   },
   "source": [
    "## Categorical data type (1)\n",
    "*Are string columns smart for storage and speed?*"
   ]
  },
  {
   "cell_type": "markdown",
   "metadata": {
    "slideshow": {
     "slide_type": "fragment"
    }
   },
   "source": [
    "No, sometimes it is better to convert to categorical data type:\n",
    "- use categorical when many characters and repeated."
   ]
  },
  {
   "cell_type": "markdown",
   "metadata": {
    "slideshow": {
     "slide_type": "slide"
    }
   },
   "source": [
    "## Categorical data type (2)\n",
    "*How do we convert to categorical?*"
   ]
  },
  {
   "cell_type": "code",
   "execution_count": null,
   "metadata": {
    "slideshow": {
     "slide_type": "fragment"
    }
   },
   "outputs": [],
   "source": [
    "edu_list = ['B.Sc. Political Science', 'Secondary school'] + ['High school']*2\n",
    "edu_cats = ['Secondary school', 'High school', 'B.Sc. Political Science']\n",
    "str_ser3 = pd.Series(edu_list)\n",
    "\n",
    "# option 1\n",
    "cats = pd.Categorical(str_ser3, categories=edu_cats, ordered=True)\n",
    "cat_ser = pd.Series(cats, index=str_ser3)\n",
    "\n",
    "# option 2 - no order - fast\n",
    "cat_ser2 = str_ser3.astype('category')"
   ]
  },
  {
   "cell_type": "markdown",
   "metadata": {
    "slideshow": {
     "slide_type": "slide"
    }
   },
   "source": [
    "## Categorical data type (3)\n",
    "*How do we work with categorical data?*"
   ]
  },
  {
   "cell_type": "markdown",
   "metadata": {
    "slideshow": {
     "slide_type": "fragment"
    }
   },
   "source": [
    "- Using the `cat` attribute of series. Has a few methods. E.g. `.cat.codes`"
   ]
  },
  {
   "cell_type": "code",
   "execution_count": null,
   "metadata": {
    "slideshow": {
     "slide_type": "-"
    }
   },
   "outputs": [],
   "source": [
    "print(cat_ser)\n",
    "print()\n",
    "print(cat_ser.cat.codes)"
   ]
  },
  {
   "cell_type": "markdown",
   "metadata": {
    "slideshow": {
     "slide_type": "fragment"
    }
   },
   "source": [
    "*Why categorical?*\n",
    "\n",
    "- \n",
    "\n",
    "- "
   ]
  },
  {
   "cell_type": "markdown",
   "metadata": {
    "slideshow": {
     "slide_type": "slide"
    }
   },
   "source": [
    "# Temporal data"
   ]
  },
  {
   "cell_type": "markdown",
   "metadata": {
    "slideshow": {
     "slide_type": "slide"
    }
   },
   "source": [
    "## Temporal data type (1)\n",
    "\n",
    "*Why is time so fundamental?*\n"
   ]
  },
  {
   "cell_type": "markdown",
   "metadata": {
    "slideshow": {
     "slide_type": "fragment"
    }
   },
   "source": [
    "Every measurement made by humans was made at a point in time, therefore it has a \"timestamp\"."
   ]
  },
  {
   "cell_type": "markdown",
   "metadata": {
    "slideshow": {
     "slide_type": "slide"
    }
   },
   "source": [
    "## Temporal data type (2)\n",
    "*How are timestamps  measured?*"
   ]
  },
  {
   "cell_type": "markdown",
   "metadata": {
    "slideshow": {
     "slide_type": "fragment"
    }
   },
   "source": [
    "1. Datetime (ISO 8601): standard calendar \n",
    "  - year, month, day: minute, second, miliseconds etc. [timezone]\n",
    "  - comes as strings in raw data\n",
    "2. Epoch time: seconds since January 1, 1970 - 00:00, GMT.\n",
    "  - nanoseconds in pandas"
   ]
  },
  {
   "cell_type": "markdown",
   "metadata": {
    "slideshow": {
     "slide_type": "slide"
    }
   },
   "source": [
    "## Temporal data type (3)\n",
    "\n",
    "*Does Pandas store it in a smart way?*\n"
   ]
  },
  {
   "cell_type": "markdown",
   "metadata": {
    "slideshow": {
     "slide_type": "fragment"
    }
   },
   "source": [
    "Pandas has native support for temporal data combining datetime and epoch time. "
   ]
  },
  {
   "cell_type": "code",
   "execution_count": null,
   "metadata": {
    "slideshow": {
     "slide_type": "-"
    }
   },
   "outputs": [],
   "source": [
    "str_ser4 = pd.Series(['20170101', '20170727', '20170803', '20171224'])\n",
    "dt_ser1 = pd.to_datetime(str_ser4)\n",
    "print(dt_ser1)"
   ]
  },
  {
   "cell_type": "markdown",
   "metadata": {
    "slideshow": {
     "slide_type": "slide"
    }
   },
   "source": [
    "## Time series (1)\n",
    "*Why is temporal data powerful?*"
   ]
  },
  {
   "cell_type": "markdown",
   "metadata": {
    "slideshow": {
     "slide_type": "fragment"
    }
   },
   "source": [
    "We can easily make and plot time series."
   ]
  },
  {
   "cell_type": "code",
   "execution_count": null,
   "metadata": {
    "slideshow": {
     "slide_type": "-"
    }
   },
   "outputs": [],
   "source": [
    "T = 1000\n",
    "data = {v:np.cumsum(np.random.randn(T)) for v in ['A', 'B']}\n",
    "data['time'] = pd.date_range(start='20150101', freq='D', periods=T)\n",
    "ts_df = pd.DataFrame(data)\n",
    "\n",
    "ts_df.set_index('time').plot()"
   ]
  },
  {
   "cell_type": "markdown",
   "metadata": {
    "slideshow": {
     "slide_type": "slide"
    }
   },
   "source": [
    "## Time series (2)\n",
    "*Why is pandas good at time data?*"
   ]
  },
  {
   "cell_type": "markdown",
   "metadata": {
    "slideshow": {
     "slide_type": "fragment"
    }
   },
   "source": [
    "It handles irregular data well: \n",
    "- missing values;\n",
    "- duplicate entries. \n",
    "\n",
    "It has specific tools for resampling and interpolating data\n",
    "- See 11.3, 11.5, 11.6 in PDA book. "
   ]
  },
  {
   "cell_type": "markdown",
   "metadata": {
    "slideshow": {
     "slide_type": "slide"
    }
   },
   "source": [
    "## Datetime variables (1)\n",
    "*What other uses might time data have?*"
   ]
  },
  {
   "cell_type": "markdown",
   "metadata": {
    "slideshow": {
     "slide_type": "fragment"
    }
   },
   "source": [
    "We can extract data from datetime columns. These columns have the `dt` attribute and its sub-methods. Example:"
   ]
  },
  {
   "cell_type": "code",
   "execution_count": null,
   "metadata": {
    "slideshow": {
     "slide_type": "-"
    }
   },
   "outputs": [],
   "source": [
    "dt_ser2 = ts_df.time\n",
    "#dt_ser2.dt.day.head(3)\n",
    "#dt_ser2.dt.month.head(3)"
   ]
  },
  {
   "cell_type": "markdown",
   "metadata": {
    "slideshow": {
     "slide_type": "slide"
    }
   },
   "source": [
    "## Datetime variables (2)\n",
    "The `dt` sub-methods include `year`,  `weekday`, `hour`, `second`."
   ]
  },
  {
   "cell_type": "markdown",
   "metadata": {
    "slideshow": {
     "slide_type": "fragment"
    }
   },
   "source": [
    "*To note:* Your temporal data may need conversion. `dt` includes `tz_localize` and `tz_convert` which does that. "
   ]
  },
  {
   "cell_type": "markdown",
   "metadata": {
    "slideshow": {
     "slide_type": "slide"
    }
   },
   "source": [
    "## Datetime variables (3)\n",
    "*Quiz: What are you to do if get time data with numbers of around 1-2 billion?*"
   ]
  },
  {
   "cell_type": "markdown",
   "metadata": {
    "slideshow": {
     "slide_type": "fragment"
    }
   },
   "source": [
    "It is likely to be epoch time measured in seconds. We can convert it as follows:"
   ]
  },
  {
   "cell_type": "code",
   "execution_count": null,
   "metadata": {},
   "outputs": [],
   "source": [
    "pd.to_datetime([123512321,2132321321], unit='s')"
   ]
  },
  {
   "cell_type": "markdown",
   "metadata": {
    "slideshow": {
     "slide_type": "slide"
    }
   },
   "source": [
    "# Missing data"
   ]
  },
  {
   "cell_type": "markdown",
   "metadata": {
    "slideshow": {
     "slide_type": "slide"
    }
   },
   "source": [
    "## Missing data type (1)\n",
    "*Which data type have we not covered yet?*"
   ]
  },
  {
   "cell_type": "markdown",
   "metadata": {
    "slideshow": {
     "slide_type": "-"
    }
   },
   "source": [
    "Missing data, i.e. empty observations.\n",
    "- In python: `None`\n",
    "- In pandas:  numpy's 'Not a Number', abbreviated `NaN` or `nan`"
   ]
  },
  {
   "cell_type": "markdown",
   "metadata": {
    "slideshow": {
     "slide_type": "slide"
    }
   },
   "source": [
    "## Missing data type (2)\n",
    "*What does a DataFrame with missing data look like?*"
   ]
  },
  {
   "cell_type": "code",
   "execution_count": null,
   "metadata": {
    "slideshow": {
     "slide_type": "-"
    }
   },
   "outputs": [],
   "source": [
    "nan_data = [[1,np.nan,3],\n",
    "            [4,5,None],\n",
    "            [7,8,9]]\n",
    "nan_df = pd.DataFrame(nan_data, columns=['A','B','C'])\n",
    "print(nan_df)"
   ]
  },
  {
   "cell_type": "markdown",
   "metadata": {
    "slideshow": {
     "slide_type": "slide"
    }
   },
   "source": [
    "## Handling missing data\n",
    "*What options do we in working with missing data?*"
   ]
  },
  {
   "cell_type": "markdown",
   "metadata": {
    "slideshow": {
     "slide_type": "-"
    }
   },
   "source": [
    "1. Ignore the problem\n",
    "2. Drop missing data: columns and/or rows\n",
    "3. Fill in the blanks\n",
    "4. If time and money permits: collect the data or new data"
   ]
  },
  {
   "cell_type": "markdown",
   "metadata": {
    "slideshow": {
     "slide_type": "slide"
    }
   },
   "source": [
    "## Removing missing data (1)\n",
    "*How do we remove data?*"
   ]
  },
  {
   "cell_type": "markdown",
   "metadata": {
    "slideshow": {
     "slide_type": "fragment"
    }
   },
   "source": [
    "Using the `dropna` method."
   ]
  },
  {
   "cell_type": "code",
   "execution_count": null,
   "metadata": {
    "slideshow": {
     "slide_type": "-"
    }
   },
   "outputs": [],
   "source": [
    "nan_df.dropna() # subset=['B'], axis=1"
   ]
  },
  {
   "cell_type": "markdown",
   "metadata": {
    "slideshow": {
     "slide_type": "slide"
    }
   },
   "source": [
    "## Filling missing data (1)\n",
    "*How do we fill observations with a constant?*"
   ]
  },
  {
   "cell_type": "code",
   "execution_count": null,
   "metadata": {},
   "outputs": [],
   "source": [
    "nan_df.fillna(0)"
   ]
  },
  {
   "cell_type": "markdown",
   "metadata": {},
   "source": [
    "Note: we can also select missing `isnull` and the replace values using `loc`."
   ]
  },
  {
   "cell_type": "markdown",
   "metadata": {
    "slideshow": {
     "slide_type": "slide"
    }
   },
   "source": [
    "## Filling missing data (2)\n",
    "*Are there other methods?*\n"
   ]
  },
  {
   "cell_type": "markdown",
   "metadata": {},
   "source": [
    "Yes, many methods:\n",
    "- Filling sorted temporal data, see `ffill`, `bfill`\n",
    "- Filling with a model \n",
    "    - e.g. linear interpolation, by mean of nearest observations etc.\n",
    "    - `sklearn` in next week can impute data"
   ]
  },
  {
   "cell_type": "markdown",
   "metadata": {
    "slideshow": {
     "slide_type": "slide"
    }
   },
   "source": [
    "# Useful tools"
   ]
  },
  {
   "cell_type": "markdown",
   "metadata": {
    "slideshow": {
     "slide_type": "slide"
    }
   },
   "source": [
    "## Duplicates in data (1)\n",
    "*What does it mean there are duplicates in the data?*"
   ]
  },
  {
   "cell_type": "markdown",
   "metadata": {
    "slideshow": {
     "slide_type": "-"
    }
   },
   "source": [
    "..."
   ]
  },
  {
   "cell_type": "markdown",
   "metadata": {
    "slideshow": {
     "slide_type": "slide"
    }
   },
   "source": [
    "## Duplicates in data (2)\n",
    "*How do we drop duplicates?*"
   ]
  },
  {
   "cell_type": "code",
   "execution_count": null,
   "metadata": {
    "slideshow": {
     "slide_type": "fragment"
    }
   },
   "outputs": [],
   "source": [
    "str_ser3.drop_duplicates()"
   ]
  },
  {
   "cell_type": "markdown",
   "metadata": {
    "slideshow": {
     "slide_type": "slide"
    }
   },
   "source": [
    "## Duplicates in data (3)\n",
    "*How do we use duplicates?*"
   ]
  },
  {
   "cell_type": "markdown",
   "metadata": {
    "slideshow": {
     "slide_type": "-"
    }
   },
   "source": [
    "Tomorrow morning we will get introduced to groupby which can be used to compute various statistics (e.g. mean, median)"
   ]
  },
  {
   "cell_type": "markdown",
   "metadata": {
    "slideshow": {
     "slide_type": "slide"
    }
   },
   "source": [
    "## Binning numerical data\n",
    "*Can we convert our numerical data to bins in a smart way?*"
   ]
  },
  {
   "cell_type": "markdown",
   "metadata": {
    "slideshow": {
     "slide_type": "fragment"
    }
   },
   "source": [
    "Yes, to methods are useful: \n",
    "- `cut` which divides data by user specified bins\n",
    "- `qcut` which divides data by user specified quantiles (e.g. median, q=0.5)"
   ]
  },
  {
   "cell_type": "code",
   "execution_count": null,
   "metadata": {
    "slideshow": {
     "slide_type": "-"
    }
   },
   "outputs": [],
   "source": [
    "x = pd.Series(np.random.normal(size=10**6))\n",
    "cat_ser3 = pd.qcut(x, q=[0,.95,1])\n",
    "cat_ser3.cat.categories"
   ]
  },
  {
   "cell_type": "markdown",
   "metadata": {
    "slideshow": {
     "slide_type": "slide"
    }
   },
   "source": [
    "## Other tricks\n",
    "Pandas is packed with smart tools\n",
    "- we can create dummy variables from categorical with `to_dummies`\n",
    "- we can combine many of the tools we have learned with `groupby` (tomorrow)"
   ]
  },
  {
   "cell_type": "markdown",
   "metadata": {
    "slideshow": {
     "slide_type": "slide"
    }
   },
   "source": [
    "# The end\n",
    "\n",
    "[Return to agenda](#Agenda)"
   ]
  }
 ],
 "metadata": {
  "celltoolbar": "Slideshow",
  "kernelspec": {
   "display_name": "Python 3",
   "language": "python",
   "name": "python3"
  },
  "language_info": {
   "codemirror_mode": {
    "name": "ipython",
    "version": 3
   },
   "file_extension": ".py",
   "mimetype": "text/x-python",
   "name": "python",
   "nbconvert_exporter": "python",
   "pygments_lexer": "ipython3",
   "version": "3.5.5"
  }
 },
 "nbformat": 4,
 "nbformat_minor": 2
}
