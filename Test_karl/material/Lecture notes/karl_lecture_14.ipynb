{
 "cells": [
  {
   "cell_type": "markdown",
   "metadata": {
    "slideshow": {
     "slide_type": "skip"
    }
   },
   "source": [
    "# Code stuff - not slides!"
   ]
  },
  {
   "cell_type": "code",
   "execution_count": 1,
   "metadata": {
    "slideshow": {
     "slide_type": "skip"
    }
   },
   "outputs": [],
   "source": [
    "from matplotlib.colors import ListedColormap\n",
    "import matplotlib.pyplot as plt\n",
    "\n",
    "\n",
    "def plot_decision_regions(X, y, classifier, test_idx=None, resolution=0.02):\n",
    "\n",
    "    # setup marker generator and color map\n",
    "    markers = ('s', 'x', 'o', '^', 'v')\n",
    "    colors = ('red', 'blue', 'lightgreen', 'gray', 'cyan')\n",
    "    cmap = ListedColormap(colors[:len(np.unique(y))])\n",
    "\n",
    "    # plot the decision surface\n",
    "    x1_min, x1_max = X[:, 0].min() - 1, X[:, 0].max() + 1\n",
    "    x2_min, x2_max = X[:, 1].min() - 1, X[:, 1].max() + 1\n",
    "    xx1, xx2 = np.meshgrid(np.arange(x1_min, x1_max, resolution),\n",
    "                           np.arange(x2_min, x2_max, resolution))\n",
    "    Z = classifier.predict(np.array([xx1.ravel(), xx2.ravel()]).T)\n",
    "    Z = Z.reshape(xx1.shape)\n",
    "    plt.contourf(xx1, xx2, Z, alpha=0.3, cmap=cmap)\n",
    "    plt.xlim(xx1.min(), xx1.max())\n",
    "    plt.ylim(xx2.min(), xx2.max())\n",
    "\n",
    "    for idx, cl in enumerate(np.unique(y)):\n",
    "        plt.scatter(x=X[y == cl, 0], \n",
    "                    y=X[y == cl, 1],\n",
    "                    alpha=0.8, \n",
    "                    c=colors[idx],\n",
    "                    marker=markers[idx], \n",
    "                    label=cl, \n",
    "                    edgecolor='black')\n",
    "\n",
    "    # highlight test samples\n",
    "    if test_idx:\n",
    "        # plot all samples\n",
    "        X_test, y_test = X[test_idx, :], y[test_idx]\n",
    "\n",
    "        plt.scatter(X_test[:, 0],\n",
    "                    X_test[:, 1],\n",
    "                    c='',\n",
    "                    edgecolor='black',\n",
    "                    alpha=1.0,\n",
    "                    linewidth=1,\n",
    "                    marker='o',\n",
    "                    s=100, \n",
    "                    label='test set')"
   ]
  },
  {
   "cell_type": "markdown",
   "metadata": {
    "slideshow": {
     "slide_type": "slide"
    }
   },
   "source": [
    "# Session 14:\n",
    "## Supervised learning, part 3\n",
    "\n",
    "*Andreas Bjerre-Nielsen*"
   ]
  },
  {
   "cell_type": "markdown",
   "metadata": {
    "slideshow": {
     "slide_type": "slide"
    }
   },
   "source": [
    "## Agenda\n",
    "1. [decision trees](#Decision-trees)\n",
    "1. [ensemble learning](#Ensemble-learning)\n",
    "1. machine learning for social scientists\n",
    "    - [direct applications of machine learning](#Direct-applications-of-machine-learning)\n",
    "    - [prediction policy problems](#Prediction-policy-problems)\n",
    "    - [machine learning in model estimation](#Machine-learning-in-model-estimation)"
   ]
  },
  {
   "cell_type": "markdown",
   "metadata": {
    "slideshow": {
     "slide_type": "slide"
    }
   },
   "source": [
    "## Vaaaamos"
   ]
  },
  {
   "cell_type": "code",
   "execution_count": 10,
   "metadata": {
    "slideshow": {
     "slide_type": "-"
    }
   },
   "outputs": [],
   "source": [
    "import warnings\n",
    "from sklearn.exceptions import ConvergenceWarning\n",
    "warnings.filterwarnings(action='ignore', category=ConvergenceWarning)\n",
    "\n",
    "import matplotlib.pyplot as plt\n",
    "import numpy as np \n",
    "import pandas as pd \n",
    "import seaborn as sns\n",
    "\n",
    "plt.style.use('default') # set style (colors, background, size, gridlines etc.)\n",
    "plt.rcParams['figure.figsize'] = 10, 4 # set default size of plots\n",
    "plt.rcParams.update({'font.size': 18})"
   ]
  },
  {
   "cell_type": "markdown",
   "metadata": {
    "slideshow": {
     "slide_type": "slide"
    }
   },
   "source": [
    "## It sucks not being able to complete all the exercises..."
   ]
  },
  {
   "cell_type": "markdown",
   "metadata": {
    "slideshow": {
     "slide_type": "fragment"
    }
   },
   "source": [
    "- We know, we feel sorry, we have been there. The exercises help you grow. "
   ]
  },
  {
   "cell_type": "markdown",
   "metadata": {
    "slideshow": {
     "slide_type": "fragment"
    }
   },
   "source": [
    "> #### Hadley Wickham\n",
    "\n",
    "> The bad news is that when ever you learn a new skill you’re going to suck. It’s going to be frustrating. The good news is that is typical and happens to everyone and it is only temporary. You can’t go from knowing nothing to becoming an expert without going through a period of great frustration and great suckiness."
   ]
  },
  {
   "cell_type": "markdown",
   "metadata": {
    "slideshow": {
     "slide_type": "fragment"
    }
   },
   "source": [
    "> #### Kosuke Imai\n",
    "\n",
    "> One can learn data analysis only by doing, not by reading."
   ]
  },
  {
   "cell_type": "markdown",
   "metadata": {
    "slideshow": {
     "slide_type": "slide"
    }
   },
   "source": [
    "## With great power ..."
   ]
  },
  {
   "cell_type": "markdown",
   "metadata": {
    "slideshow": {
     "slide_type": "fragment"
    }
   },
   "source": [
    "### comes great responsibility..."
   ]
  },
  {
   "cell_type": "markdown",
   "metadata": {
    "slideshow": {
     "slide_type": "fragment"
    }
   },
   "source": [
    "You have been suffering a lot with implementing estimators... why?"
   ]
  },
  {
   "cell_type": "markdown",
   "metadata": {
    "slideshow": {
     "slide_type": "fragment"
    }
   },
   "source": [
    "- If you don't know what is going on you are likely to apply erroneously.\n",
    "- So very important although you don't use in the exam."
   ]
  },
  {
   "cell_type": "markdown",
   "metadata": {
    "slideshow": {
     "slide_type": "slide"
    }
   },
   "source": [
    "# Decision trees"
   ]
  },
  {
   "cell_type": "markdown",
   "metadata": {
    "slideshow": {
     "slide_type": "slide"
    }
   },
   "source": [
    "## A hierarchal structure \n",
    "*What does a decision tree look like?*\n"
   ]
  },
  {
   "cell_type": "markdown",
   "metadata": {
    "slideshow": {
     "slide_type": "fragment"
    }
   },
   "source": [
    "\n",
    "<center><img src='https://github.com/rasbt/python-machine-learning-book-2nd-edition/raw/master/code/ch03/images/03_17.png' alt=\"Drawing\" style=\"width: 700px;\"/></center>\n"
   ]
  },
  {
   "cell_type": "markdown",
   "metadata": {
    "slideshow": {
     "slide_type": "slide"
    }
   },
   "source": [
    "## Sample splitting (1)\n",
    "*Suppose we have data like below, we are interested in predicting criminal*"
   ]
  },
  {
   "cell_type": "code",
   "execution_count": 12,
   "metadata": {},
   "outputs": [
    {
     "name": "stdout",
     "output_type": "stream",
     "text": [
      "    Criminal  From Jutland  Parents together  Parents unemployed\n",
      "3          1             0                 0                   1\n",
      "1          1             0                 0                   1\n",
      "14         0             0                 0                   0\n",
      "7          0             0                 1                   0\n",
      "6          0             1                 1                   1\n"
     ]
    }
   ],
   "source": [
    "df = pd.DataFrame({'Criminal':[1]*5+[0]*10,\n",
    "                   'From Jutland':np.random.randint(0,2,15),                   \n",
    "                   'Parents together':[0]*4+[1]*10+[0],\n",
    "                   'Parents unemployed':[1]*7+[0]*8})\n",
    "\n",
    "print(df.sample(n=5))\n"
   ]
  },
  {
   "cell_type": "markdown",
   "metadata": {
    "slideshow": {
     "slide_type": "slide"
    }
   },
   "source": [
    "## Sample splitting (2)\n",
    "*Let's try to split by 'From Jutland' together and see whether it helps*"
   ]
  },
  {
   "cell_type": "code",
   "execution_count": 17,
   "metadata": {},
   "outputs": [
    {
     "name": "stdout",
     "output_type": "stream",
     "text": [
      "Criminal      0  1\n",
      "From Jutland      \n",
      "0             6  3\n",
      "1             4  2\n"
     ]
    }
   ],
   "source": [
    "my_split = df\\\n",
    "            .groupby(['From Jutland'])\\\n",
    "            .Criminal\\\n",
    "            .value_counts()\\\n",
    "            .unstack(level=-1)\\\n",
    "\n",
    "print(my_split)"
   ]
  },
  {
   "cell_type": "markdown",
   "metadata": {
    "slideshow": {
     "slide_type": "slide"
    }
   },
   "source": [
    "## Sample splitting (3)\n",
    "*Let's try to split by number parents together and see whether it helps*"
   ]
  },
  {
   "cell_type": "code",
   "execution_count": 15,
   "metadata": {},
   "outputs": [
    {
     "name": "stdout",
     "output_type": "stream",
     "text": [
      "Criminal          0  1\n",
      "Parents together      \n",
      "0                 1  4\n",
      "1                 9  1\n"
     ]
    }
   ],
   "source": [
    "my_split = df\\\n",
    ".groupby(['Parents together'])\\\n",
    ".Criminal\\\n",
    ".value_counts()\\\n",
    ".unstack(level=-1)\\\n",
    "\n",
    "print(my_split)"
   ]
  },
  {
   "cell_type": "markdown",
   "metadata": {
    "slideshow": {
     "slide_type": "slide"
    }
   },
   "source": [
    "## Sample splitting (4)\n",
    "*What if we also split by 'Parents unemployed'? And From Jutland?*"
   ]
  },
  {
   "cell_type": "code",
   "execution_count": 18,
   "metadata": {},
   "outputs": [
    {
     "name": "stdout",
     "output_type": "stream",
     "text": [
      "Criminal                                            0    1\n",
      "Parents together Parents unemployed From Jutland          \n",
      "0                0                  0             1.0  0.0\n",
      "                 1                  0             0.0  2.0\n",
      "                                    1             0.0  2.0\n",
      "1                0                  0             5.0  0.0\n",
      "                                    1             2.0  0.0\n",
      "                 1                  0             0.0  1.0\n",
      "                                    1             2.0  0.0\n"
     ]
    }
   ],
   "source": [
    "my_split = df\\\n",
    ".groupby(['Parents together', \n",
    "          'Parents unemployed','From Jutland'])\\\n",
    ".Criminal\\\n",
    ".value_counts()\\\n",
    ".unstack(level=-1)\\\n",
    ".fillna(0)\n",
    "\n",
    "print(my_split)"
   ]
  },
  {
   "cell_type": "markdown",
   "metadata": {
    "slideshow": {
     "slide_type": "slide"
    }
   },
   "source": [
    "## Sample splitting (5)\n",
    "*What might a tree structure look like?*\n",
    "\n",
    "- Parents together: Yes > Not criminal    \n",
    "<br/><br/>        \n",
    "- Parents together: No\n",
    "    - Parents unemployed: Yes > Criminal\n",
    "    - Parents unemployed: No > Not criminal        "
   ]
  },
  {
   "cell_type": "markdown",
   "metadata": {
    "slideshow": {
     "slide_type": "slide"
    }
   },
   "source": [
    "## Sample splitting (6)\n",
    "*Suppose we have the Iris data, how would you split it?*"
   ]
  },
  {
   "cell_type": "code",
   "execution_count": 7,
   "metadata": {
    "scrolled": false
   },
   "outputs": [
    {
     "data": {
      "image/png": "[encoded data removed]",
      "text/plain": [
       "<matplotlib.figure.Figure at 0x251d11670f0>"
      ]
     },
     "metadata": {},
     "output_type": "display_data"
    }
   ],
   "source": [
    "iris = sns.load_dataset('iris')\n",
    "for species, species_df in iris.groupby('species'):\n",
    "    sns.kdeplot(species_df.sepal_width,label=species)"
   ]
  },
  {
   "cell_type": "markdown",
   "metadata": {
    "slideshow": {
     "slide_type": "slide"
    }
   },
   "source": [
    "## Decision Tree Classification (1)\n",
    "*Let's try automatic sample splitting*"
   ]
  },
  {
   "cell_type": "markdown",
   "metadata": {
    "slideshow": {
     "slide_type": "-"
    }
   },
   "source": [
    "Find all splits in features\n",
    "- Split is always binary (above, below)\n",
    "    - Works for integers and float too  \n",
    "- Compute the likelihood p of above for each class conditional on split\n",
    "\n",
    "Take split which maximizes  Shannon Entropy (or Gini):\n",
    "    $$-\\sum_{i}p_i\\log_2p_i$$\n",
    "    \n",
    " \n"
   ]
  },
  {
   "cell_type": "markdown",
   "metadata": {
    "slideshow": {
     "slide_type": "slide"
    }
   },
   "source": [
    "## Decision Tree Classification (2)\n",
    "*So how deep can this go?*"
   ]
  },
  {
   "cell_type": "markdown",
   "metadata": {
    "slideshow": {
     "slide_type": "fragment"
    }
   },
   "source": [
    "- Very deep, as deep as we want. Depth is a hyperparameter (many others)."
   ]
  },
  {
   "cell_type": "markdown",
   "metadata": {
    "slideshow": {
     "slide_type": "fragment"
    }
   },
   "source": [
    "*So what are some disadvantages?*"
   ]
  },
  {
   "cell_type": "markdown",
   "metadata": {
    "slideshow": {
     "slide_type": "fragment"
    }
   },
   "source": [
    "- The trees are not easy to interpret.\n",
    "- Non-linear, jumpy effects."
   ]
  },
  {
   "cell_type": "markdown",
   "metadata": {
    "slideshow": {
     "slide_type": "slide"
    }
   },
   "source": [
    "## Decision Tree Classification (3)\n",
    "*Does the tool exist in sklearn?*"
   ]
  },
  {
   "cell_type": "code",
   "execution_count": 8,
   "metadata": {},
   "outputs": [],
   "source": [
    "from sklearn import datasets\n",
    "from sklearn.model_selection import train_test_split\n",
    "from sklearn.tree import DecisionTreeClassifier\n",
    "\n",
    "iris = datasets.load_iris()\n",
    "X = iris.data[:, [2, 3]]\n",
    "y = iris.target\n",
    "\n",
    "X_train, X_test, y_train, y_test = train_test_split(X, y, test_size=0.3, random_state=1, stratify=y)\n",
    "\n",
    "tree = DecisionTreeClassifier(criterion='gini', max_depth=4, random_state=1)\n",
    "tree.fit(X_train, y_train)\n",
    "X_combined = np.vstack((X_train, X_test))\n",
    "y_combined = np.hstack((y_train, y_test))"
   ]
  },
  {
   "cell_type": "markdown",
   "metadata": {
    "slideshow": {
     "slide_type": "slide"
    }
   },
   "source": [
    "## Decision Tree Classification (4)\n",
    "*What does our tree look like?*"
   ]
  },
  {
   "cell_type": "markdown",
   "metadata": {
    "slideshow": {
     "slide_type": "fragment"
    }
   },
   "source": [
    "\n",
    "<center><img src='https://github.com/rasbt/python-machine-learning-book-2nd-edition/raw/master/code/ch03/images/03_21.png' alt=\"Drawing\" style=\"width: 500px;\"/></center>\n"
   ]
  },
  {
   "cell_type": "markdown",
   "metadata": {
    "slideshow": {
     "slide_type": "slide"
    }
   },
   "source": [
    "## Decision Tree Classification (5)\n",
    "*What does the decision boundaries look like?*"
   ]
  },
  {
   "cell_type": "code",
   "execution_count": 9,
   "metadata": {},
   "outputs": [
    {
     "data": {
      "image/png": "[encoded data removed]",
      "text/plain": [
       "<matplotlib.figure.Figure at 0x251d12135f8>"
      ]
     },
     "metadata": {},
     "output_type": "display_data"
    }
   ],
   "source": [
    "plot_decision_regions(X_combined, y_combined, classifier=tree, test_idx=range(105, 150))\n",
    "plt.xlabel('petal length [cm]')\n",
    "plt.ylabel('petal width [cm]')\n",
    "plt.legend(loc='upper left')\n",
    "plt.show()"
   ]
  },
  {
   "cell_type": "markdown",
   "metadata": {
    "slideshow": {
     "slide_type": "slide"
    }
   },
   "source": [
    "## Evaluating decision trees\n",
    "*What can we conclude about the decision trees?*\n",
    "\n",
    "- Can fit anything ~ Universal Approximation\n",
    "    - *little* underfitting (~low bias)\n",
    "    - **LARGE** overfitting (~large variance)"
   ]
  },
  {
   "cell_type": "markdown",
   "metadata": {
    "slideshow": {
     "slide_type": "slide"
    }
   },
   "source": [
    "# Universal approximation"
   ]
  },
  {
   "cell_type": "markdown",
   "metadata": {
    "slideshow": {
     "slide_type": "slide"
    }
   },
   "source": [
    "## Universal approximators (1)\n",
    "*Are decision trees the only universal approximators?*"
   ]
  },
  {
   "cell_type": "markdown",
   "metadata": {
    "slideshow": {
     "slide_type": "fragment"
    }
   },
   "source": [
    "No there are others.\n",
    "\n",
    "- K Nearest Neighbors:\n",
    "    - Approximate by taking average/mode from K nearest neighbors\n",
    "        - Need standardization\n",
    "    - Can also be used for interpolated local measures (weather, prices etc.)\n",
    "    - Not good with high dimensionality.\n",
    "\n",
    "   \n",
    "- Neural networks (deep learning)"
   ]
  },
  {
   "cell_type": "markdown",
   "metadata": {
    "slideshow": {
     "slide_type": "slide"
    }
   },
   "source": [
    "## Universal approximators (2)\n",
    "*I have forgotten, what was Adaline?*"
   ]
  },
  {
   "cell_type": "markdown",
   "metadata": {
    "slideshow": {
     "slide_type": "fragment"
    }
   },
   "source": [
    "\n",
    "<center><img src='https://github.com/rasbt/python-machine-learning-book-2nd-edition/raw/master/code/ch12/images/12_01.png' alt=\"Drawing\" style=\"width: 700px;\"/></center>\n"
   ]
  },
  {
   "cell_type": "markdown",
   "metadata": {
    "slideshow": {
     "slide_type": "slide"
    }
   },
   "source": [
    "## Universal approximators (3)\n",
    "*Why are neural networks called deep learning?*"
   ]
  },
  {
   "cell_type": "markdown",
   "metadata": {
    "slideshow": {
     "slide_type": "fragment"
    }
   },
   "source": [
    "\n",
    "<center><img src='https://github.com/rasbt/python-machine-learning-book-2nd-edition/raw/master/code/ch12/images/12_02.png' alt=\"Drawing\" style=\"width: 700px;\"/></center>\n"
   ]
  },
  {
   "cell_type": "markdown",
   "metadata": {
    "slideshow": {
     "slide_type": "slide"
    }
   },
   "source": [
    "## Universal approximators (4)\n",
    "*So learning about the Perceptron and Adaline actually has value?*"
   ]
  },
  {
   "cell_type": "markdown",
   "metadata": {
    "slideshow": {
     "slide_type": "fragment"
    }
   },
   "source": [
    "Yes, lot's of value. Think of these tools as building blocks for building a neural network."
   ]
  },
  {
   "cell_type": "markdown",
   "metadata": {
    "slideshow": {
     "slide_type": "slide"
    }
   },
   "source": [
    "# Random forest"
   ]
  },
  {
   "cell_type": "markdown",
   "metadata": {
    "slideshow": {
     "slide_type": "slide"
    }
   },
   "source": [
    "## The wisdom of the crowd (1)\n",
    "\n",
    "What can we do to reduce overfitting of a decision tree?\n",
    "\n",
    "- We create multiple trees where for each tree\n",
    "    - We draw a subsample of observation\n",
    "    - We draw a subsample of features\n",
    "    \n",
    "These combined decision trees are called a random forest.\n",
    "- The predicted value is the mode (most common) predicted by the trees\n",
    "- Extension to regression where the mean over trees is computed.\n",
    "- Works almost like magic out of the box."
   ]
  },
  {
   "cell_type": "markdown",
   "metadata": {
    "slideshow": {
     "slide_type": "slide"
    }
   },
   "source": [
    "## The wisdom of the crowd (2)\n",
    "\n",
    "This process of taking the mode or mean is more general and called **bootstrap aggregation** or **bagging*.\n",
    "\n",
    "The idea of combining different models into one is called **ensemble learning**."
   ]
  },
  {
   "cell_type": "markdown",
   "metadata": {
    "slideshow": {
     "slide_type": "slide"
    }
   },
   "source": [
    "# Direct applications of machine learning"
   ]
  },
  {
   "cell_type": "markdown",
   "metadata": {
    "slideshow": {
     "slide_type": "slide"
    }
   },
   "source": [
    "## Direct applications of ML  (1): testing predictive power\n",
    "\n",
    "ML helps us with making predictive models: \n",
    "\n",
    "- Assess the performance of our models\n",
    "- Choose the parameters that help estimate the best performing model \n",
    "\n",
    "Can we use ML to help us clarify whether a new feature set is relevant for prediction?"
   ]
  },
  {
   "cell_type": "markdown",
   "metadata": {
    "slideshow": {
     "slide_type": "slide"
    }
   },
   "source": [
    "## Direct applications of ML (2): new data\n",
    "\n",
    "Machine learning can help us *'fill in the blanks'* and impute missing data\n",
    "\n",
    "Input: Google Street View\n",
    "- Infer neighborhood socioeconomic status (Naik, Raskar, Hidalgo 2016)\n",
    "\n",
    "Input: Cell phone data\n",
    "- Inferring poverty. (Blumenstock, Cadamuro, On 2015)\n",
    "- Inferring mode of transportation. (Bjerre-Nielsen et al. 2018)\n",
    "- Sleep (Cuttone et al. 2017)\n",
    "\n",
    "Facebook data can help infer\n",
    "- personality and demographics (Cambridge Analytica); socioeconomic status; current mood"
   ]
  },
  {
   "cell_type": "markdown",
   "metadata": {
    "slideshow": {
     "slide_type": "slide"
    }
   },
   "source": [
    "## Direct applications of ML (3): better policy targetting\n",
    "\n",
    "Social and medical scientists are often involved in policies aimed at: \n",
    "- alleviating poverty, decrease drop-out, crime etc.\n",
    "\n",
    "Efficacy of these programs requires targetting of individuals:\n",
    "- who is most poor, who is most at risk of dropping out? dying?\n",
    "\n",
    "Kleinberg et al. 2015 show that mortality from surgery can be predicted in advance.\n",
    "- save billions of $ and not cause pain of surgery\n"
   ]
  },
  {
   "cell_type": "markdown",
   "metadata": {
    "slideshow": {
     "slide_type": "slide"
    }
   },
   "source": [
    "## ML in estimation\n",
    "\n",
    "Many econometric methods try to establish causality:\n",
    "\n",
    "- e.g. use of instrument variables (2SLS), matching \n",
    "- both of these problems have a prediction problem built-in\n",
    "    - can be enhanced with machine learning\n",
    "\n",
    "Machine learning can also be used to find heterogenous and non-linear effects\n",
    "\n",
    "Just as an estimator.. Rasmus Bjørn"
   ]
  },
  {
   "cell_type": "markdown",
   "metadata": {
    "slideshow": {
     "slide_type": "slide"
    }
   },
   "source": [
    "# Outro \n",
    "\n",
    "There are amazing resources for you to keep learning, online and offline.\n",
    "\n",
    "@ in Denmark.\n",
    "- Center for Social Data Science\n",
    "  - [Topics SDS course](github.com/abjer/tsds): spatial data, more text, networks - some new stuff\n",
    "  - Seminar in econometrics and machine learning \n",
    "  - A new education\n",
    "- Jeppe Druedahl's [numeric economics course](https://github.com/JeppeDruedahl/NumEcon) using Python\n",
    "- More courses are taught in machine learning at DTU\n",
    "\n",
    "\n",
    "@ online.\n",
    "- MIT open courseware, coursera, edX, etc."
   ]
  },
  {
   "cell_type": "markdown",
   "metadata": {
    "slideshow": {
     "slide_type": "slide"
    }
   },
   "source": [
    "# Everyone freeze!\n",
    "\n",
    "### Please run the course evaluation now (5 min)\n",
    "\n",
    "- Evaluate our actions: \n",
    "  - What was good, what was not good\n",
    "\n",
    "- Please evaluate: \n",
    "  - our teaching: did I make myself clear? was I too fast? what about Snorre?\n",
    "  - the material (exercises, books)\n",
    "  - peer grading\n",
    "  - machine learning curriculum"
   ]
  },
  {
   "cell_type": "markdown",
   "metadata": {
    "slideshow": {
     "slide_type": "slide"
    }
   },
   "source": [
    "# The end\n",
    "[Return to agenda](#Agenda)"
   ]
  }
 ],
 "metadata": {
  "celltoolbar": "Slideshow",
  "kernelspec": {
   "display_name": "Python 3",
   "language": "python",
   "name": "python3"
  },
  "language_info": {
   "codemirror_mode": {
    "name": "ipython",
    "version": 3
   },
   "file_extension": ".py",
   "mimetype": "text/x-python",
   "name": "python",
   "nbconvert_exporter": "python",
   "pygments_lexer": "ipython3",
   "version": "3.5.5"
  }
 },
 "nbformat": 4,
 "nbformat_minor": 2
}
