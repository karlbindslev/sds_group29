{
 "cells": [
  {
   "cell_type": "markdown",
   "metadata": {
    "ExecuteTime": {
     "end_time": "2017-08-23T15:30:03.634114Z",
     "start_time": "2017-08-23T15:30:03.629294Z"
    }
   },
   "source": [
    "# Exercise Set 8: Introduction to Web Scraping\n",
    "\n",
    "*Afternoon, August 16, 2018*\n",
    "\n",
    "In this Exercise Set we shall practice our webscraping skills utiilizing only basic python. We shall cover variations between static and dynamic pages. "
   ]
  },
  {
   "cell_type": "markdown",
   "metadata": {},
   "source": [
    "## Exercise Section 8.1: Scraping Jobnet.dk\n",
    "\n",
    "This exercise you get to practice locating the request that the JavaScript sends to get the job data that it builds the joblistings from. You should use the **>Network Monitor<** tool in your browser.\n",
    "\n",
    "Furthermore you practice spotting how the pagination is done, without clicking on the next page button, but instead changing a small parameter in the URL."
   ]
  },
  {
   "cell_type": "markdown",
   "metadata": {},
   "source": [
    "> **Ex. 8.1.1:** Hit the joblisting webpage here: https://job.jobnet.dk/CV and locate the request that gets the joblisting data using the a tool called the **>Network Monitor<**. To do this open monitor tool and press the search button on the website. Go to the _network_ pane in the monitor and look at the results. Which two _methods_ does your browser use to communicate with the webserver? What does status code 200 mean?\n",
    ">\n",
    ">> _Hint:_ The network monitor is launched by pressing ctrl+shift+i in most browsers. Filter by XHR files."
   ]
  },
  {
   "cell_type": "code",
   "execution_count": null,
   "metadata": {},
   "outputs": [],
   "source": [
    "# [Answer to Ex. 8.1.1 here]"
   ]
  },
  {
   "cell_type": "markdown",
   "metadata": {},
   "source": [
    "> **Ex. 8.1.2.:** Use the `request` module to collect the first page of job postings and unpack the relevant `json` data into a `pandas` DataFrame."
   ]
  },
  {
   "cell_type": "code",
   "execution_count": 24,
   "metadata": {},
   "outputs": [
    {
     "name": "stdout",
     "output_type": "stream",
     "text": [
      "    AnonymousEmployer  AssignmentStartDate  AutomatchType  Country  \\\n",
      "0               False  0001-01-01T00:00:00              0  Danmark   \n",
      "1               False  0001-01-01T00:00:00              0  Danmark   \n",
      "2               False  0001-01-01T00:00:00              0  Danmark   \n",
      "3               False  0001-01-01T00:00:00              0  Danmark   \n",
      "4               False  0001-01-01T00:00:00              0  Danmark   \n",
      "5               False  0001-01-01T00:00:00              0  Danmark   \n",
      "6               False  0001-01-01T00:00:00              0  Danmark   \n",
      "7               False  0001-01-01T00:00:00              0  Danmark   \n",
      "8               False  0001-01-01T00:00:00              0  Danmark   \n",
      "9               False  0001-01-01T00:00:00              0  Danmark   \n",
      "10              False  0001-01-01T00:00:00              0  Danmark   \n",
      "11              False  0001-01-01T00:00:00              0  Danmark   \n",
      "12              False  0001-01-01T00:00:00              0  Danmark   \n",
      "13              False  0001-01-01T00:00:00              0  Danmark   \n",
      "14              False  0001-01-01T00:00:00              0  Danmark   \n",
      "15              False  0001-01-01T00:00:00              0  Danmark   \n",
      "16              False  0001-01-01T00:00:00              0  Danmark   \n",
      "17              False  0001-01-01T00:00:00              0  Danmark   \n",
      "18              False  0001-01-01T00:00:00              0  Danmark   \n",
      "19              False  0001-01-01T00:00:00              0  Danmark   \n",
      "\n",
      "   EmploymentType  HasLocationValues  HiringOrgCVR  \\\n",
      "0                               True      29810788   \n",
      "1                               True      31544483   \n",
      "2                               True      30982894   \n",
      "3                               True      38661280   \n",
      "4                               True      10691133   \n",
      "5                               True      29190658   \n",
      "6                               True      30699599   \n",
      "7                               True      32647677   \n",
      "8                               True      29190623   \n",
      "9                               True      19596915   \n",
      "10                              True      29556490   \n",
      "11                              True      33647921   \n",
      "12                              True      55145016   \n",
      "13                              True      10403782   \n",
      "14                              True      21009539   \n",
      "15                              True      64942212   \n",
      "16                              True      64942212   \n",
      "17                              True      33647921   \n",
      "18                              True      31802598   \n",
      "19                              True      29189900   \n",
      "\n",
      "                               HiringOrgName       ID  IsExternal     ...      \\\n",
      "0                              KRYB-I-LY A/S  4851508       False     ...       \n",
      "1                                    Café 18  4861474       False     ...       \n",
      "2   GG Ejendomsservice v/Mogens van der Goot  4830239       False     ...       \n",
      "3                                Keeperz ApS  4842917       False     ...       \n",
      "4        Vejlsøhus hotel og konferencecenter  4625721       False     ...       \n",
      "5                            Region Sjælland  4862975       False     ...       \n",
      "6                                 AGITEK ApS  4833233       False     ...       \n",
      "7                          Medarbejderne ApS  4795799       False     ...       \n",
      "8                             Rigshospitalet  4865460       False     ...       \n",
      "9                 Copenhagen Business School  4865459       False     ...       \n",
      "10                                   Brøndby  4865458       False     ...       \n",
      "11                       UGGERHØJ AARHUS A/S  4865457       False     ...       \n",
      "12                                      GEUS  4865455       False     ...       \n",
      "13                    Vestas Wind System A/S  4865454       False     ...       \n",
      "14                   JYDAN Rengøringsservice  4865452       False     ...       \n",
      "15                     Koncern Service og IT  4865451       False     ...       \n",
      "16                     Koncern Service og IT  4865448       False     ...       \n",
      "17                       UGGERHØJ AARHUS A/S  4865447       False     ...       \n",
      "18                                     LOBPA  4865446       False     ...       \n",
      "19              Odense Universitets Hospital  4865445       False     ...       \n",
      "\n",
      "    UseWorkPlaceAddressForJoblog Weight WorkHours WorkPlaceAbroad  \\\n",
      "0                           True    1.0   Fuldtid           False   \n",
      "1                           True    1.0    Deltid           False   \n",
      "2                          False    1.0   Fuldtid           False   \n",
      "3                           True    1.0    Deltid           False   \n",
      "4                           True    1.0   Fuldtid           False   \n",
      "5                          False    1.0   Fuldtid           False   \n",
      "6                           True    1.0   Fuldtid           False   \n",
      "7                          False    1.0   Fuldtid           False   \n",
      "8                           True    1.0   Fuldtid           False   \n",
      "9                           True    1.0   Fuldtid           False   \n",
      "10                          True    1.0   Fuldtid           False   \n",
      "11                          True    1.0   Fuldtid           False   \n",
      "12                          True    1.0   Fuldtid           False   \n",
      "13                          True    1.0   Fuldtid           False   \n",
      "14                         False    1.0    Deltid           False   \n",
      "15                          True    1.0    Deltid           False   \n",
      "16                          True    1.0   Fuldtid           False   \n",
      "17                          True    1.0   Fuldtid           False   \n",
      "18                         False    1.0    Deltid           False   \n",
      "19                         False    1.0   Fuldtid           False   \n",
      "\n",
      "          WorkPlaceAddress  WorkPlaceCity  WorkPlaceNotStatic  \\\n",
      "0     Kolding Landevej 160     Fredericia               False   \n",
      "1           Krystalgade 18          Rønne               False   \n",
      "2                                                        True   \n",
      "3   Edvard Thomsens Vej 63    København S               False   \n",
      "4           Vejlsøvej 051       Silkeborg               False   \n",
      "5                                                       False   \n",
      "6        Gammelstrupvej 10      Brædstrup               False   \n",
      "7                                                       False   \n",
      "8          Blegdamsvej 9      København Ø               False   \n",
      "9        Solbjerg Plads 3   Frederiksberg               False   \n",
      "10     Brøndby Møllevej 4         Brøndby               False   \n",
      "11          Slet Parkvej 2       Højbjerg               False   \n",
      "12      Øster Voldgade 10     København K               False   \n",
      "13             Hedeager 42       Aarhus N               False   \n",
      "14                                                      False   \n",
      "15        Borups Allé 177    København NV               False   \n",
      "16        Borups Allé 177    København NV               False   \n",
      "17          Slet Parkvej 2       Højbjerg               False   \n",
      "18                                                      False   \n",
      "19                                                       True   \n",
      "\n",
      "   WorkPlaceOtherAddress  WorkPlacePostalCode WorkplaceID  \n",
      "0                  False                 7000       67143  \n",
      "1                  False                 3700           0  \n",
      "2                  False                            92386  \n",
      "3                  False                 2300      122935  \n",
      "4                  False                 8600        6658  \n",
      "5                   True                            61350  \n",
      "6                  False                 8740       82687  \n",
      "7                   True                           113749  \n",
      "8                  False                 2100         608  \n",
      "9                  False                 2000       79401  \n",
      "10                 False                 2605       60219  \n",
      "11                 False                 8270      123080  \n",
      "12                 False                 1350       77205  \n",
      "13                 False                 8200      110229  \n",
      "14                  True                             4856  \n",
      "15                 False                 2400       76595  \n",
      "16                 False                 2400       76595  \n",
      "17                 False                 8270      123080  \n",
      "18                  True                            80514  \n",
      "19                 False                            62433  \n",
      "\n",
      "[20 rows x 42 columns]\n",
      "dict_keys(['Expression', 'Facets', 'JobPositionPostings', 'TotalResultCount'])\n"
     ]
    }
   ],
   "source": [
    "# [Answer to Ex. 8.1.2 here]\n",
    "import requests\n",
    "import pandas as pd\n",
    "\n",
    "url = 'https://job.jobnet.dk/CV/FindWork/Search'\n",
    "response = requests.get(url)\n",
    "#print(response.ok)\n",
    "response = response.json()\n",
    "job_postings =pd.DataFrame(response['JobPositionPostings'])\n",
    "print(job_postings)\n",
    "\n",
    "#print(response.keys())\n",
    "#print(response)\n",
    "\n"
   ]
  },
  {
   "cell_type": "markdown",
   "metadata": {},
   "source": [
    "> **Ex. 8.1.3.:** Store and print the 'TotalResultCount' value for later use. Also create a dataframe from the 'JobPositionPostings' field in the json. "
   ]
  },
  {
   "cell_type": "code",
   "execution_count": 29,
   "metadata": {},
   "outputs": [
    {
     "name": "stdout",
     "output_type": "stream",
     "text": [
      "16007\n"
     ]
    }
   ],
   "source": [
    "# [Answer to Ex. 8.1.3 here]\n",
    "#print(response.keys())\n",
    "result_count =response['TotalResultCount']\n",
    "print(result_count)"
   ]
  },
  {
   "cell_type": "markdown",
   "metadata": {},
   "source": [
    "> **Ex. 8.1.4:** This exercise is about paging the results. We need to understand the websites pagination scheme. Scroll down the webpage and press the next page button. Describe how the parameters of the url changes as you turn the pages.\n"
   ]
  },
  {
   "cell_type": "code",
   "execution_count": null,
   "metadata": {},
   "outputs": [],
   "source": [
    "# [Answer to Ex. 8.1.4 here]\n",
    "#Offset changes: 0,20,40..."
   ]
  },
  {
   "cell_type": "markdown",
   "metadata": {},
   "source": [
    "> **Ex. 8.1.5:** Design a`for` loop using the `range` function that changes this paging parameter in the URL. Use the TotalResultCount parameter from before to define the limits of the range function. Store these urls in a container. \n",
    ">\n",
    ">**Bonus** Change the SortValue parameter from BestMatch to CreationDate, to make the sorting amendable to updating results daily.\n",
    ">\n",
    ">> _Hint:_ See that the parameter is an offset and that this relates to the number of results pr. call made."
   ]
  },
  {
   "cell_type": "code",
   "execution_count": 46,
   "metadata": {},
   "outputs": [
    {
     "name": "stdout",
     "output_type": "stream",
     "text": [
      "801\n",
      "16007\n"
     ]
    }
   ],
   "source": [
    "# [Answer to Ex. 8.1.5 here]\n",
    "#round(result_count/20)\n",
    "list_url = []\n",
    "\n",
    "for i in range(0,result_count,20):\n",
    "    #i = str(i*20)\n",
    "    list_url.append('https://job.jobnet.dk/CV/FindWork?Offset=' + str(i) + '&SortValue=BestMatch')\n",
    "\n",
    "\n"
   ]
  },
  {
   "cell_type": "markdown",
   "metadata": {},
   "source": [
    "> **Ex. 8.1.6:** Pick 20 random links using the `choice` function in the `random` module;  collect the links using the `request` module. Also use the `time.sleep()` function to limit the rate of your calls. Make sure to save the links already collected in a `set()` container to avoid having to reload links already collected. ***extra***: monitor the time left to completing the loop by using `tqdm.tqdm()` function."
   ]
  },
  {
   "cell_type": "code",
   "execution_count": 17,
   "metadata": {},
   "outputs": [],
   "source": [
    "# [Answer to Ex. 8.1.6 here]"
   ]
  },
  {
   "cell_type": "markdown",
   "metadata": {},
   "source": [
    "> **Ex. 8.1.7:** Load all the results into a DataFrame."
   ]
  },
  {
   "cell_type": "code",
   "execution_count": 17,
   "metadata": {},
   "outputs": [],
   "source": [
    "# [Answer to Ex. 8.1.7 here]"
   ]
  },
  {
   "cell_type": "markdown",
   "metadata": {},
   "source": [
    "## Exercise Section 8.2: Scraping Trustpilot.com\n",
    "Now for a slightly more elaborate, yet still simple scraping problem. Here we want to scrape trustpilot for user reviews. This data is very nice since it provides free labeled data (rating) to train a machine learning model to understand positive and negative sentiment. \n",
    "\n",
    "Here you will practice crawling a website collecting the links to each company review page, and finally locate another behind the scenes JavaScript request that gets the review data in a neat json format."
   ]
  },
  {
   "cell_type": "markdown",
   "metadata": {},
   "source": [
    "> **Ex. 8.2.1:** Visit the https://www.trustpilot.com/ website and locate the categories page. From this page you find links to company listings. Get the category page using the `requests` module and extract each link to a specific category page from the HTML. This can be done using the basic python `.split()` string method. Make sure only links within the ***/categories/*** section are kept, checking each string using the ```if 'pattern' in string``` condition. \n",
    ">\n",
    ">> *Hint:* The links are relative. You need to add the domain name\n",
    ">>\n",
    ">> *Hint #2:* You will need to convert the page response to a string, using the `.text` property.\n"
   ]
  },
  {
   "cell_type": "code",
   "execution_count": 20,
   "metadata": {},
   "outputs": [],
   "source": [
    "# [Answer to Ex. 8.2.1]"
   ]
  },
  {
   "cell_type": "markdown",
   "metadata": {},
   "source": [
    "> **Ex. 8.2.2:** Get one of the category section links (any one will do). Write a function to extract the links to the company review pages from the HTML.\n"
   ]
  },
  {
   "cell_type": "code",
   "execution_count": null,
   "metadata": {},
   "outputs": [],
   "source": [
    "# [Answer to Ex. 8.2.2]"
   ]
  },
  {
   "cell_type": "markdown",
   "metadata": {},
   "source": [
    "> **Ex. 8.2.3:** Figure out how the pagination is done, by following how the url changes when pressing the **next page**-button to obtain more company listings. Write a function that builds links to paging all the company listing results of each category. This includes parsing the number of subpages of each category and changing the correct parameter in the url.\n",
    ">\n",
    ">> *Hint:* Find the maximum number of result pages, right before the next page button and make a loop change the page parameter of the url.\n"
   ]
  },
  {
   "cell_type": "code",
   "execution_count": 21,
   "metadata": {},
   "outputs": [],
   "source": [
    "# [Answer to Ex.8.2.3]"
   ]
  },
  {
   "cell_type": "markdown",
   "metadata": {},
   "source": [
    "> **Ex. 8.2.4:** Loop through all categories and build the paging links using the above defined function."
   ]
  },
  {
   "cell_type": "code",
   "execution_count": null,
   "metadata": {},
   "outputs": [],
   "source": [
    "# [Answer to Ex.8.2.4]"
   ]
  },
  {
   "cell_type": "markdown",
   "metadata": {},
   "source": [
    "> **Ex. 8.2.5:** Randomly pick one of category listing links you have generated, and get the links to the companies listed using the other function defined. \n"
   ]
  },
  {
   "cell_type": "code",
   "execution_count": null,
   "metadata": {},
   "outputs": [],
   "source": [
    "# [Answer to Ex.8.2.5]"
   ]
  },
  {
   "cell_type": "markdown",
   "metadata": {},
   "source": [
    "> **Ex. 8.2.6:** Visit one of these links and inspect the **>Network Monitor<** to locate the request that loads the review data. Use the requests module to retrieve this link and unpack the json results to a pandas DataFrame.\n",
    ">\n",
    ">> _Hint:_ Look for a request which sends a the link to a file called `jsonId`"
   ]
  },
  {
   "cell_type": "code",
   "execution_count": null,
   "metadata": {},
   "outputs": [],
   "source": [
    "#[Answer to Ex.8.2.6]"
   ]
  },
  {
   "cell_type": "markdown",
   "metadata": {},
   "source": [
    "Congratulations on coming this far. By now you are almost - still need to figure out how to page the reviews and to find the company ID in the html -, ready to deploy a scraper collecting all reviews on trustpilot. \n",
    "If you wanna see just how valuable such data could be visit the follow blogpost: https://blog.openai.com/unsupervised-sentiment-neuron/"
   ]
  }
 ],
 "metadata": {
  "kernelspec": {
   "display_name": "Python 3",
   "language": "python",
   "name": "python3"
  },
  "language_info": {
   "codemirror_mode": {
    "name": "ipython",
    "version": 3
   },
   "file_extension": ".py",
   "mimetype": "text/x-python",
   "name": "python",
   "nbconvert_exporter": "python",
   "pygments_lexer": "ipython3",
   "version": "3.6.5"
  },
  "nav_menu": {},
  "toc": {
   "navigate_menu": true,
   "number_sections": false,
   "sideBar": true,
   "threshold": 6,
   "toc_cell": false,
   "toc_section_display": "block",
   "toc_window_display": true
  }
 },
 "nbformat": 4,
 "nbformat_minor": 2
}
