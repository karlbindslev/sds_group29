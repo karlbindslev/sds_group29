{
 "cells": [
  {
   "cell_type": "markdown",
   "metadata": {},
   "source": [
    "> **Note:** In most sessions you will be solving exercises posed in a Jupyter notebook that looks like this one. Because you are cloning a Github repository that only we can push to, you should **NEVER EDIT** any of the files you pull from Github. Instead, what you should do, is either make a new notebook and write your solutions in there, or **make a copy of this notebook and save it somewhere else** on your computer, not inside the `sds` folder that you cloned, so you can write your answers in there. If you edit the notebook you pulled from Github, those edits (possible your solutions to the exercises) may be overwritten and lost the next time you pull from Github. This is important, so don't hesitate to ask if it is unclear."
   ]
  },
  {
   "cell_type": "markdown",
   "metadata": {
    "ExecuteTime": {
     "end_time": "2017-08-23T15:30:03.634114Z",
     "start_time": "2017-08-23T15:30:03.629294Z"
    }
   },
   "source": [
    "# Exercise Set 12: Linear regression models.\n",
    "\n",
    "*Afternoon, August 20, 2018*\n",
    "\n",
    "In this Exercise Set 12 we will work with regression models.\n",
    "\n",
    "We import our standard stuff. Notice that we are not interested in seeing the convergence warning in scikit-learn so we suppress them for now."
   ]
  },
  {
   "cell_type": "code",
   "execution_count": 79,
   "metadata": {},
   "outputs": [],
   "source": [
    "import warnings\n",
    "from sklearn.exceptions import ConvergenceWarning\n",
    "warnings.filterwarnings(action='ignore', category=ConvergenceWarning)\n",
    "\n",
    "import matplotlib.pyplot as plt\n",
    "import numpy as np \n",
    "import pandas as pd \n",
    "import seaborn as sns\n",
    "\n",
    "%matplotlib inline"
   ]
  },
  {
   "cell_type": "markdown",
   "metadata": {},
   "source": [
    "## Exercise Section 12.1: Implementing OLS solved with gradiant decent\n",
    " \n",
    "In this exercise we will try to implement the OLS-estimator from scratch, and solve using numerical optimation using the gradiant decent algorith. Then we will fit it to some data, and compare our own solution to the standard solution from `sklearn`"
   ]
  },
  {
   "cell_type": "markdown",
   "metadata": {},
   "source": [
    "> **Ex. 12.1.1**: Import the dataset `tips` from the `seaborn`.\n",
    "\n",
    "\n",
    "*Hint*: use the `load_dataset` method in seaborn"
   ]
  },
  {
   "cell_type": "code",
   "execution_count": 80,
   "metadata": {},
   "outputs": [
    {
     "name": "stdout",
     "output_type": "stream",
     "text": [
      "   total_bill   tip     sex smoker  day    time  size\n",
      "0       16.99  1.01  Female     No  Sun  Dinner     2\n",
      "1       10.34  1.66    Male     No  Sun  Dinner     3\n",
      "2       21.01  3.50    Male     No  Sun  Dinner     3\n",
      "3       23.68  3.31    Male     No  Sun  Dinner     2\n",
      "4       24.59  3.61  Female     No  Sun  Dinner     4\n",
      "[Sun, Sat, Thur, Fri]\n",
      "Categories (4, object): [Sun, Sat, Thur, Fri]\n"
     ]
    }
   ],
   "source": [
    "# [Answer to Ex. 12.1.1]\n",
    "raw_data = sns.load_dataset('tips')\n",
    "print(raw_data.head())\n",
    "print(raw_data['day'].unique())"
   ]
  },
  {
   "cell_type": "markdown",
   "metadata": {},
   "source": [
    "> **Ex. 12.1.2**: Convert non-numeric variables to dummy variables for each category (remember to leave one column out for each catagorical variable, so you have a reference). Restructure the data so we get a dataset `y` containing the variable tip, and a dataset `X` containing the \n",
    "features. \n",
    "\n",
    ">> *Hint*: You might want to use the `get_dummies` method in pandas, with the `drop_first = True` parameter. "
   ]
  },
  {
   "cell_type": "code",
   "execution_count": 81,
   "metadata": {},
   "outputs": [
    {
     "name": "stdout",
     "output_type": "stream",
     "text": [
      "   total_bill  size  sex_Female  smoker_No  day_Fri  day_Sat  day_Sun  \\\n",
      "0       16.99     2           1          1        0        0        1   \n",
      "1       10.34     3           0          1        0        0        1   \n",
      "2       21.01     3           0          1        0        0        1   \n",
      "3       23.68     2           0          1        0        0        1   \n",
      "4       24.59     4           1          1        0        0        1   \n",
      "\n",
      "   time_Dinner  \n",
      "0            1  \n",
      "1            1  \n",
      "2            1  \n",
      "3            1  \n",
      "4            1  \n",
      "----print(tips)----\n",
      "0    1.01\n",
      "1    1.66\n",
      "2    3.50\n",
      "3    3.31\n",
      "4    3.61\n",
      "Name: tip, dtype: float64\n",
      "244\n"
     ]
    }
   ],
   "source": [
    "# [Answer to Ex. 12.1.2]\n",
    "X = pd.get_dummies(raw_data, drop_first = True).drop('tip', axis=1)\n",
    "print(X.head())\n",
    "\n",
    "print('----print(tips)----')\n",
    "y = raw_data['tip']\n",
    "print(y.head())\n",
    "print(len(y))"
   ]
  },
  {
   "cell_type": "markdown",
   "metadata": {},
   "source": [
    "> **Ex. 12.1.3**: Divide the features and target into test and train data. Make the split 50 pct. of each. The split data should be called `X_train`, `X_test`, `y_train`, `y_test`.\n",
    "\n",
    ">> *Hint*: You may use `train_test_split` in `sklearn.model_selection`."
   ]
  },
  {
   "cell_type": "code",
   "execution_count": 82,
   "metadata": {},
   "outputs": [
    {
     "name": "stdout",
     "output_type": "stream",
     "text": [
      "122\n"
     ]
    }
   ],
   "source": [
    "# [Answer to Ex. 12.1.3]\n",
    "from sklearn.model_selection import train_test_split\n",
    "\n",
    "X_train, X_test, y_train, y_test = train_test_split(X, y, test_size =0.5, random_state = 50)\n",
    "\n",
    "print(len(X_train))"
   ]
  },
  {
   "cell_type": "markdown",
   "metadata": {},
   "source": [
    "> **Ex. 12.1.4**: Normalize your features by converting to zero mean and one std. deviation.\n",
    "\n",
    ">> *Hint 1*: Take a look at `StandardScaler` in `sklearn.preprocessing`. \n",
    "\n",
    ">> *Hint 2*: If in doubt about which distribution to scale, you may read [this post](https://stats.stackexchange.com/questions/174823/how-to-apply-standardization-normalization-to-train-and-testset-if-prediction-i)."
   ]
  },
  {
   "cell_type": "code",
   "execution_count": 83,
   "metadata": {},
   "outputs": [
    {
     "name": "stdout",
     "output_type": "stream",
     "text": [
      "[[-0.57921669 -0.58572693 -0.73776947  0.67259271 -0.31480009 -0.81928803\n",
      "  -0.65976823 -1.79078099]\n",
      " [ 0.73938599  0.39315917  1.35543694  0.67259271 -0.31480009 -0.81928803\n",
      "   1.51568377  0.55841558]\n",
      " [ 0.446875    1.37204526 -0.73776947 -1.48678388 -0.31480009 -0.81928803\n",
      "   1.51568377  0.55841558]\n",
      " [ 1.05377772 -0.58572693 -0.73776947 -1.48678388 -0.31480009 -0.81928803\n",
      "  -0.65976823 -1.79078099]\n",
      " [-0.98113139 -0.58572693 -0.73776947  0.67259271 -0.31480009  1.22057196\n",
      "  -0.65976823  0.55841558]]\n",
      "[[-0.83602751 -0.58572693 -0.73776947 -1.48678388  3.17661913 -0.81928803\n",
      "  -0.65976823  0.55841558]\n",
      " [-1.03180258  0.39315917  1.35543694  0.67259271 -0.31480009 -0.81928803\n",
      "   1.51568377  0.55841558]\n",
      " [ 0.90867385 -0.58572693  1.35543694 -1.48678388 -0.31480009  1.22057196\n",
      "  -0.65976823  0.55841558]\n",
      " [-0.15772448 -0.58572693 -0.73776947  0.67259271 -0.31480009  1.22057196\n",
      "  -0.65976823  0.55841558]\n",
      " [ 1.0203808   2.35093136 -0.73776947 -1.48678388 -0.31480009  1.22057196\n",
      "  -0.65976823  0.55841558]]\n",
      "     total_bill      size  sex_Female  smoker_No  day_Fri   day_Sat   day_Sun  \\\n",
      "122   -0.579217 -0.585727   -0.737769   0.672593  -0.3148 -0.819288 -0.659768   \n",
      "114    0.739386  0.393159    1.355437   0.672593  -0.3148 -0.819288  1.515684   \n",
      "183    0.446875  1.372045   -0.737769  -1.486784  -0.3148 -0.819288  1.515684   \n",
      "192    1.053778 -0.585727   -0.737769  -1.486784  -0.3148 -0.819288 -0.659768   \n",
      "233   -0.981131 -0.585727   -0.737769   0.672593  -0.3148  1.220572 -0.659768   \n",
      "\n",
      "     time_Dinner  \n",
      "122    -1.790781  \n",
      "114     0.558416  \n",
      "183     0.558416  \n",
      "192    -1.790781  \n",
      "233     0.558416  \n",
      "     total_bill      size  sex_Female  smoker_No   day_Fri   day_Sat  \\\n",
      "97    -0.836028 -0.585727   -0.737769  -1.486784  3.176619 -0.819288   \n",
      "16    -1.031803  0.393159    1.355437   0.672593 -0.314800 -0.819288   \n",
      "240    0.908674 -0.585727    1.355437  -1.486784 -0.314800  1.220572   \n",
      "20    -0.157724 -0.585727   -0.737769   0.672593 -0.314800  1.220572   \n",
      "216    1.020381  2.350931   -0.737769  -1.486784 -0.314800  1.220572   \n",
      "\n",
      "      day_Sun  time_Dinner  \n",
      "97  -0.659768     0.558416  \n",
      "16   1.515684     0.558416  \n",
      "240 -0.659768     0.558416  \n",
      "20  -0.659768     0.558416  \n",
      "216 -0.659768     0.558416  \n"
     ]
    }
   ],
   "source": [
    "# [Answer to Ex. 12.1.4]\n",
    "from sklearn import preprocessing\n",
    "\n",
    "scaler = preprocessing.StandardScaler().fit(X_train)\n",
    "\n",
    "X_train_scaled = scaler.transform(X_train)\n",
    "X_test_scaled = scaler.transform(X_test)\n",
    "print(X_train_scaled[0:5])\n",
    "print(X_test_scaled[0:5])\n",
    "\n",
    "\n",
    "X_train_scaled_alt = (X_train - np.mean(X_train)) / np.std(X_train)\n",
    "print(X_train_scaled_alt.head())\n",
    "X_test_scaled_alt = (X_test - np.mean(X_train)) / np.std(X_train)\n",
    "print(X_test_scaled_alt.head())\n",
    "\n",
    "\n"
   ]
  },
  {
   "cell_type": "markdown",
   "metadata": {},
   "source": [
    "> **Ex. 12.1.5**: Make a function called `compute_error` to compute the prediction errors given input target `y_`, input features `X_` and input weights `w_`. You should use matrix multiplication.\n",
    ">\n",
    ">> *Hint 1:* You can use the net-input fct. from yesterday.\n",
    ">>\n",
    ">> *Hint 2:* If you run the following code,\n",
    ">> ```python\n",
    "y__ = np.array([1,1])\n",
    "X__ = np.array([[1,0],[0,1]])\n",
    "w__ = np.array([0,1,1])\n",
    "compute_error(y__, X__, w__)\n",
    "```\n",
    "\n",
    ">> then you should get output:\n",
    "```python \n",
    "array([0,0])\n",
    "```\n",
    "\n"
   ]
  },
  {
   "cell_type": "code",
   "execution_count": 92,
   "metadata": {},
   "outputs": [
    {
     "name": "stdout",
     "output_type": "stream",
     "text": [
      "-0.006567698437930878\n"
     ]
    },
    {
     "data": {
      "text/plain": [
       "array([0, 0])"
      ]
     },
     "execution_count": 92,
     "metadata": {},
     "output_type": "execute_result"
    }
   ],
   "source": [
    "# [Answer to Ex. 12.1.5]\n",
    "def random_weights(X):\n",
    "    rgen = np.random.RandomState()\n",
    "    w = rgen.normal(size = (1 + X.shape[1]), loc = 0, scale = 0.01)\n",
    "    return w\n",
    "\n",
    "print(random_weights(X_train)[:][1:])\n",
    "\n",
    "\n",
    "def compute_error(y, X, W):\n",
    "    z = W[0] + X.dot(W[1:]) # net input y = w_0 + w_1 x_1 + w_2 x_2 + ...\n",
    "    error = z - y\n",
    "    return error\n",
    "\n",
    "y__ = np.array([1,1])\n",
    "X__ = np.array([[1,0], [0,1]])\n",
    "w__ = np.array([0,1,1])\n",
    "\n",
    "compute_error(y__, X__, w__)\n",
    "#compute_error(y_train, X_train_scaled, random_weights(X_train))\n",
    "\n"
   ]
  },
  {
   "cell_type": "markdown",
   "metadata": {},
   "source": [
    "> **Ex. 12.1.6**: Make a function to update the weights given input target `y_`, input features `X_` and input weights `w_` as well as learning rate, $\\eta$, i.e. greek `eta`. You should use matrix multiplication."
   ]
  },
  {
   "cell_type": "code",
   "execution_count": 149,
   "metadata": {},
   "outputs": [
    {
     "name": "stdout",
     "output_type": "stream",
     "text": [
      "[-0.33528672 -6.92206049 -0.93567905 -0.12207612 -0.20933121 -0.03999813\n",
      " -0.11779608 -0.12983048 -0.23693963]\n"
     ]
    }
   ],
   "source": [
    "# [Answer to Ex. 12.1.6]\n",
    "def update_weights(y, X, w, eta=0.001):\n",
    "    e = compute_error(y, X, w)\n",
    "    fod = X.T.dot(e)\n",
    "    update_vars = eta * fod\n",
    "    update_bias = eta*e.sum()\n",
    "    #print(w); print('-------')\n",
    "    #print(update_vars); print('-------')\n",
    "    #print(update_bias); print('-------')\n",
    "    w[1:] = update_vars + w[1:]\n",
    "    w[0] = update_bias + w[0]\n",
    "    #print(w)\n",
    "    return(w)\n",
    "    \n",
    "w_updated = update_weights(y_train,X_train,random_weights(X_train))\n",
    "print(w_updated)\n",
    "\n"
   ]
  },
  {
   "cell_type": "markdown",
   "metadata": {},
   "source": [
    "> **Ex. 12.1.7**: Use the code below to initialize weights `w` at zero given feature set `X`. Notice how we include an extra weight that includes the bias term. Set the learning rate `eta` to 0.001. Make a loop with 50 iterations where you iteratively apply your weight updating function. \n",
    "\n",
    ">```python\n",
    "w = np.zeros(1+X.shape[1])\n",
    "```"
   ]
  },
  {
   "cell_type": "code",
   "execution_count": 145,
   "metadata": {},
   "outputs": [
    {
     "name": "stdout",
     "output_type": "stream",
     "text": [
      "0\n",
      "[-0.35077 -7.67662 -1.00985 -0.12751 -0.246   -0.03226 -0.12621 -0.12326\n",
      " -0.27225]\n",
      "0\n",
      "[ -19.19264248 -443.43983787  -56.09211184   -6.33789107  -13.14537859\n",
      "   -1.55886021   -7.54414218   -6.32676467  -15.02587116]\n",
      "0\n",
      "[ -1086.62143583 -25157.35076411  -3177.53820129   -357.45243244\n",
      "   -743.53112418    -87.82814633   -428.49131311   -357.29603446\n",
      "   -850.99139265]\n",
      "0\n",
      "[  -61622.51931029 -1426759.52163256  -180201.60489792   -20269.05860049\n",
      "   -42164.62993056    -4980.10901841   -24301.94108667   -20260.91946061\n",
      "   -48260.32326002]\n",
      "0\n",
      "[ -3494797.550062   -80915917.52141488 -10219776.29367745\n",
      "  -1149516.04311705  -2391280.69987315   -282436.03960378\n",
      "  -1378238.72509257  -1149055.44647411  -2736988.00111672]\n"
     ]
    }
   ],
   "source": [
    "# [Answer to Ex. 12.1.7]\n",
    "\n",
    "# NOT DONE\n",
    "\n",
    "w = np.zeros(1+X.shape[1])\n",
    "n = 0\n",
    "\n",
    "while n < 5:\n",
    "    w = update_weights(y_train, X_train, w)\n",
    "    print(w)\n",
    "    n += 1"
   ]
  },
  {
   "cell_type": "markdown",
   "metadata": {},
   "source": [
    "> **Ex. 12.1.8**: Make a function to compute the mean squared error. Alter the loop so it makes 100 iterations and computes the MSE for test and train after each iteration, plot these in one figure. \n",
    "\n",
    ">> Hint: You can use the following code to check that your model works:\n",
    ">>```python\n",
    "from sklearn.linear_model import LinearRegression\n",
    "reg = LinearRegression()\n",
    "reg.fit(X_train, y_train)\n",
    "assert((w[1:] - reg.coef_).sum() < 0.01)\n",
    "```"
   ]
  },
  {
   "cell_type": "code",
   "execution_count": 31,
   "metadata": {},
   "outputs": [],
   "source": [
    "# [Answer to Ex. 12.1.8]\n",
    "from sklearn.metrics import mean_squared_error as mse\n",
    "\n",
    "test_mse = []\n",
    "train_mse = []\n",
    "parameters = []\n",
    "degrees = range(n_degrees+1)"
   ]
  },
  {
   "cell_type": "markdown",
   "metadata": {},
   "source": [
    "> **Ex. 12.1.9 (BONUS)**: Implement your linear regression model as a class."
   ]
  },
  {
   "cell_type": "markdown",
   "metadata": {},
   "source": [
    "> **Ex. 12.1.10 (BONUS)**: Is it possible to adjust our linear model to become a Lasso? Is there a simple fix?"
   ]
  },
  {
   "cell_type": "markdown",
   "metadata": {},
   "source": [
    "## Exercise Section 12.2: Houseprices\n",
    "In this example we will try to predict houseprices using a lot of variable (or features as they are called in Machine Learning). We are going to work with Kaggle's dataset on house prices, see information [here](https://www.kaggle.com/c/house-prices-advanced-regression-techniques). Kaggle is an organization that hosts competitions in building predictive models."
   ]
  },
  {
   "cell_type": "markdown",
   "metadata": {},
   "source": [
    "> **Ex. 12.2.0:** Load the california housing data with scikit-learn using the code below. Inspect the data set. "
   ]
  },
  {
   "cell_type": "code",
   "execution_count": 46,
   "metadata": {},
   "outputs": [
    {
     "name": "stdout",
     "output_type": "stream",
     "text": [
      "       MedInc  HouseAge  AveRooms  AveBedrms  Population  AveOccup\n",
      "10089  4.0893      35.0  5.267760   0.983607      1056.0  2.885246\n",
      "2136   3.7578      24.0  5.061538   0.957692       781.0  3.003846\n",
      "17546  2.4306      39.0  4.899209   1.069170      1990.0  3.932806\n"
     ]
    }
   ],
   "source": [
    "from sklearn.datasets import fetch_california_housing\n",
    "from sklearn.model_selection import train_test_split\n",
    "\n",
    "cal_house = fetch_california_housing()    \n",
    "X = pd.DataFrame(data=cal_house['data'], \n",
    "                 columns=cal_house['feature_names'])\\\n",
    "             .iloc[:,:-2]\n",
    "y = cal_house['target']\n",
    "\n",
    "X_train, X_test, y_train, y_test = train_test_split(X, y, test_size=.5, random_state=1)\n",
    "\n",
    "print(X_train.head(3))"
   ]
  },
  {
   "cell_type": "markdown",
   "metadata": {},
   "source": [
    "\n",
    "\n",
    "> **Ex.12.2.1**: Generate interactions between all features to third degree, make sure you **exclude** the bias/intercept term. How many variables are there? Will OLS fail? \n",
    "\n",
    "> After making interactions rescale the features to have zero mean, unit std. deviation. Should you use the distribution of the training data to rescale the test data?  \n",
    "\n",
    ">> *Hint 1*: Try importing `PolynomialFeatures` from `sklearn.preprocessing`\n",
    "\n",
    ">> *Hint 2*: If in doubt about which distribution to scale, you may read [this post](https://stats.stackexchange.com/questions/174823/how-to-apply-standardization-normalization-to-train-and-testset-if-prediction-i)."
   ]
  },
  {
   "cell_type": "code",
   "execution_count": 48,
   "metadata": {},
   "outputs": [],
   "source": [
    "# [Answer to Ex. 12.2.1]"
   ]
  },
  {
   "cell_type": "markdown",
   "metadata": {},
   "source": [
    "> **Ex.12.2.2**: Estimate the Lasso model on the train data set, using values of $\\lambda$ in the range from $10^{-4}$ to $10^4$. For each $\\lambda$  calculate and save the Root Mean Squared Error (RMSE) for the test and train data. \n",
    "\n",
    "> *Hint*: use `logspace` in numpy to create the range.\n"
   ]
  },
  {
   "cell_type": "code",
   "execution_count": 101,
   "metadata": {},
   "outputs": [],
   "source": [
    "# [Answer to Ex. 12.2.2]"
   ]
  },
  {
   "cell_type": "markdown",
   "metadata": {},
   "source": [
    "> **Ex.12.2.3**: Make a plot with on the x-axis and the RMSE measures on the y-axis. What happens to RMSE for train and test data as $\\lambda$ increases? The x-axis should be log scaled. Which one are we interested in minimizing? \n",
    "\n",
    "> Bonus: Can you find the lambda that gives the lowest MSE-test score?"
   ]
  },
  {
   "cell_type": "code",
   "execution_count": 51,
   "metadata": {},
   "outputs": [],
   "source": [
    "# [Answer to Ex. 12.2.3]"
   ]
  }
 ],
 "metadata": {
  "kernelspec": {
   "display_name": "Python 3",
   "language": "python",
   "name": "python3"
  },
  "language_info": {
   "codemirror_mode": {
    "name": "ipython",
    "version": 3
   },
   "file_extension": ".py",
   "mimetype": "text/x-python",
   "name": "python",
   "nbconvert_exporter": "python",
   "pygments_lexer": "ipython3",
   "version": "3.6.5"
  },
  "nav_menu": {},
  "toc": {
   "navigate_menu": true,
   "number_sections": false,
   "sideBar": true,
   "threshold": 6,
   "toc_cell": false,
   "toc_section_display": "block",
   "toc_window_display": true
  }
 },
 "nbformat": 4,
 "nbformat_minor": 2
}
