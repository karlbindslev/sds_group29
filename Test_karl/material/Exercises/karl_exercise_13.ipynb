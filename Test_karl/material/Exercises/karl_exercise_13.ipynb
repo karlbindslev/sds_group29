{
 "cells": [
  {
   "cell_type": "markdown",
   "metadata": {},
   "source": [
    "> **Note:** In most sessions you will be solving exercises posed in a Jupyter notebook that looks like this one. Because you are cloning a Github repository that only we can push to, you should **NEVER EDIT** any of the files you pull from Github. Instead, what you should do, is either make a new notebook and write your solutions in there, or **make a copy of this notebook and save it somewhere else** on your computer, not inside the `sds` folder that you cloned, so you can write your answers in there. If you edit the notebook you pulled from Github, those edits (possible your solutions to the exercises) may be overwritten and lost the next time you pull from Github. This is important, so don't hesitate to ask if it is unclear."
   ]
  },
  {
   "cell_type": "markdown",
   "metadata": {
    "ExecuteTime": {
     "end_time": "2017-08-23T15:30:03.634114Z",
     "start_time": "2017-08-23T15:30:03.629294Z"
    }
   },
   "source": [
    "# Exercise Set 13: Model building process and model selection\n",
    "\n",
    "*Morning, August 21, 2018*\n",
    "\n",
    "In this Exercise Set 13 we will investigate how to build machine learning models using a formalize pipeline from preprocessed (i.e. tidy) data to a model.\n",
    "\n",
    "We import our standard stuff. Notice that we are not interested in seeing the convergence warning in scikit-learn so we suppress them for now."
   ]
  },
  {
   "cell_type": "code",
   "execution_count": 73,
   "metadata": {},
   "outputs": [],
   "source": [
    "import warnings\n",
    "from sklearn.exceptions import ConvergenceWarning\n",
    "warnings.filterwarnings(action='ignore', category=ConvergenceWarning)\n",
    "\n",
    "import matplotlib.pyplot as plt\n",
    "import numpy as np \n",
    "import pandas as pd \n",
    "import seaborn as sns"
   ]
  },
  {
   "cell_type": "markdown",
   "metadata": {},
   "source": [
    "## Model validation\n",
    "\n",
    "In what follows we will regard the \"train\" data for two purposes. First we are interested in performing a model selection. Then with the selected model we estimate/train it on all the training data. \n",
    "\n",
    "\n",
    "> **Ex. 13.1.0:** Begin by reloading the housing dataset from Ex. 12.2.0 using the code below. "
   ]
  },
  {
   "cell_type": "code",
   "execution_count": 74,
   "metadata": {},
   "outputs": [
    {
     "name": "stdout",
     "output_type": "stream",
     "text": [
      "   MedInc  HouseAge  AveRooms  AveBedrms  Population  AveOccup\n",
      "0  8.3252      41.0  6.984127   1.023810       322.0  2.555556\n",
      "1  8.3014      21.0  6.238137   0.971880      2401.0  2.109842\n",
      "2  7.2574      52.0  8.288136   1.073446       496.0  2.802260\n",
      "3  5.6431      52.0  5.817352   1.073059       558.0  2.547945\n",
      "4  3.8462      52.0  6.281853   1.081081       565.0  2.181467\n",
      "[4.526 3.585 3.521 3.413 3.422 2.697 2.992 2.414 2.267 2.611]\n"
     ]
    }
   ],
   "source": [
    "from sklearn.datasets import fetch_california_housing\n",
    "from sklearn.model_selection import train_test_split\n",
    "\n",
    "cal_house = fetch_california_housing()    \n",
    "X = pd.DataFrame(data=cal_house['data'], \n",
    "                 columns=cal_house['feature_names'])\\\n",
    "             .iloc[:,:-2]\n",
    "y = cal_house['target']\n",
    "print(X.head())\n",
    "print(y[0:10])"
   ]
  },
  {
   "cell_type": "markdown",
   "metadata": {},
   "source": [
    "> **Ex. 13.1.1:** Make a for loop with 10 iterations where you:\n",
    "1. Split the input data into, train and test where the sample of test should be one third. (Set a new random state for each iteration of the loop, so each iteration makes a different split)\n",
    "2. Further split the training data  into to even sized bins; the first data is for training models and the other is for validation. \n",
    "3. Train a linear regression model with sub-training data. Compute the RMSE for out-of-sample predictions on test and validation data. Save the RMSE.\n",
    "\n",
    "> You should now have a 10x2 DataFrame with 10 RMSE from both the test data set and the train data set. Compute descriptive statistics of RMSE for the out-of-sample predictions on test and validation data. Are the simular?    \n",
    ">   They hopefuly are pretty simular. This shows us, that we can split the train data, and use this to fit the model. \n",
    "\n",
    ">> *Hint*: you can reuse any code used to solve exercises 12.2.X."
   ]
  },
  {
   "cell_type": "code",
   "execution_count": 75,
   "metadata": {},
   "outputs": [
    {
     "name": "stdout",
     "output_type": "stream",
     "text": [
      "   Validation   Test\n",
      "0       0.635  0.616\n",
      "1       0.610  0.661\n",
      "2       0.628  0.632\n",
      "3       0.605  0.618\n",
      "4      15.205  6.274\n",
      "5       1.512  4.746\n",
      "6       0.642  0.625\n",
      "7       0.635  0.598\n",
      "8       0.614  0.629\n",
      "9       0.659  0.728\n",
      "   Validation   Test\n",
      "0       0.635  0.616\n",
      "1       0.610  0.661\n",
      "2       0.628  0.632\n",
      "3       0.605  0.618\n",
      "4      15.205  6.274\n",
      "5       1.512  4.746\n",
      "6       0.642  0.625\n",
      "7       0.635  0.598\n",
      "8       0.614  0.629\n",
      "9       0.659  0.728\n"
     ]
    }
   ],
   "source": [
    "# [Answer to Ex. 13.1.1]\n",
    "from sklearn.linear_model import Lasso, LinearRegression\n",
    "from sklearn.preprocessing import PolynomialFeatures, StandardScaler\n",
    "from sklearn.pipeline import make_pipeline\n",
    "from sklearn.metrics import mean_squared_error as mse\n",
    "\n",
    "pipe_linear = make_pipeline(LinearRegression())\n",
    "\n",
    "RMSE_val = []\n",
    "RMSE_test = []\n",
    "\n",
    "for i in range(1,11):\n",
    "    # splitting into development (2/3) and test data (1/3)\n",
    "    X_dev, X_test, y_dev, y_test = train_test_split(X, y, test_size=1/3, random_state=i)\n",
    "    # splitting development into train (1/3) and validation (1/3)\n",
    "    X_train, X_val, y_train, y_val = train_test_split(X_dev, y_dev, test_size=1/2, random_state=i)\n",
    "    pipe_linear.fit(X_train, y_train)\n",
    "    RMSE_val.append(round(mse(pipe_linear.predict(X_val),y_val), 3))\n",
    "    RMSE_test.append(round(mse(pipe_linear.predict(X_test),y_test), 3))\n",
    "    \n",
    "        \n",
    "RMSE_df = pd.DataFrame({'Validation':RMSE_val, 'Test':RMSE_test})\n",
    "print(RMSE_df)\n",
    "#print(RMSE)\n",
    "print(RMSE_df.head(10))"
   ]
  },
  {
   "cell_type": "markdown",
   "metadata": {},
   "source": [
    "## Model building"
   ]
  },
  {
   "cell_type": "markdown",
   "metadata": {},
   "source": [
    "> **Ex. 13.1.2:** Construct a model building pipeline which \n",
    "\n",
    "> 1. adds polynomial features without bias;\n",
    "> 1. scales the features to mean zero and unit std. \n",
    "> 1. estimates a Lasso model\n",
    "\n",
    ">> *Hint:* a modelling pipeline can be constructed with `make_pipeline` from `sklearn.pipeline`."
   ]
  },
  {
   "cell_type": "code",
   "execution_count": 76,
   "metadata": {},
   "outputs": [
    {
     "name": "stdout",
     "output_type": "stream",
     "text": [
      "[0.658726546734106, 0.6585731534457759, 0.658301706410954, 0.6578239462427644, 0.6569871334354807, 0.6555417894145541, 0.6531093268473812, 0.6492116568364986, 0.643617326355236, 0.6378877034777192, 0.6407652919879558, 0.6411618733783598, 0.6548707182673363, 0.6997485446809155, 0.7782771498636788, 0.9888705565654492, 1.293734309577891, 1.293734309577891, 1.293734309577891, 1.293734309577891, 1.293734309577891, 1.293734309577891, 1.293734309577891, 1.293734309577891, 1.293734309577891, 1.293734309577891, 1.293734309577891, 1.293734309577891, 1.293734309577891, 1.293734309577891, 1.293734309577891, 1.293734309577891, 1.293734309577891]\n",
      "[0.7277304108895697, 0.7274222620245782, 0.7268763202665885, 0.7259113018194504, 0.7242159161951764, 0.7212646337301869, 0.7162137251988034, 0.7078575888747219, 0.6949903527450726, 0.678408729509855, 0.6704357627634729, 0.6636140858926931, 0.6839262961063322, 0.7315738927553227, 0.8136566843037268, 1.0348028168741916, 1.3558249085474579, 1.3558249085474579, 1.3558249085474579, 1.3558249085474579, 1.3558249085474579, 1.3558249085474579, 1.3558249085474579, 1.3558249085474579, 1.3558249085474579, 1.3558249085474579, 1.3558249085474579, 1.3558249085474579, 1.3558249085474579, 1.3558249085474579, 1.3558249085474579, 1.3558249085474579, 1.3558249085474579]\n",
      "    Validation      Test\n",
      "0     0.658727  0.727730\n",
      "1     0.658573  0.727422\n",
      "2     0.658302  0.726876\n",
      "3     0.657824  0.725911\n",
      "4     0.656987  0.724216\n",
      "5     0.655542  0.721265\n",
      "6     0.653109  0.716214\n",
      "7     0.649212  0.707858\n",
      "8     0.643617  0.694990\n",
      "9     0.637888  0.678409\n",
      "10    0.640765  0.670436\n",
      "11    0.641162  0.663614\n",
      "12    0.654871  0.683926\n",
      "13    0.699749  0.731574\n",
      "14    0.778277  0.813657\n",
      "15    0.988871  1.034803\n",
      "16    1.293734  1.355825\n",
      "17    1.293734  1.355825\n",
      "18    1.293734  1.355825\n",
      "19    1.293734  1.355825\n"
     ]
    }
   ],
   "source": [
    "# [Answer to Ex. 13.1.2]\n",
    "\n",
    "perform_val = []\n",
    "perform_test = []\n",
    "lambdas = np.logspace(-4, 4, 33)\n",
    "\n",
    "for lambda_ in lambdas:\n",
    "    pipe_lasso = make_pipeline(#PolynomialFeatures(include_bias=False),   # Tilføjer led af 2. (måske højere) orden.\n",
    "                               StandardScaler(),   #Skalerer data\n",
    "                               Lasso(alpha=lambda_, random_state=3))  \n",
    "    pipe_lasso.fit(X_train, y_train)\n",
    "    y_pred_val = pipe_lasso.predict(X_val)\n",
    "    y_pred_test = pipe_lasso.predict(X_test)\n",
    "    \n",
    "    perform_val.append(mse(y_pred_val, y_val))\n",
    "    perform_test.append(mse(y_pred_test, y_test))\n",
    "    \n",
    "#hyperparam_perform = pd.Series(perform,index=lambdas)\n",
    "\n",
    "perform_df = pd.DataFrame({'Validation' : perform_val, 'Test' : perform_test})\n",
    "print(perform_val)\n",
    "print(perform_test)\n",
    "print(perform_df.head(20))\n",
    "\n",
    "#print(np.logspace(-4, 4, 33))"
   ]
  },
  {
   "cell_type": "markdown",
   "metadata": {},
   "source": [
    "## Cross validation\n",
    "In machine learning, we have two types of parameters: those that are learned from\n",
    "the training data, for example, the weights in logistic regression, and the parameters\n",
    "of a learning algorithm that are optimized separately. The latter are the tuning\n",
    "parameters, also called *hyperparameters*, of a model, for example, the regularization\n",
    "parameter in logistic regression or the depth parameter of a decision tree.\n",
    "  \n",
    "   \n",
    "When we want to optimize over both normal parameters and hyperparameteres we do this using nested loops (two-layered cross validation). In outer loop we vary the hyperparameters, and then in the inner loop we do cross validation for the model with the specific selection of hyperparameters. This way we can find the model, with the lowest mean MSE. "
   ]
  },
  {
   "cell_type": "markdown",
   "metadata": {},
   "source": [
    "> **Ex. 13.1.3:**\n",
    "Run a Lasso regression using the Pipeline from `Ex 13.1.2`. In the outer loop searching through the lambdas specified below. \n",
    "In the inner loop make 5 fold cross validation on the selected model and store the *average* MSE for each fold. Which lambda gives the lowest test MSE?\n",
    "\n",
    "\n",
    "> ```python \n",
    "lambdas =  np.logspace(-4, 4, 12)\n",
    "```\n",
    "\n",
    ">> *Hint:* `KFold` in `sklearn.model_selection` may be useful."
   ]
  },
  {
   "cell_type": "code",
   "execution_count": 103,
   "metadata": {},
   "outputs": [
    {
     "name": "stdout",
     "output_type": "stream",
     "text": [
      "<class 'numpy.ndarray'>\n",
      "13760\n",
      "<class 'numpy.ndarray'>\n",
      "13760\n",
      "[[3.88640000e+00 3.30000000e+01 4.21751412e+00 9.35028249e-01\n",
      "  1.57100000e+03 4.43785311e+00]\n",
      " [4.04260000e+00 1.50000000e+01 6.88480392e+00 1.10294118e+00\n",
      "  1.26700000e+03 3.10539216e+00]\n",
      " [4.99900000e-01 2.90000000e+01 2.37327189e+00 1.05529954e+00\n",
      "  2.69000000e+03 1.23963134e+01]\n",
      " ...\n",
      " [5.53360000e+00 6.00000000e+00 4.90533563e+00 9.65576592e-01\n",
      "  2.16000000e+03 3.71772806e+00]\n",
      " [2.20590000e+00 3.50000000e+01 2.74849095e+00 9.97987928e-01\n",
      "  2.16000000e+03 4.34607646e+00]\n",
      " [2.67630000e+00 1.60000000e+01 3.95301028e+00 1.09985316e+00\n",
      "  1.67400000e+03 2.45814978e+00]]\n",
      "[1.00000000e-04 5.33669923e-04 2.84803587e-03 1.51991108e-02\n",
      " 8.11130831e-02 4.32876128e-01 2.31012970e+00 1.23284674e+01\n",
      " 6.57933225e+01 3.51119173e+02 1.87381742e+03 1.00000000e+04]\n",
      "12\n"
     ]
    }
   ],
   "source": [
    "\n",
    "print(type(y_dev))\n",
    "print(len(y_dev))\n",
    "print(type(X_dev))\n",
    "print(len(X_dev))\n",
    "print(X_dev)\n",
    "print(lambdas)\n",
    "print(len(mseCV))\n"
   ]
  },
  {
   "cell_type": "code",
   "execution_count": 138,
   "metadata": {},
   "outputs": [
    {
     "name": "stdout",
     "output_type": "stream",
     "text": [
      "[1.00000000e-04 5.33669923e-04 2.84803587e-03 1.51991108e-02\n",
      " 8.11130831e-02 4.32876128e-01 2.31012970e+00 1.23284674e+01\n",
      " 6.57933225e+01 3.51119173e+02 1.87381742e+03 1.00000000e+04]\n",
      "------\n",
      "[26.727605302803166, 0.49873874836689375, 0.5643463612209814, 0.5137438688379456, 0.6920419086209986]\n",
      "               MSE\n",
      "Lambda            \n",
      "0.081113  0.658859\n"
     ]
    }
   ],
   "source": [
    "# [Answer to Ex. 13.1.3]\n",
    "from sklearn.model_selection import KFold\n",
    "\n",
    "# For some reason, X_dev was a df and had to be an array\n",
    "X_dev = np.array(X_dev)\n",
    "\n",
    "lambdas =  np.logspace(-4, 4, 12)\n",
    "print(lambdas)\n",
    "print('------')\n",
    "kfolds = KFold(n_splits = 5)\n",
    "mseCV = []\n",
    "\n",
    "# For each lambda a model is fitted for each of the K=5 folds. The models are used to predict\n",
    "# the valuation set of y's using the valuation set of X's. The mean squared errors are calculated\n",
    "# and appended to MSECV.\n",
    "for lambda_ in lambdas:\n",
    "    pipe_lassoCV = make_pipeline(PolynomialFeatures(degree=3, include_bias=False),\n",
    "                                 StandardScaler(),\n",
    "                                 Lasso(alpha=lambda_, random_state=1))    \n",
    "    mseCV_ = []\n",
    "    \n",
    "    for train_idx, val_idx in kfolds.split(X_dev, y_dev):\n",
    "        X_train, y_train = X_dev[train_idx], y_dev[train_idx]\n",
    "        X_val, y_val = X_dev[val_idx], y_dev[val_idx] \n",
    "        pipe_lassoCV.fit(X_train, y_train)\n",
    "        mseCV_.append(mse(pipe_lassoCV.predict(X_val), y_val))    \n",
    "    mseCV.append(mseCV_)\n",
    "\n",
    "# Printing first list of MSE's in mseCV\n",
    "print(mseCV[0])\n",
    "\n",
    "# Creating data frame containing smallest average MSE and corresponding lambdas\n",
    "optimalCV = pd.DataFrame(mseCV, index=lambdas).mean(axis=1).nsmallest(1)\n",
    "optimalCV = pd.DataFrame(optimalCV, columns=['MSE'])\n",
    "optimalCV.index.name = 'Lambda'\n",
    "\n",
    "print(optimalCV)"
   ]
  },
  {
   "cell_type": "code",
   "execution_count": null,
   "metadata": {},
   "outputs": [],
   "source": []
  },
  {
   "cell_type": "markdown",
   "metadata": {},
   "source": [
    "> **Ex. 13.1.4:** *Automated Cross Validation in one dimension:* \n",
    "Now we want to repeat exercise 13.1.3 in a more automated fasion. \n",
    "When you are doing cross validation with one hyperparameter, you can automate the process by using `validation_curve` from `sklearn.model_selection`. Use this function to search through the values of lambda, and find the value of lambda, which give the lowest test error.  \n",
    "\n",
    "> check if you got the same output for the manual implementation (Ex. 13.1.3) and the automated implementation (Ex. 13.1.4) \n",
    "\n",
    "> *Hint:* You should set the scoring parameter to `neg_mean_squared_error`\n",
    "\n",
    "> BONUS: Plot the average MSE-test and MSE-train against the different values of lambda. (*Hint*: Use logarithmic axes, and lambda as index)"
   ]
  },
  {
   "cell_type": "code",
   "execution_count": 11,
   "metadata": {},
   "outputs": [],
   "source": [
    "# [Answer to Ex. 13.1.4]"
   ]
  },
  {
   "cell_type": "markdown",
   "metadata": {},
   "source": [
    "When you have *more that one* hyperparameter, you will want to fit the model to all the possible combinations of hyperparameters. This is done in an approch called `Grid Search`, which is implementet in `sklearn.model_selection` as `GridSearchCV`\n",
    "\n",
    "> **Ex. 13.1.5:** To get to know `Grid Search` we want to implement it in one dimension. Using `GridSearchCV` implement the Lasso, with the same lambdas as before (`lambdas =  np.logspace(-4, 4, 12)`), 10-fold CV and (negative) mean squared error as the scoring variable. Which value of Lambda gives the lowest test error? "
   ]
  },
  {
   "cell_type": "code",
   "execution_count": 14,
   "metadata": {},
   "outputs": [],
   "source": [
    "# [Answer to Ex. 13.1.5]"
   ]
  },
  {
   "cell_type": "markdown",
   "metadata": {},
   "source": [
    "> **Ex. 13.1.6 BONUS** Expand the Lasso pipe from the last excercise with a Principal Component Analisys (PCA), and expand the Grid Search to searching in two dimensions (both along the values of lambda and the values of principal components (n_components)). Is `n_components` a hyperparameter? Which hyperparameters does the Grid Search select as the best?\n",
    "\n",
    "> NB. This might take a while to calculate. "
   ]
  },
  {
   "cell_type": "code",
   "execution_count": 16,
   "metadata": {},
   "outputs": [],
   "source": [
    "# [Answer to Ex. 13.1.6]"
   ]
  },
  {
   "cell_type": "markdown",
   "metadata": {},
   "source": [
    "> **Ex. 13.1.7 BONUS** repeat the previous now with RandomizedSearchCV with 20 iterations."
   ]
  },
  {
   "cell_type": "code",
   "execution_count": 18,
   "metadata": {},
   "outputs": [],
   "source": [
    "# [Answer to Ex. 13.1.7]"
   ]
  },
  {
   "cell_type": "markdown",
   "metadata": {},
   "source": [
    "\n",
    "\n",
    "> **Ex. 13.1.8 BONUS** read about nested cross validation. How might we implement this in answer 13.1.6?\n"
   ]
  },
  {
   "cell_type": "code",
   "execution_count": 20,
   "metadata": {},
   "outputs": [],
   "source": [
    "# [Answer to Ex. 13.1.8]"
   ]
  }
 ],
 "metadata": {
  "kernelspec": {
   "display_name": "Python 3",
   "language": "python",
   "name": "python3"
  },
  "language_info": {
   "codemirror_mode": {
    "name": "ipython",
    "version": 3
   },
   "file_extension": ".py",
   "mimetype": "text/x-python",
   "name": "python",
   "nbconvert_exporter": "python",
   "pygments_lexer": "ipython3",
   "version": "3.6.5"
  },
  "nav_menu": {},
  "toc": {
   "navigate_menu": true,
   "number_sections": false,
   "sideBar": true,
   "threshold": 6,
   "toc_cell": false,
   "toc_section_display": "block",
   "toc_window_display": true
  }
 },
 "nbformat": 4,
 "nbformat_minor": 2
}
