{
 "cells": [
  {
   "cell_type": "code",
   "execution_count": 15,
   "metadata": {},
   "outputs": [
    {
     "name": "stdout",
     "output_type": "stream",
     "text": [
      "    A  B\n",
      "i   1  2\n",
      "ii  3  4\n",
      "i     1\n",
      "ii    3\n",
      "Name: A, dtype: int64\n"
     ]
    },
    {
     "data": {
      "text/plain": [
       "B    0\n",
       "C    1\n",
       "A    2\n",
       "dtype: int64"
      ]
     },
     "execution_count": 15,
     "metadata": {},
     "output_type": "execute_result"
    }
   ],
   "source": [
    "# Lecture 4\n",
    "import numpy as np\n",
    "import pandas as pd\n",
    "\n",
    "# Create dataframe\n",
    "\n",
    "df = pd.DataFrame([[1,2], [3,4]],\n",
    "                  columns= ['A', 'B'],\n",
    "                  index = ['i', 'ii'])\n",
    "print(df)\n",
    "print(df['A'])\n",
    "\n",
    "# Create series\n",
    "\n",
    "L = [1, 'hej', True]\n",
    "\n",
    "my_series = pd.Series(L)\n",
    "my_series.to_dict()\n",
    "\n",
    "\n",
    "num_data = range(0,3)\n",
    "indices = ['B', 'C', 'A']\n",
    "my_series2 = pd.Series(num_data, index = indices)\n",
    "my_series2"
   ]
  },
  {
   "cell_type": "code",
   "execution_count": 24,
   "metadata": {},
   "outputs": [
    {
     "name": "stdout",
     "output_type": "stream",
     "text": [
      "[4 9 4]\n",
      "[4 9]\n",
      "4    2\n",
      "9    1\n",
      "dtype: int64\n"
     ]
    }
   ],
   "source": [
    "# Numeric operations\n",
    "\n",
    "my_arr1 = np.array([2,3,2])\n",
    "my_arr2 = my_arr1 ** 2\n",
    "print(my_arr2)\n",
    "\n",
    "my_arr1 + my_arr2\n",
    "\n",
    "#-----\n",
    "my_series4 = pd.Series(my_arr2)\n",
    "print(my_series4.unique())\n",
    "print(my_series4.value_counts())"
   ]
  },
  {
   "cell_type": "code",
   "execution_count": 27,
   "metadata": {},
   "outputs": [
    {
     "data": {
      "text/plain": [
       "0    True\n",
       "1    True\n",
       "2    True\n",
       "dtype: bool"
      ]
     },
     "execution_count": 27,
     "metadata": {},
     "output_type": "execute_result"
    }
   ],
   "source": [
    "# Boolean series\n",
    "\n",
    "my_series4 > 3\n",
    "\n"
   ]
  },
  {
   "cell_type": "code",
   "execution_count": 29,
   "metadata": {},
   "outputs": [
    {
     "data": {
      "text/plain": [
       "i     False\n",
       "ii    False\n",
       "dtype: bool"
      ]
     },
     "execution_count": 29,
     "metadata": {},
     "output_type": "execute_result"
    }
   ],
   "source": [
    "(df['A'] > 2) & (df['B'] <= 2)"
   ]
  },
  {
   "cell_type": "code",
   "execution_count": 32,
   "metadata": {},
   "outputs": [
    {
     "name": "stdout",
     "output_type": "stream",
     "text": [
      "0    4\n",
      "1    9\n",
      "2    4\n",
      "dtype: int64\n"
     ]
    },
    {
     "data": {
      "text/plain": [
       "1    9\n",
       "dtype: int64"
      ]
     },
     "execution_count": 32,
     "metadata": {},
     "output_type": "execute_result"
    }
   ],
   "source": [
    "print(my_series4)\n",
    "my_series4[my_series4 > 5]"
   ]
  },
  {
   "cell_type": "code",
   "execution_count": 33,
   "metadata": {},
   "outputs": [
    {
     "data": {
      "text/plain": [
       "0    0.153345\n",
       "1   -0.052585\n",
       "2    0.487260\n",
       "dtype: float64"
      ]
     },
     "execution_count": 33,
     "metadata": {},
     "output_type": "execute_result"
    }
   ],
   "source": [
    "n = 3\n",
    "arr = np.random.normal(size=[100])\n",
    "my_series7 = pd.Series(arr)\n",
    "my_series7.head(n)"
   ]
  },
  {
   "cell_type": "code",
   "execution_count": 36,
   "metadata": {},
   "outputs": [
    {
     "data": {
      "text/plain": [
       "10    1.356660\n",
       "11    0.168709\n",
       "12   -0.094076\n",
       "dtype: float64"
      ]
     },
     "execution_count": 36,
     "metadata": {},
     "output_type": "execute_result"
    }
   ],
   "source": [
    "#iloc\n",
    "\n",
    "arr = np.random.normal(size = 10**6)\n",
    "pd.Series(arr).iloc[10:13]\n",
    "#arr[10:13]\n",
    "\n"
   ]
  },
  {
   "cell_type": "code",
   "execution_count": 44,
   "metadata": {},
   "outputs": [
    {
     "name": "stdout",
     "output_type": "stream",
     "text": [
      "     a  b\n",
      "i    1  2\n",
      "ii   3  4\n",
      "iii  5  6\n",
      "----\n",
      "a    1\n",
      "b    2\n",
      "Name: i, dtype: int64\n",
      "----\n",
      "    a\n",
      "i   1\n",
      "ii  3\n"
     ]
    }
   ],
   "source": [
    "my_idx = ['i','ii','iii']\n",
    "my_cols = ['a','b']\n",
    "my_data = [[1,2],[3,4], [5,6]]\n",
    "my_df = pd.DataFrame(my_data, columns = my_cols, index = my_idx)\n",
    "print(my_df)\n",
    "print('----')\n",
    "print(my_df.loc['i'])\n",
    "print('----')\n",
    "\n",
    "# ------\n",
    "idx_keep = ['i', 'ii']\n",
    "cols_keep = ['a']\n",
    "print(my_df.loc[idx_keep, cols_keep])"
   ]
  },
  {
   "cell_type": "code",
   "execution_count": 46,
   "metadata": {},
   "outputs": [
    {
     "name": "stdout",
     "output_type": "stream",
     "text": [
      "   b\n",
      "a   \n",
      "1  2\n",
      "3  4\n",
      "5  6\n",
      "   b\n",
      "a   \n",
      "1  2\n",
      "3  4\n",
      "5  6\n"
     ]
    }
   ],
   "source": [
    "# Set index\n",
    "\n",
    "print(my_df.set_index('a'))\n",
    "my_df_copy = my_df.copy()    # Copy data frame\n",
    "my_df_copy.set_index('a', inplace = True)\n",
    "print(my_df_copy)"
   ]
  },
  {
   "cell_type": "code",
   "execution_count": 48,
   "metadata": {},
   "outputs": [
    {
     "name": "stdout",
     "output_type": "stream",
     "text": [
      "   a  b\n",
      "0  1  2\n",
      "1  3  4\n",
      "2  5  6\n"
     ]
    }
   ],
   "source": [
    "# Reset index\n",
    "\n",
    "print(my_df.reset_index(drop = True))"
   ]
  },
  {
   "cell_type": "code",
   "execution_count": 54,
   "metadata": {},
   "outputs": [
    {
     "name": "stdout",
     "output_type": "stream",
     "text": [
      "     A  B\n",
      "i    1  2\n",
      "ii   3  4\n",
      "iii  5  6\n",
      "----\n",
      "     a  b\n",
      "i    1  2\n",
      "ii   3  4\n",
      "iii  5  6\n"
     ]
    }
   ],
   "source": [
    "# Change column names\n",
    "\n",
    "print(my_df)\n",
    "print('----')\n",
    "my_df.columns = ['a','b']\n",
    "print(my_df)\n"
   ]
  },
  {
   "cell_type": "code",
   "execution_count": 58,
   "metadata": {},
   "outputs": [
    {
     "name": "stdout",
     "output_type": "stream",
     "text": [
      "     a  b\n",
      "i    1  3\n",
      "ii   3  3\n",
      "iii  5  3\n",
      "     a  b\n",
      "i    1  1\n",
      "ii   3  2\n",
      "iii  5  3\n"
     ]
    }
   ],
   "source": [
    "my_df['b'] = 3\n",
    "print(my_df)\n",
    "my_df['b'] = [1,2,3]\n",
    "print(my_df)"
   ]
  },
  {
   "cell_type": "code",
   "execution_count": 62,
   "metadata": {},
   "outputs": [
    {
     "data": {
      "text/html": [
       "<div>\n",
       "<style scoped>\n",
       "    .dataframe tbody tr th:only-of-type {\n",
       "        vertical-align: middle;\n",
       "    }\n",
       "\n",
       "    .dataframe tbody tr th {\n",
       "        vertical-align: top;\n",
       "    }\n",
       "\n",
       "    .dataframe thead th {\n",
       "        text-align: right;\n",
       "    }\n",
       "</style>\n",
       "<table border=\"1\" class=\"dataframe\">\n",
       "  <thead>\n",
       "    <tr style=\"text-align: right;\">\n",
       "      <th></th>\n",
       "      <th>a</th>\n",
       "      <th>b</th>\n",
       "    </tr>\n",
       "  </thead>\n",
       "  <tbody>\n",
       "    <tr>\n",
       "      <th>iii</th>\n",
       "      <td>5</td>\n",
       "      <td>3</td>\n",
       "    </tr>\n",
       "    <tr>\n",
       "      <th>ii</th>\n",
       "      <td>3</td>\n",
       "      <td>2</td>\n",
       "    </tr>\n",
       "    <tr>\n",
       "      <th>i</th>\n",
       "      <td>1</td>\n",
       "      <td>1</td>\n",
       "    </tr>\n",
       "  </tbody>\n",
       "</table>\n",
       "</div>"
      ],
      "text/plain": [
       "     a  b\n",
       "iii  5  3\n",
       "ii   3  2\n",
       "i    1  1"
      ]
     },
     "execution_count": 62,
     "metadata": {},
     "output_type": "execute_result"
    }
   ],
   "source": [
    "my_df.sort_values(by='a', ascending = False)"
   ]
  },
  {
   "cell_type": "code",
   "execution_count": null,
   "metadata": {},
   "outputs": [],
   "source": []
  }
 ],
 "metadata": {
  "kernelspec": {
   "display_name": "Python 3",
   "language": "python",
   "name": "python3"
  },
  "language_info": {
   "codemirror_mode": {
    "name": "ipython",
    "version": 3
   },
   "file_extension": ".py",
   "mimetype": "text/x-python",
   "name": "python",
   "nbconvert_exporter": "python",
   "pygments_lexer": "ipython3",
   "version": "3.6.5"
  }
 },
 "nbformat": 4,
 "nbformat_minor": 2
}
